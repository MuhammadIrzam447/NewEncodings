{
  "cells": [
    {
      "cell_type": "markdown",
      "metadata": {
        "id": "view-in-github",
        "colab_type": "text"
      },
      "source": [
        "<a href=\"https://colab.research.google.com/github/MuhammadIrzam447/NewEncodings/blob/main/Valid_30.ipynb\" target=\"_parent\"><img src=\"https://colab.research.google.com/assets/colab-badge.svg\" alt=\"Open In Colab\"/></a>"
      ]
    },
    {
      "cell_type": "markdown",
      "source": [
        "# Load Model\n"
      ],
      "metadata": {
        "id": "L47YXGj6RfJU"
      }
    },
    {
      "cell_type": "code",
      "source": [
        "# !pip install transformers evaluate datasets\n",
        "import requests\n",
        "import torch\n",
        "from PIL import Image\n",
        "from transformers import *\n",
        "from tqdm import tqdm"
      ],
      "metadata": {
        "id": "HTftvdBXRhTJ",
        "outputId": "1c62e970-7941-4119-f32a-5ba38f1b4e49",
        "colab": {
          "base_uri": "https://localhost:8080/"
        }
      },
      "execution_count": 1,
      "outputs": [
        {
          "output_type": "stream",
          "name": "stderr",
          "text": [
            "/usr/local/lib/python3.10/dist-packages/transformers/generation_utils.py:24: FutureWarning: Importing `GenerationMixin` from `src/transformers/generation_utils.py` is deprecated and will be removed in Transformers v5. Import as `from transformers import GenerationMixin` instead.\n",
            "  warnings.warn(\n",
            "/usr/local/lib/python3.10/dist-packages/transformers/generation_tf_utils.py:24: FutureWarning: Importing `TFGenerationMixin` from `src/transformers/generation_tf_utils.py` is deprecated and will be removed in Transformers v5. Import as `from transformers import TFGenerationMixin` instead.\n",
            "  warnings.warn(\n",
            "/usr/local/lib/python3.10/dist-packages/transformers/generation_flax_utils.py:24: FutureWarning: Importing `FlaxGenerationMixin` from `src/transformers/generation_flax_utils.py` is deprecated and will be removed in Transformers v5. Import as `from transformers import FlaxGenerationMixin` instead.\n",
            "  warnings.warn(\n",
            "Xformers is not installed correctly. If you want to use memory_efficient_attention to accelerate training use the following command to install Xformers\n",
            "pip install xformers.\n"
          ]
        }
      ]
    },
    {
      "cell_type": "code",
      "source": [
        "device = \"cuda\" if torch.cuda.is_available() else \"cpu\"\n",
        "print(device)"
      ],
      "metadata": {
        "id": "dPOyq7dZbgNA",
        "colab": {
          "base_uri": "https://localhost:8080/"
        },
        "outputId": "2431dd9f-8f7f-4a79-a2b6-69d48d19632f"
      },
      "execution_count": 2,
      "outputs": [
        {
          "output_type": "stream",
          "name": "stdout",
          "text": [
            "cuda\n"
          ]
        }
      ]
    },
    {
      "cell_type": "code",
      "source": [
        "model = ViTForImageClassification.from_pretrained(f\"/content/MMLearning/data/Models/Model-18/checkpoint-48000\").to(device)\n",
        "image_processor = ViTImageProcessor.from_pretrained(f\"/content/MMLearning/data/Models/Model-18/checkpoint-48000\")"
      ],
      "metadata": {
        "id": "S-XQj67uRnpo",
        "colab": {
          "base_uri": "https://localhost:8080/"
        },
        "outputId": "83396b91-edbd-4f69-d355-40ac2b866d27"
      },
      "execution_count": 3,
      "outputs": [
        {
          "output_type": "stream",
          "name": "stderr",
          "text": [
            "loading configuration file /content/MMLearning/data/Models/Model-18/checkpoint-48000/config.json\n",
            "Model config ViTConfig {\n",
            "  \"_name_or_path\": \"google/vit-base-patch16-224\",\n",
            "  \"architectures\": [\n",
            "    \"ViTForImageClassification\"\n",
            "  ],\n",
            "  \"attention_probs_dropout_prob\": 0.0,\n",
            "  \"encoder_stride\": 16,\n",
            "  \"hidden_act\": \"gelu\",\n",
            "  \"hidden_dropout_prob\": 0.0,\n",
            "  \"hidden_size\": 768,\n",
            "  \"id2label\": {\n",
            "    \"0\": \"apple_pie\",\n",
            "    \"1\": \"baby_back_ribs\",\n",
            "    \"2\": \"baklava\",\n",
            "    \"3\": \"beef_carpaccio\",\n",
            "    \"4\": \"beef_tartare\",\n",
            "    \"5\": \"beet_salad\",\n",
            "    \"6\": \"beignets\",\n",
            "    \"7\": \"bibimbap\",\n",
            "    \"8\": \"bread_pudding\",\n",
            "    \"9\": \"breakfast_burrito\",\n",
            "    \"10\": \"bruschetta\",\n",
            "    \"11\": \"caesar_salad\",\n",
            "    \"12\": \"cannoli\",\n",
            "    \"13\": \"caprese_salad\",\n",
            "    \"14\": \"carrot_cake\",\n",
            "    \"15\": \"ceviche\",\n",
            "    \"16\": \"cheese_plate\",\n",
            "    \"17\": \"cheesecake\",\n",
            "    \"18\": \"chicken_curry\",\n",
            "    \"19\": \"chicken_quesadilla\",\n",
            "    \"20\": \"chicken_wings\",\n",
            "    \"21\": \"chocolate_cake\",\n",
            "    \"22\": \"chocolate_mousse\",\n",
            "    \"23\": \"churros\",\n",
            "    \"24\": \"clam_chowder\",\n",
            "    \"25\": \"club_sandwich\",\n",
            "    \"26\": \"crab_cakes\",\n",
            "    \"27\": \"creme_brulee\",\n",
            "    \"28\": \"croque_madame\",\n",
            "    \"29\": \"cup_cakes\",\n",
            "    \"30\": \"deviled_eggs\",\n",
            "    \"31\": \"donuts\",\n",
            "    \"32\": \"dumplings\",\n",
            "    \"33\": \"edamame\",\n",
            "    \"34\": \"eggs_benedict\",\n",
            "    \"35\": \"escargots\",\n",
            "    \"36\": \"falafel\",\n",
            "    \"37\": \"filet_mignon\",\n",
            "    \"38\": \"fish_and_chips\",\n",
            "    \"39\": \"foie_gras\",\n",
            "    \"40\": \"french_fries\",\n",
            "    \"41\": \"french_onion_soup\",\n",
            "    \"42\": \"french_toast\",\n",
            "    \"43\": \"fried_calamari\",\n",
            "    \"44\": \"fried_rice\",\n",
            "    \"45\": \"frozen_yogurt\",\n",
            "    \"46\": \"garlic_bread\",\n",
            "    \"47\": \"gnocchi\",\n",
            "    \"48\": \"greek_salad\",\n",
            "    \"49\": \"grilled_cheese_sandwich\",\n",
            "    \"50\": \"grilled_salmon\",\n",
            "    \"51\": \"guacamole\",\n",
            "    \"52\": \"gyoza\",\n",
            "    \"53\": \"hamburger\",\n",
            "    \"54\": \"hot_and_sour_soup\",\n",
            "    \"55\": \"hot_dog\",\n",
            "    \"56\": \"huevos_rancheros\",\n",
            "    \"57\": \"hummus\",\n",
            "    \"58\": \"ice_cream\",\n",
            "    \"59\": \"lasagna\",\n",
            "    \"60\": \"lobster_bisque\",\n",
            "    \"61\": \"lobster_roll_sandwich\",\n",
            "    \"62\": \"macaroni_and_cheese\",\n",
            "    \"63\": \"macarons\",\n",
            "    \"64\": \"miso_soup\",\n",
            "    \"65\": \"mussels\",\n",
            "    \"66\": \"nachos\",\n",
            "    \"67\": \"omelette\",\n",
            "    \"68\": \"onion_rings\",\n",
            "    \"69\": \"oysters\",\n",
            "    \"70\": \"pad_thai\",\n",
            "    \"71\": \"paella\",\n",
            "    \"72\": \"pancakes\",\n",
            "    \"73\": \"panna_cotta\",\n",
            "    \"74\": \"peking_duck\",\n",
            "    \"75\": \"pho\",\n",
            "    \"76\": \"pizza\",\n",
            "    \"77\": \"pork_chop\",\n",
            "    \"78\": \"poutine\",\n",
            "    \"79\": \"prime_rib\",\n",
            "    \"80\": \"pulled_pork_sandwich\",\n",
            "    \"81\": \"ramen\",\n",
            "    \"82\": \"ravioli\",\n",
            "    \"83\": \"red_velvet_cake\",\n",
            "    \"84\": \"risotto\",\n",
            "    \"85\": \"samosa\",\n",
            "    \"86\": \"sashimi\",\n",
            "    \"87\": \"scallops\",\n",
            "    \"88\": \"seaweed_salad\",\n",
            "    \"89\": \"shrimp_and_grits\",\n",
            "    \"90\": \"spaghetti_bolognese\",\n",
            "    \"91\": \"spaghetti_carbonara\",\n",
            "    \"92\": \"spring_rolls\",\n",
            "    \"93\": \"steak\",\n",
            "    \"94\": \"strawberry_shortcake\",\n",
            "    \"95\": \"sushi\",\n",
            "    \"96\": \"tacos\",\n",
            "    \"97\": \"takoyaki\",\n",
            "    \"98\": \"tiramisu\",\n",
            "    \"99\": \"tuna_tartare\",\n",
            "    \"100\": \"waffles\"\n",
            "  },\n",
            "  \"image_size\": 224,\n",
            "  \"initializer_range\": 0.02,\n",
            "  \"intermediate_size\": 3072,\n",
            "  \"label2id\": {\n",
            "    \"apple_pie\": \"0\",\n",
            "    \"baby_back_ribs\": \"1\",\n",
            "    \"baklava\": \"2\",\n",
            "    \"beef_carpaccio\": \"3\",\n",
            "    \"beef_tartare\": \"4\",\n",
            "    \"beet_salad\": \"5\",\n",
            "    \"beignets\": \"6\",\n",
            "    \"bibimbap\": \"7\",\n",
            "    \"bread_pudding\": \"8\",\n",
            "    \"breakfast_burrito\": \"9\",\n",
            "    \"bruschetta\": \"10\",\n",
            "    \"caesar_salad\": \"11\",\n",
            "    \"cannoli\": \"12\",\n",
            "    \"caprese_salad\": \"13\",\n",
            "    \"carrot_cake\": \"14\",\n",
            "    \"ceviche\": \"15\",\n",
            "    \"cheese_plate\": \"16\",\n",
            "    \"cheesecake\": \"17\",\n",
            "    \"chicken_curry\": \"18\",\n",
            "    \"chicken_quesadilla\": \"19\",\n",
            "    \"chicken_wings\": \"20\",\n",
            "    \"chocolate_cake\": \"21\",\n",
            "    \"chocolate_mousse\": \"22\",\n",
            "    \"churros\": \"23\",\n",
            "    \"clam_chowder\": \"24\",\n",
            "    \"club_sandwich\": \"25\",\n",
            "    \"crab_cakes\": \"26\",\n",
            "    \"creme_brulee\": \"27\",\n",
            "    \"croque_madame\": \"28\",\n",
            "    \"cup_cakes\": \"29\",\n",
            "    \"deviled_eggs\": \"30\",\n",
            "    \"donuts\": \"31\",\n",
            "    \"dumplings\": \"32\",\n",
            "    \"edamame\": \"33\",\n",
            "    \"eggs_benedict\": \"34\",\n",
            "    \"escargots\": \"35\",\n",
            "    \"falafel\": \"36\",\n",
            "    \"filet_mignon\": \"37\",\n",
            "    \"fish_and_chips\": \"38\",\n",
            "    \"foie_gras\": \"39\",\n",
            "    \"french_fries\": \"40\",\n",
            "    \"french_onion_soup\": \"41\",\n",
            "    \"french_toast\": \"42\",\n",
            "    \"fried_calamari\": \"43\",\n",
            "    \"fried_rice\": \"44\",\n",
            "    \"frozen_yogurt\": \"45\",\n",
            "    \"garlic_bread\": \"46\",\n",
            "    \"gnocchi\": \"47\",\n",
            "    \"greek_salad\": \"48\",\n",
            "    \"grilled_cheese_sandwich\": \"49\",\n",
            "    \"grilled_salmon\": \"50\",\n",
            "    \"guacamole\": \"51\",\n",
            "    \"gyoza\": \"52\",\n",
            "    \"hamburger\": \"53\",\n",
            "    \"hot_and_sour_soup\": \"54\",\n",
            "    \"hot_dog\": \"55\",\n",
            "    \"huevos_rancheros\": \"56\",\n",
            "    \"hummus\": \"57\",\n",
            "    \"ice_cream\": \"58\",\n",
            "    \"lasagna\": \"59\",\n",
            "    \"lobster_bisque\": \"60\",\n",
            "    \"lobster_roll_sandwich\": \"61\",\n",
            "    \"macaroni_and_cheese\": \"62\",\n",
            "    \"macarons\": \"63\",\n",
            "    \"miso_soup\": \"64\",\n",
            "    \"mussels\": \"65\",\n",
            "    \"nachos\": \"66\",\n",
            "    \"omelette\": \"67\",\n",
            "    \"onion_rings\": \"68\",\n",
            "    \"oysters\": \"69\",\n",
            "    \"pad_thai\": \"70\",\n",
            "    \"paella\": \"71\",\n",
            "    \"pancakes\": \"72\",\n",
            "    \"panna_cotta\": \"73\",\n",
            "    \"peking_duck\": \"74\",\n",
            "    \"pho\": \"75\",\n",
            "    \"pizza\": \"76\",\n",
            "    \"pork_chop\": \"77\",\n",
            "    \"poutine\": \"78\",\n",
            "    \"prime_rib\": \"79\",\n",
            "    \"pulled_pork_sandwich\": \"80\",\n",
            "    \"ramen\": \"81\",\n",
            "    \"ravioli\": \"82\",\n",
            "    \"red_velvet_cake\": \"83\",\n",
            "    \"risotto\": \"84\",\n",
            "    \"samosa\": \"85\",\n",
            "    \"sashimi\": \"86\",\n",
            "    \"scallops\": \"87\",\n",
            "    \"seaweed_salad\": \"88\",\n",
            "    \"shrimp_and_grits\": \"89\",\n",
            "    \"spaghetti_bolognese\": \"90\",\n",
            "    \"spaghetti_carbonara\": \"91\",\n",
            "    \"spring_rolls\": \"92\",\n",
            "    \"steak\": \"93\",\n",
            "    \"strawberry_shortcake\": \"94\",\n",
            "    \"sushi\": \"95\",\n",
            "    \"tacos\": \"96\",\n",
            "    \"takoyaki\": \"97\",\n",
            "    \"tiramisu\": \"98\",\n",
            "    \"tuna_tartare\": \"99\",\n",
            "    \"waffles\": \"100\"\n",
            "  },\n",
            "  \"layer_norm_eps\": 1e-12,\n",
            "  \"model_type\": \"vit\",\n",
            "  \"num_attention_heads\": 12,\n",
            "  \"num_channels\": 3,\n",
            "  \"num_hidden_layers\": 12,\n",
            "  \"patch_size\": 16,\n",
            "  \"problem_type\": \"single_label_classification\",\n",
            "  \"qkv_bias\": true,\n",
            "  \"torch_dtype\": \"float32\",\n",
            "  \"transformers_version\": \"4.32.1\"\n",
            "}\n",
            "\n",
            "loading weights file /content/MMLearning/data/Models/Model-18/checkpoint-48000/pytorch_model.bin\n",
            "All model checkpoint weights were used when initializing ViTForImageClassification.\n",
            "\n",
            "All the weights of ViTForImageClassification were initialized from the model checkpoint at /content/MMLearning/data/Models/Model-18/checkpoint-48000.\n",
            "If your task is similar to the task the model of the checkpoint was trained on, you can already use ViTForImageClassification for predictions without further training.\n",
            "loading configuration file /content/MMLearning/data/Models/Model-18/checkpoint-48000/preprocessor_config.json\n",
            "Image processor ViTImageProcessor {\n",
            "  \"do_normalize\": true,\n",
            "  \"do_rescale\": true,\n",
            "  \"do_resize\": true,\n",
            "  \"image_mean\": [\n",
            "    0.5,\n",
            "    0.5,\n",
            "    0.5\n",
            "  ],\n",
            "  \"image_processor_type\": \"ViTImageProcessor\",\n",
            "  \"image_std\": [\n",
            "    0.5,\n",
            "    0.5,\n",
            "    0.5\n",
            "  ],\n",
            "  \"resample\": 2,\n",
            "  \"rescale_factor\": 0.00392156862745098,\n",
            "  \"size\": {\n",
            "    \"height\": 224,\n",
            "    \"width\": 224\n",
            "  }\n",
            "}\n",
            "\n"
          ]
        }
      ]
    },
    {
      "cell_type": "markdown",
      "source": [
        "# Standard Experiment"
      ],
      "metadata": {
        "id": "YDcxpk7uWLbk"
      }
    },
    {
      "cell_type": "code",
      "source": [
        "from datasets import load_dataset\n",
        "\n",
        "ds = load_dataset(\"imagefolder\", data_dir=\"/content/Dataset(s)/joint-food-101/test\", split=\"train\")"
      ],
      "metadata": {
        "id": "l0qEQ73bRr2q"
      },
      "execution_count": null,
      "outputs": []
    },
    {
      "cell_type": "code",
      "source": [
        "ds"
      ],
      "metadata": {
        "id": "DhVQICV0Y3OT"
      },
      "execution_count": null,
      "outputs": []
    },
    {
      "cell_type": "markdown",
      "source": [
        "# 100% Missing Modality Experiment"
      ],
      "metadata": {
        "id": "tNSGzVxwT8id"
      }
    },
    {
      "cell_type": "code",
      "source": [
        "from datasets import load_dataset\n",
        "\n",
        "ds = load_dataset(\"imagefolder\", data_dir=\"/content/Dataset(s)/jointHF-train+test_unseen/test\", split=\"train\")"
      ],
      "metadata": {
        "id": "9t3tUjEOobHx"
      },
      "execution_count": null,
      "outputs": []
    },
    {
      "cell_type": "code",
      "source": [
        "ds"
      ],
      "metadata": {
        "id": "2a8txJ5noazk"
      },
      "execution_count": null,
      "outputs": []
    },
    {
      "cell_type": "code",
      "source": [
        "# Use _3.png for Filtering out Encoded Images\n",
        "# Use _4.png for Filtering out Just Images\n",
        "\n",
        "import os\n",
        "def filter_funtion(example):\n",
        "    img = example[\"image\"]\n",
        "    filename = os.path.basename(img.filename)\n",
        "\n",
        "    return filename.endswith(\"_3.png\")"
      ],
      "metadata": {
        "id": "tmA7PAcIRsLs"
      },
      "execution_count": null,
      "outputs": []
    },
    {
      "cell_type": "code",
      "source": [
        "ds = ds.filter(filter_funtion)"
      ],
      "metadata": {
        "id": "Cg2lXK6iRshv"
      },
      "execution_count": null,
      "outputs": []
    },
    {
      "cell_type": "code",
      "source": [
        "ds"
      ],
      "metadata": {
        "id": "54yCsBF3dY-1"
      },
      "execution_count": null,
      "outputs": []
    },
    {
      "cell_type": "code",
      "source": [
        "# for i in range(0,10):\n",
        "#     sample = ds[i]\n",
        "#     img = sample[\"image\"]\n",
        "#     filename = os.path.basename(img.filename)\n",
        "#     print(f\"File Name: {filename}\")"
      ],
      "metadata": {
        "id": "TZkE_GLwbpPP"
      },
      "execution_count": null,
      "outputs": []
    },
    {
      "cell_type": "markdown",
      "source": [
        "# Partial Missing Modality Experiment"
      ],
      "metadata": {
        "id": "T4MxEdN6Z3-w"
      }
    },
    {
      "cell_type": "code",
      "source": [
        "from datasets import load_dataset\n",
        "from datasets import concatenate_datasets"
      ],
      "metadata": {
        "id": "MZqABTvOSOge"
      },
      "execution_count": null,
      "outputs": []
    },
    {
      "cell_type": "code",
      "source": [
        "# Load the Fused Dataset\n",
        "ds_f = load_dataset(\"imagefolder\", data_dir=\"/content/Dataset(s)/fused-ferramenta-val\", split=\"train\")"
      ],
      "metadata": {
        "id": "JCHbZm-9Z4g-"
      },
      "execution_count": null,
      "outputs": []
    },
    {
      "cell_type": "code",
      "source": [
        "ds_f"
      ],
      "metadata": {
        "id": "NIGDiWC5bdlG"
      },
      "execution_count": null,
      "outputs": []
    },
    {
      "cell_type": "code",
      "source": [
        "# Desired Percentage = Total - Missing\n",
        "import math\n",
        "desired_percentage = 0.9"
      ],
      "metadata": {
        "id": "NHvNJixxiWbG"
      },
      "execution_count": null,
      "outputs": []
    },
    {
      "cell_type": "code",
      "source": [
        "from collections import Counter\n",
        "\n",
        "class_counts = Counter(ds_f['label'])\n",
        "print(class_counts)"
      ],
      "metadata": {
        "id": "baC1KaBJedyb"
      },
      "execution_count": null,
      "outputs": []
    },
    {
      "cell_type": "code",
      "source": [
        "selected_indices = {label: [] for label in class_counts.keys()}\n",
        "print(selected_indices)"
      ],
      "metadata": {
        "id": "xaOkLcbQhoMu"
      },
      "execution_count": null,
      "outputs": []
    },
    {
      "cell_type": "code",
      "source": [
        "# Iterate through the dataset to select indices for each class\n",
        "for i, label in enumerate(ds_f[\"label\"]):\n",
        "    if len(selected_indices[label]) < math.ceil(class_counts[label] * desired_percentage):\n",
        "        selected_indices[label].append(i)"
      ],
      "metadata": {
        "id": "WrsfQ_XIiAdj"
      },
      "execution_count": null,
      "outputs": []
    },
    {
      "cell_type": "code",
      "source": [
        "# selected_indices"
      ],
      "metadata": {
        "id": "GYovdX5niN8W"
      },
      "execution_count": null,
      "outputs": []
    },
    {
      "cell_type": "code",
      "source": [
        "# Flatten the selected indices list\n",
        "selected_indices = [idx for indices in selected_indices.values() for idx in indices]"
      ],
      "metadata": {
        "id": "CRZN72hmiAwd"
      },
      "execution_count": null,
      "outputs": []
    },
    {
      "cell_type": "code",
      "source": [
        "# selected_indices"
      ],
      "metadata": {
        "id": "gTieKxZtijB4"
      },
      "execution_count": null,
      "outputs": []
    },
    {
      "cell_type": "code",
      "source": [
        "# Filter the dataset to select the desired samples\n",
        "fused_ds = ds_f.select(selected_indices)"
      ],
      "metadata": {
        "id": "thqg4To-ijJj"
      },
      "execution_count": null,
      "outputs": []
    },
    {
      "cell_type": "code",
      "source": [
        "fused_ds"
      ],
      "metadata": {
        "id": "Xn7s-OsOikD7"
      },
      "execution_count": null,
      "outputs": []
    },
    {
      "cell_type": "code",
      "source": [],
      "metadata": {
        "id": "i6xM19xBQxDU"
      },
      "execution_count": null,
      "outputs": []
    },
    {
      "cell_type": "code",
      "source": [
        "# Load the Joint Dataset and Filter out Just the Images\n",
        "ds_joint = load_dataset(\"imagefolder\", data_dir=\"/content/Dataset(s)/joint-ferramenta/images-val\", split=\"train\")"
      ],
      "metadata": {
        "id": "sT6AjXHbZ_yQ"
      },
      "execution_count": null,
      "outputs": []
    },
    {
      "cell_type": "code",
      "source": [
        "# Use _4.png for Filtering out Just Images\n",
        "\n",
        "import os\n",
        "def filter_funtion(example):\n",
        "    img = example[\"image\"]\n",
        "    filename = os.path.basename(img.filename)\n",
        "\n",
        "    return filename.endswith(\"_4.png\")"
      ],
      "metadata": {
        "id": "mHZVYTkLXR0S"
      },
      "execution_count": null,
      "outputs": []
    },
    {
      "cell_type": "code",
      "source": [
        "ds_imgs = ds_joint.filter(filter_funtion)"
      ],
      "metadata": {
        "id": "VUKkW-RpXXAA"
      },
      "execution_count": null,
      "outputs": []
    },
    {
      "cell_type": "code",
      "source": [
        "ds_imgs"
      ],
      "metadata": {
        "id": "O2Z_OK3Abf5Z"
      },
      "execution_count": null,
      "outputs": []
    },
    {
      "cell_type": "code",
      "source": [
        "# for i in range(10,100):\n",
        "#     sample = ds_imgs[i]\n",
        "#     img = sample[\"image\"]\n",
        "#     filename = os.path.basename(img.filename)\n",
        "#     print(f\"File Name: {filename}\")"
      ],
      "metadata": {
        "id": "LI8vGBBvXjE6"
      },
      "execution_count": null,
      "outputs": []
    },
    {
      "cell_type": "code",
      "source": [
        "all_indices = range(len(ds_imgs))\n",
        "print(all_indices)"
      ],
      "metadata": {
        "id": "BUMZ6PnAlDII"
      },
      "execution_count": null,
      "outputs": []
    },
    {
      "cell_type": "code",
      "source": [
        "remaining_indices = [idx for idx in all_indices if idx not in selected_indices]"
      ],
      "metadata": {
        "id": "ua1ndJDRlEHq"
      },
      "execution_count": null,
      "outputs": []
    },
    {
      "cell_type": "code",
      "source": [
        "# remaining_indices"
      ],
      "metadata": {
        "id": "2Ow4V9M4mYc0"
      },
      "execution_count": null,
      "outputs": []
    },
    {
      "cell_type": "code",
      "source": [
        "missing_ds = ds_imgs.select(remaining_indices)"
      ],
      "metadata": {
        "id": "4CclYb-QlEaf"
      },
      "execution_count": null,
      "outputs": []
    },
    {
      "cell_type": "code",
      "source": [
        "missing_ds"
      ],
      "metadata": {
        "id": "nc4qLVlOlDbW"
      },
      "execution_count": null,
      "outputs": []
    },
    {
      "cell_type": "code",
      "source": [],
      "metadata": {
        "id": "EovV49T4lchq"
      },
      "execution_count": null,
      "outputs": []
    },
    {
      "cell_type": "code",
      "source": [
        "# Combine Both Datasets"
      ],
      "metadata": {
        "id": "M_V9NRBjVDyj"
      },
      "execution_count": null,
      "outputs": []
    },
    {
      "cell_type": "code",
      "source": [
        "ds = concatenate_datasets([fused_ds, missing_ds])"
      ],
      "metadata": {
        "id": "hcI42LE0SxJK"
      },
      "execution_count": null,
      "outputs": []
    },
    {
      "cell_type": "code",
      "source": [
        "ds"
      ],
      "metadata": {
        "id": "RdXZ8N_mTlp2"
      },
      "execution_count": null,
      "outputs": []
    },
    {
      "cell_type": "markdown",
      "source": [
        "# Pre-Processing and Final Validation Loop"
      ],
      "metadata": {
        "id": "owny-Ab5UDeL"
      }
    },
    {
      "cell_type": "code",
      "source": [
        "labels = ds.features[\"label\"]\n",
        "labels"
      ],
      "metadata": {
        "id": "aWw9vz58Rswv"
      },
      "execution_count": null,
      "outputs": []
    },
    {
      "cell_type": "code",
      "source": [
        "labels.int2str(ds[532][\"label\"])"
      ],
      "metadata": {
        "id": "Pcsmrr7CRs2U"
      },
      "execution_count": null,
      "outputs": []
    },
    {
      "cell_type": "code",
      "source": [
        "def transform(examples):\n",
        "  inputs = image_processor([img.convert(\"RGB\") for img in examples[\"image\"]], return_tensors=\"pt\")\n",
        "  inputs[\"labels\"] = examples[\"label\"]\n",
        "\n",
        "  return inputs"
      ],
      "metadata": {
        "id": "d53u7d5wSFTK"
      },
      "execution_count": null,
      "outputs": []
    },
    {
      "cell_type": "code",
      "source": [
        "dataset = ds.with_transform(transform)"
      ],
      "metadata": {
        "id": "INvdn194SKrH"
      },
      "execution_count": null,
      "outputs": []
    },
    {
      "cell_type": "code",
      "source": [
        "dataset"
      ],
      "metadata": {
        "id": "81wgIvz4jnY8"
      },
      "execution_count": null,
      "outputs": []
    },
    {
      "cell_type": "code",
      "source": [
        "for item in dataset:\n",
        "  print(item[\"pixel_values\"].shape)\n",
        "  print(item[\"labels\"])\n",
        "  break"
      ],
      "metadata": {
        "id": "xUKMYB72SKy6"
      },
      "execution_count": null,
      "outputs": []
    },
    {
      "cell_type": "code",
      "source": [
        "labels = ds.features[\"label\"].names\n",
        "labels"
      ],
      "metadata": {
        "id": "qSCm8qtpSK39"
      },
      "execution_count": null,
      "outputs": []
    },
    {
      "cell_type": "code",
      "source": [
        "import torch\n",
        "\n",
        "def collate_fn(batch):\n",
        "  return {\n",
        "      \"pixel_values\": torch.stack([x[\"pixel_values\"] for x in batch]),\n",
        "      \"labels\": torch.tensor([x[\"labels\"] for x in batch]),\n",
        "  }"
      ],
      "metadata": {
        "id": "NLK2ZaNMSWeO"
      },
      "execution_count": null,
      "outputs": []
    },
    {
      "cell_type": "code",
      "source": [
        "dataset"
      ],
      "metadata": {
        "id": "fWGtz6DHSW_Z"
      },
      "execution_count": null,
      "outputs": []
    },
    {
      "cell_type": "code",
      "source": [
        "from torch.utils.tensorboard import SummaryWriter\n",
        "from torch.optim import AdamW\n",
        "from torch.utils.data import DataLoader"
      ],
      "metadata": {
        "id": "JoC5e4rNSXG6"
      },
      "execution_count": null,
      "outputs": []
    },
    {
      "cell_type": "code",
      "source": [
        "batch_size = 32"
      ],
      "metadata": {
        "id": "WHwCv8BNQy1Z"
      },
      "execution_count": null,
      "outputs": []
    },
    {
      "cell_type": "code",
      "source": [
        "valid_dataset_loader = DataLoader(dataset, collate_fn=collate_fn, batch_size=batch_size, shuffle=False)"
      ],
      "metadata": {
        "id": "ksE7LXsjJHV1"
      },
      "execution_count": null,
      "outputs": []
    },
    {
      "cell_type": "code",
      "source": [
        "model = model.to(device)\n",
        "model.eval()\n",
        "predictions, labels = [], []\n",
        "# valid_loss = 0\n",
        "for batch in valid_dataset_loader:\n",
        "    pixel_values = batch[\"pixel_values\"].to(device)\n",
        "    label_ids = batch[\"labels\"].to(device)\n",
        "\n",
        "    outputs = model(pixel_values=pixel_values, labels=label_ids)\n",
        "\n",
        "    # loss = outputs.loss\n",
        "    # valid_loss += loss.item()\n",
        "\n",
        "    logits = outputs.logits.detach().cpu()\n",
        "\n",
        "    predictions.extend(logits.argmax(dim=-1).tolist())\n",
        "    labels.extend(label_ids.tolist())"
      ],
      "metadata": {
        "id": "Ds5lGgqNTCbT"
      },
      "execution_count": null,
      "outputs": []
    },
    {
      "cell_type": "code",
      "source": [
        "from sklearn.metrics import accuracy_score, precision_score, recall_score, f1_score, roc_auc_score, confusion_matrix, classification_report\n",
        "\n",
        "accuracy = accuracy_score(labels, predictions)\n",
        "precision = precision_score(labels, predictions, average='weighted')\n",
        "recall = recall_score(labels, predictions, average='weighted')\n",
        "f1 = f1_score(labels, predictions, average='weighted')\n",
        "AUROC_score = roc_auc_score(labels, predictions)"
      ],
      "metadata": {
        "id": "hXiw87_oSXVu"
      },
      "execution_count": null,
      "outputs": []
    },
    {
      "cell_type": "code",
      "source": [
        "print(\"Accuracy: \", accuracy)\n",
        "print(\"precision: \", precision)\n",
        "print(\"f1_score: \", f1)\n",
        "print(\"recall\", recall)\n",
        "print(\"AUROC_score: \", AUROC_score)"
      ],
      "metadata": {
        "id": "9bI8z4cdkY8V"
      },
      "execution_count": null,
      "outputs": []
    },
    {
      "cell_type": "code",
      "source": [
        "print(classification_report(labels, predictions))"
      ],
      "metadata": {
        "id": "CN74YVSNmi6C"
      },
      "execution_count": null,
      "outputs": []
    },
    {
      "cell_type": "code",
      "source": [
        "cm = confusion_matrix(labels, predictions)\n",
        "print(cm)"
      ],
      "metadata": {
        "id": "n245g_YoVnpE"
      },
      "execution_count": null,
      "outputs": []
    },
    {
      "cell_type": "markdown",
      "source": [
        "# Joint Representation Experiment\n"
      ],
      "metadata": {
        "id": "xdGUx2tqa9Ka"
      }
    },
    {
      "cell_type": "code",
      "source": [
        "from datasets import load_dataset\n",
        "\n",
        "ds = load_dataset(\"imagefolder\", data_dir=\"/content/MMLearning/data/food-101/clip/multimodal-clip-joint-img-et-flip/test\", split=\"train\")"
      ],
      "metadata": {
        "id": "B86BkdmibHqX",
        "colab": {
          "base_uri": "https://localhost:8080/",
          "height": 49,
          "referenced_widgets": [
            "2d462617f2ef4986a8fec591f2a7e787",
            "4825e8dbc19f49c2be431ed2294dfb30",
            "85a6a180316749bab250f5ad6115f6ca",
            "8ab33c37b3234c9a9add09c1409e25f9",
            "329b72a4189447aabdfcd41d9261b3f1",
            "f7dfc3958dee45ee961b11cf006e6306",
            "6b2034ef8025403d8f092d06c6732901",
            "00926bc500e243259544a650d3b583cc",
            "001da868f8214254bbfd905f0cc8c197",
            "d617c73bb35f462d8d6367157a8a8ec3",
            "6f6668cec8f642d68cf9eb11aa23d9ee"
          ]
        },
        "outputId": "eab6fec4-b232-4643-cb0e-8f3b98c3997f"
      },
      "execution_count": 4,
      "outputs": [
        {
          "output_type": "display_data",
          "data": {
            "text/plain": [
              "Resolving data files:   0%|          | 0/45432 [00:00<?, ?it/s]"
            ],
            "application/vnd.jupyter.widget-view+json": {
              "version_major": 2,
              "version_minor": 0,
              "model_id": "2d462617f2ef4986a8fec591f2a7e787"
            }
          },
          "metadata": {}
        }
      ]
    },
    {
      "cell_type": "code",
      "source": [
        "ds"
      ],
      "metadata": {
        "id": "ScMq-RSrbfv-",
        "colab": {
          "base_uri": "https://localhost:8080/"
        },
        "outputId": "984ef2c8-f206-4574-f3a0-a5eac31e5e30"
      },
      "execution_count": 5,
      "outputs": [
        {
          "output_type": "execute_result",
          "data": {
            "text/plain": [
              "Dataset({\n",
              "    features: ['image', 'label'],\n",
              "    num_rows: 45432\n",
              "})"
            ]
          },
          "metadata": {},
          "execution_count": 5
        }
      ]
    },
    {
      "cell_type": "code",
      "source": [
        "# Use _3.png for Filtering out Encoded Images\n",
        "# Use _4.png for Filtering out Just Images\n",
        "\n",
        "import os\n",
        "def filter_funtion(example):\n",
        "    img = example[\"image\"]\n",
        "    filename = os.path.basename(img.filename)\n",
        "\n",
        "    return filename.endswith(\"_3.jpg\")"
      ],
      "metadata": {
        "id": "N7odOyUDbgm3"
      },
      "execution_count": 6,
      "outputs": []
    },
    {
      "cell_type": "code",
      "source": [
        "ds_3 = ds.filter(filter_funtion)"
      ],
      "metadata": {
        "id": "ZEKEZa54bgyy"
      },
      "execution_count": 7,
      "outputs": []
    },
    {
      "cell_type": "code",
      "source": [
        "ds_3"
      ],
      "metadata": {
        "id": "J1MpL2Y-bg89",
        "colab": {
          "base_uri": "https://localhost:8080/"
        },
        "outputId": "615ebe6f-6372-4e1c-d349-0b3d49baec1f"
      },
      "execution_count": 8,
      "outputs": [
        {
          "output_type": "execute_result",
          "data": {
            "text/plain": [
              "Dataset({\n",
              "    features: ['image', 'label'],\n",
              "    num_rows: 22716\n",
              "})"
            ]
          },
          "metadata": {},
          "execution_count": 8
        }
      ]
    },
    {
      "cell_type": "code",
      "source": [
        "for i in range(0,5):\n",
        "    sample = ds_3[i]\n",
        "    img = sample[\"image\"]\n",
        "    filename = os.path.basename(img.filename)\n",
        "    print(f\"File Name: {filename}\")"
      ],
      "metadata": {
        "id": "oHdCk9fdboTu",
        "colab": {
          "base_uri": "https://localhost:8080/"
        },
        "outputId": "28bdafec-2ccf-4652-fbe1-35fa5a9c4a9c"
      },
      "execution_count": 9,
      "outputs": [
        {
          "output_type": "stream",
          "name": "stdout",
          "text": [
            "File Name: apple_pie_103_txt_3.jpg\n",
            "File Name: apple_pie_105_txt_3.jpg\n",
            "File Name: apple_pie_107_txt_3.jpg\n",
            "File Name: apple_pie_10_txt_3.jpg\n",
            "File Name: apple_pie_119_txt_3.jpg\n"
          ]
        }
      ]
    },
    {
      "cell_type": "markdown",
      "source": [
        "Image Dataset"
      ],
      "metadata": {
        "id": "pUR98hM6cShO"
      }
    },
    {
      "cell_type": "code",
      "source": [
        "# Use _3.png for Filtering out Encoded Images\n",
        "# Use _4.png for Filtering out Just Images\n",
        "\n",
        "import os\n",
        "def filter_funtion(example):\n",
        "    img = example[\"image\"]\n",
        "    filename = os.path.basename(img.filename)\n",
        "\n",
        "    return filename.endswith(\"_4.jpg\")"
      ],
      "metadata": {
        "id": "CrYlTFWrbybS"
      },
      "execution_count": 10,
      "outputs": []
    },
    {
      "cell_type": "code",
      "source": [
        "ds_4 = ds.filter(filter_funtion)"
      ],
      "metadata": {
        "id": "EQE1Pa3qb0C7"
      },
      "execution_count": 11,
      "outputs": []
    },
    {
      "cell_type": "code",
      "source": [
        "ds_4"
      ],
      "metadata": {
        "id": "764v9riwb0XK",
        "colab": {
          "base_uri": "https://localhost:8080/"
        },
        "outputId": "8165322c-a23a-40e4-9c82-d8768b4621ee"
      },
      "execution_count": 12,
      "outputs": [
        {
          "output_type": "execute_result",
          "data": {
            "text/plain": [
              "Dataset({\n",
              "    features: ['image', 'label'],\n",
              "    num_rows: 22716\n",
              "})"
            ]
          },
          "metadata": {},
          "execution_count": 12
        }
      ]
    },
    {
      "cell_type": "code",
      "source": [
        "for i in range(0,5):\n",
        "    sample = ds_4[i]\n",
        "    img = sample[\"image\"]\n",
        "    filename = os.path.basename(img.filename)\n",
        "    print(f\"File Name: {filename}\")"
      ],
      "metadata": {
        "id": "dy8VGOCKb5sB",
        "colab": {
          "base_uri": "https://localhost:8080/"
        },
        "outputId": "f15186af-543a-4b03-aa6b-891875709a11"
      },
      "execution_count": 13,
      "outputs": [
        {
          "output_type": "stream",
          "name": "stdout",
          "text": [
            "File Name: apple_pie_103_fused_4.jpg\n",
            "File Name: apple_pie_105_fused_4.jpg\n",
            "File Name: apple_pie_107_fused_4.jpg\n",
            "File Name: apple_pie_10_fused_4.jpg\n",
            "File Name: apple_pie_119_fused_4.jpg\n"
          ]
        }
      ]
    },
    {
      "cell_type": "markdown",
      "source": [
        "Pre-processing"
      ],
      "metadata": {
        "id": "1XTcE425cgcs"
      }
    },
    {
      "cell_type": "code",
      "source": [
        "labels = ds.features[\"label\"]\n",
        "labels"
      ],
      "metadata": {
        "id": "1f2eWYYfcJLh",
        "colab": {
          "base_uri": "https://localhost:8080/"
        },
        "outputId": "e30dc0fa-d6e9-4b67-a98f-99e816c4019c"
      },
      "execution_count": 14,
      "outputs": [
        {
          "output_type": "execute_result",
          "data": {
            "text/plain": [
              "ClassLabel(names=['apple_pie', 'baby_back_ribs', 'baklava', 'beef_carpaccio', 'beef_tartare', 'beet_salad', 'beignets', 'bibimbap', 'bread_pudding', 'breakfast_burrito', 'bruschetta', 'caesar_salad', 'cannoli', 'caprese_salad', 'carrot_cake', 'ceviche', 'cheese_plate', 'cheesecake', 'chicken_curry', 'chicken_quesadilla', 'chicken_wings', 'chocolate_cake', 'chocolate_mousse', 'churros', 'clam_chowder', 'club_sandwich', 'crab_cakes', 'creme_brulee', 'croque_madame', 'cup_cakes', 'deviled_eggs', 'donuts', 'dumplings', 'edamame', 'eggs_benedict', 'escargots', 'falafel', 'filet_mignon', 'fish_and_chips', 'foie_gras', 'french_fries', 'french_onion_soup', 'french_toast', 'fried_calamari', 'fried_rice', 'frozen_yogurt', 'garlic_bread', 'gnocchi', 'greek_salad', 'grilled_cheese_sandwich', 'grilled_salmon', 'guacamole', 'gyoza', 'hamburger', 'hot_and_sour_soup', 'hot_dog', 'huevos_rancheros', 'hummus', 'ice_cream', 'lasagna', 'lobster_bisque', 'lobster_roll_sandwich', 'macaroni_and_cheese', 'macarons', 'miso_soup', 'mussels', 'nachos', 'omelette', 'onion_rings', 'oysters', 'pad_thai', 'paella', 'pancakes', 'panna_cotta', 'peking_duck', 'pho', 'pizza', 'pork_chop', 'poutine', 'prime_rib', 'pulled_pork_sandwich', 'ramen', 'ravioli', 'red_velvet_cake', 'risotto', 'samosa', 'sashimi', 'scallops', 'seaweed_salad', 'shrimp_and_grits', 'spaghetti_bolognese', 'spaghetti_carbonara', 'spring_rolls', 'steak', 'strawberry_shortcake', 'sushi', 'tacos', 'takoyaki', 'tiramisu', 'tuna_tartare', 'waffles'], id=None)"
            ]
          },
          "metadata": {},
          "execution_count": 14
        }
      ]
    },
    {
      "cell_type": "code",
      "source": [
        "labels.int2str(ds[532][\"label\"])"
      ],
      "metadata": {
        "id": "AqH9DebleBIb",
        "colab": {
          "base_uri": "https://localhost:8080/",
          "height": 36
        },
        "outputId": "a6be3eee-999b-41b8-eb76-bb1b3a9f2870"
      },
      "execution_count": 15,
      "outputs": [
        {
          "output_type": "execute_result",
          "data": {
            "text/plain": [
              "'baby_back_ribs'"
            ],
            "application/vnd.google.colaboratory.intrinsic+json": {
              "type": "string"
            }
          },
          "metadata": {},
          "execution_count": 15
        }
      ]
    },
    {
      "cell_type": "code",
      "source": [
        "def transform(examples):\n",
        "  inputs = image_processor([img.convert(\"RGB\") for img in examples[\"image\"]], return_tensors=\"pt\")\n",
        "  inputs[\"labels\"] = examples[\"label\"]\n",
        "\n",
        "  return inputs"
      ],
      "metadata": {
        "id": "TmpnCkjweBP2"
      },
      "execution_count": 16,
      "outputs": []
    },
    {
      "cell_type": "code",
      "source": [
        "dataset_3 = ds_3.with_transform(transform)\n",
        "dataset_4 = ds_4.with_transform(transform)"
      ],
      "metadata": {
        "id": "nY0BnBoyeBSK"
      },
      "execution_count": 17,
      "outputs": []
    },
    {
      "cell_type": "code",
      "source": [
        "dataset_3"
      ],
      "metadata": {
        "id": "o_n2ntAbeBVE",
        "colab": {
          "base_uri": "https://localhost:8080/"
        },
        "outputId": "debb2b13-48d8-498c-87f3-62f66ede037b"
      },
      "execution_count": 18,
      "outputs": [
        {
          "output_type": "execute_result",
          "data": {
            "text/plain": [
              "Dataset({\n",
              "    features: ['image', 'label'],\n",
              "    num_rows: 22716\n",
              "})"
            ]
          },
          "metadata": {},
          "execution_count": 18
        }
      ]
    },
    {
      "cell_type": "code",
      "source": [
        "dataset_4"
      ],
      "metadata": {
        "id": "mNLEFNFgeqwp",
        "colab": {
          "base_uri": "https://localhost:8080/"
        },
        "outputId": "97e24450-5568-4d80-8f94-12dd223c56e4"
      },
      "execution_count": 19,
      "outputs": [
        {
          "output_type": "execute_result",
          "data": {
            "text/plain": [
              "Dataset({\n",
              "    features: ['image', 'label'],\n",
              "    num_rows: 22716\n",
              "})"
            ]
          },
          "metadata": {},
          "execution_count": 19
        }
      ]
    },
    {
      "cell_type": "code",
      "source": [
        "for item in dataset_4:\n",
        "  print(item[\"pixel_values\"].shape)\n",
        "  print(item[\"labels\"])\n",
        "  break"
      ],
      "metadata": {
        "id": "V6yuQT1XeBXd",
        "colab": {
          "base_uri": "https://localhost:8080/"
        },
        "outputId": "e4e43ac8-9a93-4668-a566-6108a023bfb7"
      },
      "execution_count": 20,
      "outputs": [
        {
          "output_type": "stream",
          "name": "stdout",
          "text": [
            "torch.Size([3, 224, 224])\n",
            "0\n"
          ]
        }
      ]
    },
    {
      "cell_type": "code",
      "source": [
        "labels = ds.features[\"label\"].names\n",
        "labels"
      ],
      "metadata": {
        "id": "lKgSfme0eMuM",
        "colab": {
          "base_uri": "https://localhost:8080/"
        },
        "outputId": "05c33776-afe2-4f73-c24c-59f8248bedfe"
      },
      "execution_count": 21,
      "outputs": [
        {
          "output_type": "execute_result",
          "data": {
            "text/plain": [
              "['apple_pie',\n",
              " 'baby_back_ribs',\n",
              " 'baklava',\n",
              " 'beef_carpaccio',\n",
              " 'beef_tartare',\n",
              " 'beet_salad',\n",
              " 'beignets',\n",
              " 'bibimbap',\n",
              " 'bread_pudding',\n",
              " 'breakfast_burrito',\n",
              " 'bruschetta',\n",
              " 'caesar_salad',\n",
              " 'cannoli',\n",
              " 'caprese_salad',\n",
              " 'carrot_cake',\n",
              " 'ceviche',\n",
              " 'cheese_plate',\n",
              " 'cheesecake',\n",
              " 'chicken_curry',\n",
              " 'chicken_quesadilla',\n",
              " 'chicken_wings',\n",
              " 'chocolate_cake',\n",
              " 'chocolate_mousse',\n",
              " 'churros',\n",
              " 'clam_chowder',\n",
              " 'club_sandwich',\n",
              " 'crab_cakes',\n",
              " 'creme_brulee',\n",
              " 'croque_madame',\n",
              " 'cup_cakes',\n",
              " 'deviled_eggs',\n",
              " 'donuts',\n",
              " 'dumplings',\n",
              " 'edamame',\n",
              " 'eggs_benedict',\n",
              " 'escargots',\n",
              " 'falafel',\n",
              " 'filet_mignon',\n",
              " 'fish_and_chips',\n",
              " 'foie_gras',\n",
              " 'french_fries',\n",
              " 'french_onion_soup',\n",
              " 'french_toast',\n",
              " 'fried_calamari',\n",
              " 'fried_rice',\n",
              " 'frozen_yogurt',\n",
              " 'garlic_bread',\n",
              " 'gnocchi',\n",
              " 'greek_salad',\n",
              " 'grilled_cheese_sandwich',\n",
              " 'grilled_salmon',\n",
              " 'guacamole',\n",
              " 'gyoza',\n",
              " 'hamburger',\n",
              " 'hot_and_sour_soup',\n",
              " 'hot_dog',\n",
              " 'huevos_rancheros',\n",
              " 'hummus',\n",
              " 'ice_cream',\n",
              " 'lasagna',\n",
              " 'lobster_bisque',\n",
              " 'lobster_roll_sandwich',\n",
              " 'macaroni_and_cheese',\n",
              " 'macarons',\n",
              " 'miso_soup',\n",
              " 'mussels',\n",
              " 'nachos',\n",
              " 'omelette',\n",
              " 'onion_rings',\n",
              " 'oysters',\n",
              " 'pad_thai',\n",
              " 'paella',\n",
              " 'pancakes',\n",
              " 'panna_cotta',\n",
              " 'peking_duck',\n",
              " 'pho',\n",
              " 'pizza',\n",
              " 'pork_chop',\n",
              " 'poutine',\n",
              " 'prime_rib',\n",
              " 'pulled_pork_sandwich',\n",
              " 'ramen',\n",
              " 'ravioli',\n",
              " 'red_velvet_cake',\n",
              " 'risotto',\n",
              " 'samosa',\n",
              " 'sashimi',\n",
              " 'scallops',\n",
              " 'seaweed_salad',\n",
              " 'shrimp_and_grits',\n",
              " 'spaghetti_bolognese',\n",
              " 'spaghetti_carbonara',\n",
              " 'spring_rolls',\n",
              " 'steak',\n",
              " 'strawberry_shortcake',\n",
              " 'sushi',\n",
              " 'tacos',\n",
              " 'takoyaki',\n",
              " 'tiramisu',\n",
              " 'tuna_tartare',\n",
              " 'waffles']"
            ]
          },
          "metadata": {},
          "execution_count": 21
        }
      ]
    },
    {
      "cell_type": "code",
      "source": [
        "num_of_classes = len(labels)\n",
        "print(num_of_classes)"
      ],
      "metadata": {
        "id": "_EFVx_SEF0MI",
        "colab": {
          "base_uri": "https://localhost:8080/"
        },
        "outputId": "360e5987-5aa0-49bc-a76b-07ce561f1ee2"
      },
      "execution_count": 22,
      "outputs": [
        {
          "output_type": "stream",
          "name": "stdout",
          "text": [
            "101\n"
          ]
        }
      ]
    },
    {
      "cell_type": "code",
      "source": [
        "import torch\n",
        "\n",
        "def collate_fn(batch):\n",
        "  return {\n",
        "      \"pixel_values\": torch.stack([x[\"pixel_values\"] for x in batch]),\n",
        "      \"labels\": torch.tensor([x[\"labels\"] for x in batch]),\n",
        "  }"
      ],
      "metadata": {
        "id": "AJT_xQ0SeM0m"
      },
      "execution_count": 23,
      "outputs": []
    },
    {
      "cell_type": "code",
      "source": [
        "from torch.utils.tensorboard import SummaryWriter\n",
        "from torch.optim import AdamW\n",
        "from torch.utils.data import DataLoader"
      ],
      "metadata": {
        "id": "hRVTRPm-eM2v"
      },
      "execution_count": 24,
      "outputs": []
    },
    {
      "cell_type": "code",
      "source": [
        "batch_size = 16"
      ],
      "metadata": {
        "id": "OxwpjW_teM5j"
      },
      "execution_count": 25,
      "outputs": []
    },
    {
      "cell_type": "code",
      "source": [
        "valid_dataset_loader_4 = DataLoader(dataset_4, collate_fn=collate_fn, batch_size=batch_size, shuffle=False)"
      ],
      "metadata": {
        "id": "onzQrvN6eM8D"
      },
      "execution_count": 26,
      "outputs": []
    },
    {
      "cell_type": "code",
      "source": [
        "print(len(valid_dataset_loader_4))"
      ],
      "metadata": {
        "id": "wkJmRB0pe2sW",
        "colab": {
          "base_uri": "https://localhost:8080/"
        },
        "outputId": "d6d92e61-566c-4cc0-86c1-322082694a6e"
      },
      "execution_count": 27,
      "outputs": [
        {
          "output_type": "stream",
          "name": "stdout",
          "text": [
            "1420\n"
          ]
        }
      ]
    },
    {
      "cell_type": "code",
      "source": [
        "valid_dataset_loader_3 = DataLoader(dataset_3, collate_fn=collate_fn, batch_size=batch_size, shuffle=False)"
      ],
      "metadata": {
        "id": "z7SpP_D5eM-y"
      },
      "execution_count": 28,
      "outputs": []
    },
    {
      "cell_type": "code",
      "source": [
        "print(len(valid_dataset_loader_3))"
      ],
      "metadata": {
        "id": "Or8io6aUe5ol",
        "colab": {
          "base_uri": "https://localhost:8080/"
        },
        "outputId": "bcd6bcfa-3a72-48fd-f7aa-cd8f53f10047"
      },
      "execution_count": 29,
      "outputs": [
        {
          "output_type": "stream",
          "name": "stdout",
          "text": [
            "1420\n"
          ]
        }
      ]
    },
    {
      "cell_type": "code",
      "source": [
        "num_batches = len(valid_dataset_loader_3)\n",
        "num_batches_with_logits_3 = int(num_batches * 1)  # ___% of batches that you want to include (30 for now)\n",
        "print(\"Total Batches: \", num_batches)\n",
        "print(\"Missing Modaility Batches: \", num_batches_with_logits_3)"
      ],
      "metadata": {
        "id": "yY3YYjzjgCRN",
        "colab": {
          "base_uri": "https://localhost:8080/"
        },
        "outputId": "62c8352c-c9df-4d4b-f789-c4b2170f88bf"
      },
      "execution_count": 30,
      "outputs": [
        {
          "output_type": "stream",
          "name": "stdout",
          "text": [
            "Total Batches:  1420\n",
            "Missing Modaility Batches:  1420\n"
          ]
        }
      ]
    },
    {
      "cell_type": "code",
      "source": [
        "import random\n",
        "\n",
        "controller = random.sample(range(1, num_batches+1), num_batches_with_logits_3)\n",
        "controller = sorted(controller)"
      ],
      "metadata": {
        "id": "U8_ulHfwSx8R"
      },
      "execution_count": 31,
      "outputs": []
    },
    {
      "cell_type": "code",
      "source": [
        "len(controller)"
      ],
      "metadata": {
        "id": "Sdtq07IETnuh",
        "outputId": "1a2d163f-33cc-4377-ba95-e1146e512dec",
        "colab": {
          "base_uri": "https://localhost:8080/"
        }
      },
      "execution_count": 32,
      "outputs": [
        {
          "output_type": "execute_result",
          "data": {
            "text/plain": [
              "1420"
            ]
          },
          "metadata": {},
          "execution_count": 32
        }
      ]
    },
    {
      "cell_type": "markdown",
      "source": [
        "Validation Loops"
      ],
      "metadata": {
        "id": "wDJkPXJRfQgm"
      }
    },
    {
      "cell_type": "code",
      "source": [
        "model = model.to(device)\n",
        "model.eval()\n",
        "predictions_4, labels_4 = [], []\n",
        "for batch in valid_dataset_loader_4:\n",
        "    pixel_values = batch[\"pixel_values\"].to(device)\n",
        "    label_ids = batch[\"labels\"].to(device)\n",
        "\n",
        "    outputs = model(pixel_values=pixel_values, labels=label_ids)\n",
        "\n",
        "    logits = outputs.logits.detach().cpu()\n",
        "    probabilities = torch.softmax(logits, dim=1)\n",
        "\n",
        "    predictions_4.extend(probabilities.cpu().numpy())\n",
        "    labels_4.extend(label_ids.cpu().numpy())"
      ],
      "metadata": {
        "id": "osUo3G54fSMW"
      },
      "execution_count": 33,
      "outputs": []
    },
    {
      "cell_type": "code",
      "source": [
        "predictions_3 = []\n",
        "batch_idx = 0\n",
        "for batch in valid_dataset_loader_3:\n",
        "    pixel_values = batch[\"pixel_values\"].to(device)\n",
        "    label_ids = batch[\"labels\"].to(device)\n",
        "\n",
        "    if batch_idx in controller:\n",
        "        # print(batch_idx)\n",
        "        outputs = model(pixel_values=pixel_values, labels=label_ids)\n",
        "        logits = outputs.logits.detach().cpu()\n",
        "    else:\n",
        "        length = len(label_ids)\n",
        "        logits = torch.zeros((length, num_of_classes), device=\"cpu\")\n",
        "\n",
        "    probabilities = torch.softmax(logits, dim=1)\n",
        "    predictions_3.extend(probabilities.cpu().numpy())\n",
        "    batch_idx = batch_idx + 1"
      ],
      "metadata": {
        "id": "N0O7uNd-f9cv"
      },
      "execution_count": 34,
      "outputs": []
    },
    {
      "cell_type": "code",
      "source": [
        "import numpy as np\n",
        "predictions_3 = np.array(predictions_3)\n",
        "predictions_4 = np.array(predictions_4)"
      ],
      "metadata": {
        "id": "5qObdWfQLDtj"
      },
      "execution_count": 35,
      "outputs": []
    },
    {
      "cell_type": "code",
      "source": [
        "predictions_avg = (predictions_3 + predictions_4) / 2\n",
        "predictions = np.argmax(predictions_avg, axis=1)"
      ],
      "metadata": {
        "id": "7shZhLX6qcIv"
      },
      "execution_count": 36,
      "outputs": []
    },
    {
      "cell_type": "code",
      "source": [
        "predictions = np.array(predictions)\n",
        "labels = np.array(labels_4)"
      ],
      "metadata": {
        "id": "uE8xVnf8J5bT"
      },
      "execution_count": 37,
      "outputs": []
    },
    {
      "cell_type": "code",
      "source": [
        "from sklearn.metrics import accuracy_score, precision_score, recall_score, f1_score, roc_auc_score, confusion_matrix, classification_report\n",
        "\n",
        "accuracy = accuracy_score(labels, predictions)\n",
        "precision = precision_score(labels, predictions, average='weighted')\n",
        "recall = recall_score(labels, predictions, average='weighted')\n",
        "f1 = f1_score(labels, predictions, average='weighted')\n",
        "# AUROC_score = roc_auc_score(labels, predictions)"
      ],
      "metadata": {
        "id": "_Rbze9TNiMLk"
      },
      "execution_count": 38,
      "outputs": []
    },
    {
      "cell_type": "code",
      "source": [
        "print(\"Accuracy: \", accuracy)\n",
        "print(\"precision: \", precision)\n",
        "print(\"f1_score: \", f1)\n",
        "print(\"recall\", recall)\n",
        "# print(\"AUROC_score: \", AUROC_score)"
      ],
      "metadata": {
        "id": "NJ87fn9Tiihg",
        "colab": {
          "base_uri": "https://localhost:8080/"
        },
        "outputId": "b3533017-2ce2-4497-cf1e-adc7cbd2c759"
      },
      "execution_count": 39,
      "outputs": [
        {
          "output_type": "stream",
          "name": "stdout",
          "text": [
            "Accuracy:  0.7351206198274344\n",
            "precision:  0.7419695752726153\n",
            "f1_score:  0.7364431524987658\n",
            "recall 0.7351206198274344\n"
          ]
        }
      ]
    },
    {
      "cell_type": "code",
      "source": [
        "print(classification_report(labels, predictions))"
      ],
      "metadata": {
        "id": "XIh6vBhAijAd",
        "colab": {
          "base_uri": "https://localhost:8080/"
        },
        "outputId": "b9301fa3-4364-4267-e6b0-b98bd22a24a7"
      },
      "execution_count": 40,
      "outputs": [
        {
          "output_type": "stream",
          "name": "stdout",
          "text": [
            "              precision    recall  f1-score   support\n",
            "\n",
            "           0       0.70      0.72      0.71       234\n",
            "           1       0.77      0.80      0.79       221\n",
            "           2       0.83      0.86      0.84       226\n",
            "           3       0.79      0.74      0.76       222\n",
            "           4       0.58      0.55      0.56       225\n",
            "           5       0.82      0.81      0.81       224\n",
            "           6       0.73      0.75      0.74       224\n",
            "           7       0.69      0.68      0.68       225\n",
            "           8       0.78      0.62      0.69       226\n",
            "           9       0.77      0.69      0.73       214\n",
            "          10       0.81      0.78      0.80       231\n",
            "          11       0.86      0.83      0.85       227\n",
            "          12       0.71      0.79      0.75       230\n",
            "          13       0.81      0.81      0.81       220\n",
            "          14       0.71      0.66      0.69       231\n",
            "          15       0.70      0.67      0.68       227\n",
            "          16       0.47      0.67      0.55       224\n",
            "          17       0.76      0.69      0.72       233\n",
            "          18       0.76      0.81      0.78       222\n",
            "          19       0.75      0.71      0.73       220\n",
            "          20       0.87      0.89      0.88       219\n",
            "          21       0.75      0.79      0.77       232\n",
            "          22       0.76      0.68      0.72       224\n",
            "          23       0.89      0.80      0.85       230\n",
            "          24       0.78      0.82      0.80       224\n",
            "          25       0.83      0.80      0.81       220\n",
            "          26       0.71      0.76      0.74       221\n",
            "          27       0.90      0.80      0.84       225\n",
            "          28       0.79      0.76      0.77       224\n",
            "          29       0.62      0.72      0.67       228\n",
            "          30       0.97      0.95      0.96       229\n",
            "          31       0.75      0.71      0.73       232\n",
            "          32       0.62      0.52      0.57       228\n",
            "          33       0.79      0.69      0.73       231\n",
            "          34       0.82      0.87      0.85       213\n",
            "          35       0.53      0.58      0.55       202\n",
            "          36       0.84      0.74      0.79       228\n",
            "          37       0.63      0.73      0.68       212\n",
            "          38       0.79      0.67      0.73       208\n",
            "          39       0.47      0.54      0.50       216\n",
            "          40       0.71      0.75      0.73       212\n",
            "          41       0.81      0.84      0.83       223\n",
            "          42       0.63      0.75      0.69       238\n",
            "          43       0.77      0.73      0.75       212\n",
            "          44       0.80      0.75      0.77       229\n",
            "          45       0.62      0.64      0.63       233\n",
            "          46       0.81      0.72      0.77       224\n",
            "          47       0.74      0.67      0.70       234\n",
            "          48       0.86      0.82      0.84       223\n",
            "          49       0.84      0.78      0.81       229\n",
            "          50       0.76      0.79      0.77       225\n",
            "          51       0.88      0.84      0.86       228\n",
            "          52       0.65      0.62      0.64       232\n",
            "          53       0.61      0.61      0.61       233\n",
            "          54       0.65      0.63      0.64       203\n",
            "          55       0.55      0.56      0.55       234\n",
            "          56       0.88      0.65      0.75       223\n",
            "          57       0.74      0.80      0.77       234\n",
            "          58       0.46      0.54      0.50       232\n",
            "          59       0.80      0.82      0.81       233\n",
            "          60       0.75      0.66      0.70       197\n",
            "          61       0.39      0.50      0.44       215\n",
            "          62       0.69      0.76      0.72       238\n",
            "          63       0.93      0.81      0.87       231\n",
            "          64       0.65      0.81      0.72       227\n",
            "          65       0.90      0.85      0.88       234\n",
            "          66       0.81      0.82      0.81       224\n",
            "          67       0.68      0.78      0.73       231\n",
            "          68       0.77      0.81      0.79       217\n",
            "          69       0.57      0.61      0.59       223\n",
            "          70       0.77      0.80      0.79       230\n",
            "          71       0.83      0.89      0.86       228\n",
            "          72       0.82      0.71      0.76       234\n",
            "          73       0.78      0.85      0.81       225\n",
            "          74       0.57      0.62      0.60       211\n",
            "          75       0.84      0.72      0.77       218\n",
            "          76       0.74      0.84      0.79       235\n",
            "          77       0.64      0.69      0.66       227\n",
            "          78       0.65      0.78      0.71       210\n",
            "          79       0.86      0.81      0.83       220\n",
            "          80       0.83      0.83      0.83       224\n",
            "          81       0.72      0.59      0.65       232\n",
            "          82       0.65      0.67      0.66       236\n",
            "          83       0.81      0.74      0.78       227\n",
            "          84       0.60      0.76      0.67       236\n",
            "          85       0.79      0.75      0.77       215\n",
            "          86       0.60      0.49      0.54       226\n",
            "          87       0.70      0.69      0.70       228\n",
            "          88       0.79      0.76      0.77       219\n",
            "          89       0.62      0.70      0.66       228\n",
            "          90       0.84      0.89      0.86       213\n",
            "          91       0.87      0.89      0.88       218\n",
            "          92       0.84      0.80      0.82       230\n",
            "          93       0.56      0.51      0.53       229\n",
            "          94       0.81      0.85      0.83       223\n",
            "          95       0.85      0.70      0.77       237\n",
            "          96       0.83      0.69      0.75       233\n",
            "          97       0.71      0.75      0.73       223\n",
            "          98       0.89      0.79      0.84       232\n",
            "          99       0.64      0.60      0.62       211\n",
            "         100       0.81      0.85      0.83       235\n",
            "\n",
            "    accuracy                           0.74     22716\n",
            "   macro avg       0.74      0.73      0.74     22716\n",
            "weighted avg       0.74      0.74      0.74     22716\n",
            "\n"
          ]
        }
      ]
    },
    {
      "cell_type": "code",
      "source": [
        "cm = confusion_matrix(labels, predictions)\n",
        "print(cm)"
      ],
      "metadata": {
        "id": "357ijdMlindC",
        "colab": {
          "base_uri": "https://localhost:8080/"
        },
        "outputId": "588f40d3-34cf-4de3-9ed3-b94312c4f38a"
      },
      "execution_count": 41,
      "outputs": [
        {
          "output_type": "stream",
          "name": "stdout",
          "text": [
            "[[169   1   5 ...   0   0   3]\n",
            " [  0 177   0 ...   0   0   0]\n",
            " [  8   0 195 ...   0   0   1]\n",
            " ...\n",
            " [  1   0   3 ... 183   0   0]\n",
            " [  0   0   0 ...   0 127   0]\n",
            " [  2   0   0 ...   0   0 200]]\n"
          ]
        }
      ]
    },
    {
      "cell_type": "code",
      "source": [],
      "metadata": {
        "id": "rj35ngQlD2Mr"
      },
      "execution_count": 42,
      "outputs": []
    }
  ],
  "metadata": {
    "colab": {
      "provenance": [],
      "collapsed_sections": [
        "YDcxpk7uWLbk",
        "tNSGzVxwT8id"
      ],
      "include_colab_link": true
    },
    "kernelspec": {
      "display_name": "Python 3",
      "name": "python3"
    },
    "language_info": {
      "name": "python"
    },
    "widgets": {
      "application/vnd.jupyter.widget-state+json": {
        "2d462617f2ef4986a8fec591f2a7e787": {
          "model_module": "@jupyter-widgets/controls",
          "model_name": "HBoxModel",
          "model_module_version": "1.5.0",
          "state": {
            "_dom_classes": [],
            "_model_module": "@jupyter-widgets/controls",
            "_model_module_version": "1.5.0",
            "_model_name": "HBoxModel",
            "_view_count": null,
            "_view_module": "@jupyter-widgets/controls",
            "_view_module_version": "1.5.0",
            "_view_name": "HBoxView",
            "box_style": "",
            "children": [
              "IPY_MODEL_4825e8dbc19f49c2be431ed2294dfb30",
              "IPY_MODEL_85a6a180316749bab250f5ad6115f6ca",
              "IPY_MODEL_8ab33c37b3234c9a9add09c1409e25f9"
            ],
            "layout": "IPY_MODEL_329b72a4189447aabdfcd41d9261b3f1"
          }
        },
        "4825e8dbc19f49c2be431ed2294dfb30": {
          "model_module": "@jupyter-widgets/controls",
          "model_name": "HTMLModel",
          "model_module_version": "1.5.0",
          "state": {
            "_dom_classes": [],
            "_model_module": "@jupyter-widgets/controls",
            "_model_module_version": "1.5.0",
            "_model_name": "HTMLModel",
            "_view_count": null,
            "_view_module": "@jupyter-widgets/controls",
            "_view_module_version": "1.5.0",
            "_view_name": "HTMLView",
            "description": "",
            "description_tooltip": null,
            "layout": "IPY_MODEL_f7dfc3958dee45ee961b11cf006e6306",
            "placeholder": "​",
            "style": "IPY_MODEL_6b2034ef8025403d8f092d06c6732901",
            "value": "Resolving data files: 100%"
          }
        },
        "85a6a180316749bab250f5ad6115f6ca": {
          "model_module": "@jupyter-widgets/controls",
          "model_name": "FloatProgressModel",
          "model_module_version": "1.5.0",
          "state": {
            "_dom_classes": [],
            "_model_module": "@jupyter-widgets/controls",
            "_model_module_version": "1.5.0",
            "_model_name": "FloatProgressModel",
            "_view_count": null,
            "_view_module": "@jupyter-widgets/controls",
            "_view_module_version": "1.5.0",
            "_view_name": "ProgressView",
            "bar_style": "success",
            "description": "",
            "description_tooltip": null,
            "layout": "IPY_MODEL_00926bc500e243259544a650d3b583cc",
            "max": 45432,
            "min": 0,
            "orientation": "horizontal",
            "style": "IPY_MODEL_001da868f8214254bbfd905f0cc8c197",
            "value": 45432
          }
        },
        "8ab33c37b3234c9a9add09c1409e25f9": {
          "model_module": "@jupyter-widgets/controls",
          "model_name": "HTMLModel",
          "model_module_version": "1.5.0",
          "state": {
            "_dom_classes": [],
            "_model_module": "@jupyter-widgets/controls",
            "_model_module_version": "1.5.0",
            "_model_name": "HTMLModel",
            "_view_count": null,
            "_view_module": "@jupyter-widgets/controls",
            "_view_module_version": "1.5.0",
            "_view_name": "HTMLView",
            "description": "",
            "description_tooltip": null,
            "layout": "IPY_MODEL_d617c73bb35f462d8d6367157a8a8ec3",
            "placeholder": "​",
            "style": "IPY_MODEL_6f6668cec8f642d68cf9eb11aa23d9ee",
            "value": " 45432/45432 [00:00&lt;00:00, 171953.25it/s]"
          }
        },
        "329b72a4189447aabdfcd41d9261b3f1": {
          "model_module": "@jupyter-widgets/base",
          "model_name": "LayoutModel",
          "model_module_version": "1.2.0",
          "state": {
            "_model_module": "@jupyter-widgets/base",
            "_model_module_version": "1.2.0",
            "_model_name": "LayoutModel",
            "_view_count": null,
            "_view_module": "@jupyter-widgets/base",
            "_view_module_version": "1.2.0",
            "_view_name": "LayoutView",
            "align_content": null,
            "align_items": null,
            "align_self": null,
            "border": null,
            "bottom": null,
            "display": null,
            "flex": null,
            "flex_flow": null,
            "grid_area": null,
            "grid_auto_columns": null,
            "grid_auto_flow": null,
            "grid_auto_rows": null,
            "grid_column": null,
            "grid_gap": null,
            "grid_row": null,
            "grid_template_areas": null,
            "grid_template_columns": null,
            "grid_template_rows": null,
            "height": null,
            "justify_content": null,
            "justify_items": null,
            "left": null,
            "margin": null,
            "max_height": null,
            "max_width": null,
            "min_height": null,
            "min_width": null,
            "object_fit": null,
            "object_position": null,
            "order": null,
            "overflow": null,
            "overflow_x": null,
            "overflow_y": null,
            "padding": null,
            "right": null,
            "top": null,
            "visibility": null,
            "width": null
          }
        },
        "f7dfc3958dee45ee961b11cf006e6306": {
          "model_module": "@jupyter-widgets/base",
          "model_name": "LayoutModel",
          "model_module_version": "1.2.0",
          "state": {
            "_model_module": "@jupyter-widgets/base",
            "_model_module_version": "1.2.0",
            "_model_name": "LayoutModel",
            "_view_count": null,
            "_view_module": "@jupyter-widgets/base",
            "_view_module_version": "1.2.0",
            "_view_name": "LayoutView",
            "align_content": null,
            "align_items": null,
            "align_self": null,
            "border": null,
            "bottom": null,
            "display": null,
            "flex": null,
            "flex_flow": null,
            "grid_area": null,
            "grid_auto_columns": null,
            "grid_auto_flow": null,
            "grid_auto_rows": null,
            "grid_column": null,
            "grid_gap": null,
            "grid_row": null,
            "grid_template_areas": null,
            "grid_template_columns": null,
            "grid_template_rows": null,
            "height": null,
            "justify_content": null,
            "justify_items": null,
            "left": null,
            "margin": null,
            "max_height": null,
            "max_width": null,
            "min_height": null,
            "min_width": null,
            "object_fit": null,
            "object_position": null,
            "order": null,
            "overflow": null,
            "overflow_x": null,
            "overflow_y": null,
            "padding": null,
            "right": null,
            "top": null,
            "visibility": null,
            "width": null
          }
        },
        "6b2034ef8025403d8f092d06c6732901": {
          "model_module": "@jupyter-widgets/controls",
          "model_name": "DescriptionStyleModel",
          "model_module_version": "1.5.0",
          "state": {
            "_model_module": "@jupyter-widgets/controls",
            "_model_module_version": "1.5.0",
            "_model_name": "DescriptionStyleModel",
            "_view_count": null,
            "_view_module": "@jupyter-widgets/base",
            "_view_module_version": "1.2.0",
            "_view_name": "StyleView",
            "description_width": ""
          }
        },
        "00926bc500e243259544a650d3b583cc": {
          "model_module": "@jupyter-widgets/base",
          "model_name": "LayoutModel",
          "model_module_version": "1.2.0",
          "state": {
            "_model_module": "@jupyter-widgets/base",
            "_model_module_version": "1.2.0",
            "_model_name": "LayoutModel",
            "_view_count": null,
            "_view_module": "@jupyter-widgets/base",
            "_view_module_version": "1.2.0",
            "_view_name": "LayoutView",
            "align_content": null,
            "align_items": null,
            "align_self": null,
            "border": null,
            "bottom": null,
            "display": null,
            "flex": null,
            "flex_flow": null,
            "grid_area": null,
            "grid_auto_columns": null,
            "grid_auto_flow": null,
            "grid_auto_rows": null,
            "grid_column": null,
            "grid_gap": null,
            "grid_row": null,
            "grid_template_areas": null,
            "grid_template_columns": null,
            "grid_template_rows": null,
            "height": null,
            "justify_content": null,
            "justify_items": null,
            "left": null,
            "margin": null,
            "max_height": null,
            "max_width": null,
            "min_height": null,
            "min_width": null,
            "object_fit": null,
            "object_position": null,
            "order": null,
            "overflow": null,
            "overflow_x": null,
            "overflow_y": null,
            "padding": null,
            "right": null,
            "top": null,
            "visibility": null,
            "width": null
          }
        },
        "001da868f8214254bbfd905f0cc8c197": {
          "model_module": "@jupyter-widgets/controls",
          "model_name": "ProgressStyleModel",
          "model_module_version": "1.5.0",
          "state": {
            "_model_module": "@jupyter-widgets/controls",
            "_model_module_version": "1.5.0",
            "_model_name": "ProgressStyleModel",
            "_view_count": null,
            "_view_module": "@jupyter-widgets/base",
            "_view_module_version": "1.2.0",
            "_view_name": "StyleView",
            "bar_color": null,
            "description_width": ""
          }
        },
        "d617c73bb35f462d8d6367157a8a8ec3": {
          "model_module": "@jupyter-widgets/base",
          "model_name": "LayoutModel",
          "model_module_version": "1.2.0",
          "state": {
            "_model_module": "@jupyter-widgets/base",
            "_model_module_version": "1.2.0",
            "_model_name": "LayoutModel",
            "_view_count": null,
            "_view_module": "@jupyter-widgets/base",
            "_view_module_version": "1.2.0",
            "_view_name": "LayoutView",
            "align_content": null,
            "align_items": null,
            "align_self": null,
            "border": null,
            "bottom": null,
            "display": null,
            "flex": null,
            "flex_flow": null,
            "grid_area": null,
            "grid_auto_columns": null,
            "grid_auto_flow": null,
            "grid_auto_rows": null,
            "grid_column": null,
            "grid_gap": null,
            "grid_row": null,
            "grid_template_areas": null,
            "grid_template_columns": null,
            "grid_template_rows": null,
            "height": null,
            "justify_content": null,
            "justify_items": null,
            "left": null,
            "margin": null,
            "max_height": null,
            "max_width": null,
            "min_height": null,
            "min_width": null,
            "object_fit": null,
            "object_position": null,
            "order": null,
            "overflow": null,
            "overflow_x": null,
            "overflow_y": null,
            "padding": null,
            "right": null,
            "top": null,
            "visibility": null,
            "width": null
          }
        },
        "6f6668cec8f642d68cf9eb11aa23d9ee": {
          "model_module": "@jupyter-widgets/controls",
          "model_name": "DescriptionStyleModel",
          "model_module_version": "1.5.0",
          "state": {
            "_model_module": "@jupyter-widgets/controls",
            "_model_module_version": "1.5.0",
            "_model_name": "DescriptionStyleModel",
            "_view_count": null,
            "_view_module": "@jupyter-widgets/base",
            "_view_module_version": "1.2.0",
            "_view_name": "StyleView",
            "description_width": ""
          }
        }
      }
    }
  },
  "nbformat": 4,
  "nbformat_minor": 0
}