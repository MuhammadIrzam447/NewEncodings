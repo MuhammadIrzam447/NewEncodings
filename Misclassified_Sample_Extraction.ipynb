{
  "nbformat": 4,
  "nbformat_minor": 0,
  "metadata": {
    "colab": {
      "provenance": [],
      "gpuType": "T4",
      "include_colab_link": true
    },
    "kernelspec": {
      "name": "python3",
      "display_name": "Python 3"
    },
    "language_info": {
      "name": "python"
    },
    "accelerator": "GPU"
  },
  "cells": [
    {
      "cell_type": "markdown",
      "metadata": {
        "id": "view-in-github",
        "colab_type": "text"
      },
      "source": [
        "<a href=\"https://colab.research.google.com/github/MuhammadIrzam447/NewEncodings/blob/main/Misclassified_Sample_Extraction.ipynb\" target=\"_parent\"><img src=\"https://colab.research.google.com/assets/colab-badge.svg\" alt=\"Open In Colab\"/></a>"
      ]
    },
    {
      "cell_type": "code",
      "execution_count": 1,
      "metadata": {
        "id": "ObgVtPmABT7d"
      },
      "outputs": [],
      "source": [
        "from google.colab import drive\n",
        "import pandas as pd\n",
        "import os\n",
        "from PIL import Image\n",
        "import torch\n",
        "from torchvision import datasets, transforms\n",
        "import torchvision.models as models\n",
        "from torchvision.datasets import ImageFolder\n",
        "import torchvision\n",
        "import torch.nn as nn\n",
        "import torch.optim as optim\n",
        "from sklearn.metrics import confusion_matrix\n",
        "from sklearn.metrics import precision_recall_fscore_support\n",
        "from sklearn.metrics import accuracy_score, precision_score, recall_score, f1_score\n",
        "import matplotlib.pyplot as plt\n",
        "import seaborn as sns\n",
        "import numpy as np\n",
        "from PIL import UnidentifiedImageError\n",
        "from sklearn.metrics import classification_report"
      ]
    },
    {
      "cell_type": "code",
      "source": [
        "if torch.cuda.is_available():\n",
        "    device = torch.device(\"cuda\")\n",
        "else:\n",
        "    device = torch.device(\"cpu\")\n",
        "print(device)"
      ],
      "metadata": {
        "id": "pziXvdPgU58B",
        "colab": {
          "base_uri": "https://localhost:8080/"
        },
        "outputId": "e10f8b6f-caf6-477c-8ba8-10135d09cd11"
      },
      "execution_count": 2,
      "outputs": [
        {
          "output_type": "stream",
          "name": "stdout",
          "text": [
            "cuda\n"
          ]
        }
      ]
    },
    {
      "cell_type": "markdown",
      "source": [
        "# Loading Validation Dataset and Preprocessing"
      ],
      "metadata": {
        "id": "p3yzu25SYhKf"
      }
    },
    {
      "cell_type": "code",
      "source": [
        "val_transform = transforms.Compose([\n",
        "    transforms.Resize((224, 224)),\n",
        "    transforms.ToTensor(),\n",
        "    transforms.Normalize(mean=[0.485, 0.456, 0.406], std=[0.229, 0.224, 0.225])\n",
        "])"
      ],
      "metadata": {
        "id": "4ElOxuNZvqLy"
      },
      "execution_count": 3,
      "outputs": []
    },
    {
      "cell_type": "code",
      "source": [
        "class ValidationDataset(torch.utils.data.Dataset):\n",
        "    def __init__(self, data_dir):\n",
        "        self.data_dir = data_dir\n",
        "        self.dataset = datasets.ImageFolder(data_dir, transform=val_transform)\n",
        "        self.classes = sorted(os.listdir(data_dir))\n",
        "        self.class_lengths = self._compute_class_lengths()\n",
        "        self.samples = self.dataset.samples  # Store the file paths along with labels\n",
        "\n",
        "\n",
        "    def _compute_class_lengths(self):\n",
        "        class_lengths = {cls: 0 for cls in self.classes}\n",
        "\n",
        "        for cls in self.classes:\n",
        "            cls_dir = os.path.join(self.data_dir, cls)\n",
        "            if os.path.isdir(cls_dir):\n",
        "                class_lengths[cls] = len(os.listdir(cls_dir))\n",
        "\n",
        "        return class_lengths\n",
        "\n",
        "    def __getitem__(self, index):\n",
        "        image, label = self.dataset[index]\n",
        "        return image, label\n",
        "\n",
        "    def __len__(self):\n",
        "        return len(self.dataset)"
      ],
      "metadata": {
        "id": "ZEqVuNvcMgvo"
      },
      "execution_count": 4,
      "outputs": []
    },
    {
      "cell_type": "code",
      "source": [
        "valPath = \"/content/MMLearning/data/food-101/fused_previous/test\"\n",
        "val_dataset = ValidationDataset(valPath)"
      ],
      "metadata": {
        "id": "4UfrxOQ3sCgB"
      },
      "execution_count": 5,
      "outputs": []
    },
    {
      "cell_type": "code",
      "source": [
        "batch_size = 32\n",
        "validation_data_loader = torch.utils.data.DataLoader(val_dataset, batch_size=batch_size, shuffle=False)"
      ],
      "metadata": {
        "id": "8e-uQ6lqVhmI"
      },
      "execution_count": 6,
      "outputs": []
    },
    {
      "cell_type": "code",
      "source": [
        "print(\"Number of samples:\", len(val_dataset))\n",
        "print(\"Number of classes:\", len(val_dataset.classes))"
      ],
      "metadata": {
        "id": "oShp-fOcVmYs",
        "colab": {
          "base_uri": "https://localhost:8080/"
        },
        "outputId": "c658dee9-ed83-4dcb-9cd2-7e128ef56461"
      },
      "execution_count": 7,
      "outputs": [
        {
          "output_type": "stream",
          "name": "stdout",
          "text": [
            "Number of samples: 22716\n",
            "Number of classes: 101\n"
          ]
        }
      ]
    },
    {
      "cell_type": "code",
      "source": [
        "num_batches = len(validation_data_loader)\n",
        "print(\"Number of batches:\", num_batches)"
      ],
      "metadata": {
        "id": "l_2_YsDRCJL7",
        "colab": {
          "base_uri": "https://localhost:8080/"
        },
        "outputId": "1a97cf70-b5d3-406d-9768-c6355468029e"
      },
      "execution_count": 8,
      "outputs": [
        {
          "output_type": "stream",
          "name": "stdout",
          "text": [
            "Number of batches: 710\n"
          ]
        }
      ]
    },
    {
      "cell_type": "markdown",
      "source": [
        "# Validation"
      ],
      "metadata": {
        "id": "RbwN0R_b2tMA"
      }
    },
    {
      "cell_type": "code",
      "source": [
        "save_dir = '/content/MMLearning/data/Models/Model-21'\n",
        "model_name = \"fused_model.pth\"\n",
        "load_path = os.path.join(save_dir, model_name)\n",
        "\n",
        "resnet = torchvision.models.resnet101(pretrained=False)\n",
        "resnet.fc = nn.Linear(2048, 101) # Choose the number of output classses as per your model\n",
        "resnet.load_state_dict(torch.load(load_path))\n",
        "\n",
        "resnet.eval()\n",
        "resnet.to(device)"
      ],
      "metadata": {
        "id": "UeVCrdLVbb4D"
      },
      "execution_count": null,
      "outputs": []
    },
    {
      "cell_type": "code",
      "source": [
        "# Store misclassified samples\n",
        "misclassified_samples = []"
      ],
      "metadata": {
        "id": "loo5VFVNdweB"
      },
      "execution_count": 10,
      "outputs": []
    },
    {
      "cell_type": "code",
      "source": [
        "predicted_classes = []\n",
        "actual_labels = []\n",
        "\n",
        "with torch.no_grad():\n",
        "    for i, (images, labels) in enumerate(validation_data_loader):\n",
        "        # Move the images and labels to the GPU if available\n",
        "        images = images.to(device)\n",
        "        labels = labels.to(device)\n",
        "\n",
        "        # Forward pass\n",
        "        outputs = resnet(images)\n",
        "\n",
        "        # Get the predicted labels\n",
        "        _, predicted_label = torch.max(outputs, 1)\n",
        "\n",
        "        # Store the predicted and true labels\n",
        "        predicted_classes.extend(predicted_label.cpu().tolist())\n",
        "        actual_labels.extend(labels.cpu().tolist())\n",
        "\n",
        "        # Check for misclassified samples\n",
        "        # misclassified_samples.extend([\n",
        "        #     sample for sample, pred, actual in zip(val_dataset.samples[i * batch_size:(i + 1) * batch_size], predicted_label.cpu(), labels.cpu())\n",
        "        #     if pred != actual\n",
        "        # ])\n",
        "        misclassified_samples.extend([\n",
        "            (sample[0], pred.item(), actual.item()) for sample, pred, actual in zip(val_dataset.samples[i * batch_size:(i + 1) * batch_size], predicted_label.cpu(), labels.cpu())\n",
        "            if pred != actual\n",
        "        ])\n"
      ],
      "metadata": {
        "id": "QYxUnUjO7DOa"
      },
      "execution_count": 11,
      "outputs": []
    },
    {
      "cell_type": "code",
      "source": [
        "len(misclassified_samples)"
      ],
      "metadata": {
        "id": "falgTniXgGtj",
        "colab": {
          "base_uri": "https://localhost:8080/"
        },
        "outputId": "3696023f-31da-4629-cdfd-9d77f06f5800"
      },
      "execution_count": 12,
      "outputs": [
        {
          "output_type": "execute_result",
          "data": {
            "text/plain": [
              "2018"
            ]
          },
          "metadata": {},
          "execution_count": 12
        }
      ]
    },
    {
      "cell_type": "code",
      "source": [
        "misclassified_samples[0]"
      ],
      "metadata": {
        "colab": {
          "base_uri": "https://localhost:8080/"
        },
        "id": "9eKhI2uaBFqD",
        "outputId": "2dc2b137-eba5-4c66-9d1e-463038b4ce4e"
      },
      "execution_count": 13,
      "outputs": [
        {
          "output_type": "execute_result",
          "data": {
            "text/plain": [
              "('/content/MMLearning/data/food-101/fused_previous/test/apple_pie/apple_pie_12.jpg.png',\n",
              " 42,\n",
              " 0)"
            ]
          },
          "metadata": {},
          "execution_count": 13
        }
      ]
    },
    {
      "cell_type": "code",
      "source": [
        "%cd /content/MMLearning/data/food-101/fused_previous\n",
        "with open(\"fused.txt\", \"w\") as file:\n",
        "    for item in misclassified_samples:\n",
        "        file.write(str(item) + \"\\n\")"
      ],
      "metadata": {
        "id": "tqHyy2Vci05i",
        "colab": {
          "base_uri": "https://localhost:8080/"
        },
        "outputId": "70acb49b-99e7-41c2-a220-2360f740b36f"
      },
      "execution_count": 14,
      "outputs": [
        {
          "output_type": "stream",
          "name": "stdout",
          "text": [
            "/content/MMLearning/data/food-101/fused_previous\n"
          ]
        }
      ]
    },
    {
      "cell_type": "code",
      "source": [
        "accuracy = accuracy_score(actual_labels, predicted_classes)\n",
        "precision = precision_score(actual_labels, predicted_classes, average='weighted')\n",
        "recall = recall_score(actual_labels, predicted_classes, average='weighted')\n",
        "f1 = f1_score(actual_labels, predicted_classes, average='weighted')\n",
        "\n",
        "print(\"Accuracy:\", accuracy)\n",
        "print(\"Precision:\", precision)\n",
        "print(\"Recall:\", recall)\n",
        "print(\"F1-score:\", f1)"
      ],
      "metadata": {
        "id": "SiJYzy3heKgR",
        "colab": {
          "base_uri": "https://localhost:8080/"
        },
        "outputId": "049a1f70-379d-48bd-dc5c-e1d586978241"
      },
      "execution_count": 15,
      "outputs": [
        {
          "output_type": "stream",
          "name": "stdout",
          "text": [
            "Accuracy: 0.9111639373129072\n",
            "Precision: 0.9111268277909752\n",
            "Recall: 0.9111639373129072\n",
            "F1-score: 0.9107555902733985\n"
          ]
        }
      ]
    },
    {
      "cell_type": "code",
      "source": [
        "print(classification_report(actual_labels, predicted_classes))"
      ],
      "metadata": {
        "id": "1PEdbnvj0vPK",
        "colab": {
          "base_uri": "https://localhost:8080/"
        },
        "outputId": "1820f3c5-d279-4f9e-d2f2-77fc3a58994e"
      },
      "execution_count": 16,
      "outputs": [
        {
          "output_type": "stream",
          "name": "stdout",
          "text": [
            "              precision    recall  f1-score   support\n",
            "\n",
            "           0       0.92      0.93      0.93       234\n",
            "           1       0.93      0.96      0.95       221\n",
            "           2       0.94      0.98      0.96       226\n",
            "           3       0.84      0.90      0.87       222\n",
            "           4       0.73      0.65      0.69       225\n",
            "           5       0.95      0.95      0.95       224\n",
            "           6       0.96      0.90      0.93       224\n",
            "           7       0.95      0.92      0.94       225\n",
            "           8       0.95      0.98      0.96       226\n",
            "           9       0.91      0.89      0.90       214\n",
            "          10       0.93      0.96      0.95       231\n",
            "          11       0.90      0.96      0.93       227\n",
            "          12       0.94      0.94      0.94       230\n",
            "          13       0.95      0.94      0.94       220\n",
            "          14       0.92      0.93      0.93       231\n",
            "          15       0.95      0.93      0.94       227\n",
            "          16       0.82      0.77      0.80       224\n",
            "          17       0.93      0.96      0.94       233\n",
            "          18       0.91      0.89      0.90       222\n",
            "          19       0.92      0.88      0.90       220\n",
            "          20       0.89      0.95      0.92       219\n",
            "          21       0.89      0.92      0.91       232\n",
            "          22       0.96      0.95      0.95       224\n",
            "          23       0.97      0.95      0.96       230\n",
            "          24       0.94      0.94      0.94       224\n",
            "          25       0.94      0.93      0.93       220\n",
            "          26       0.87      0.91      0.89       221\n",
            "          27       0.95      0.91      0.93       225\n",
            "          28       0.90      0.89      0.90       224\n",
            "          29       0.86      0.86      0.86       228\n",
            "          30       0.98      0.98      0.98       229\n",
            "          31       0.88      0.91      0.89       232\n",
            "          32       0.93      0.91      0.92       228\n",
            "          33       0.89      0.87      0.88       231\n",
            "          34       0.93      0.94      0.93       213\n",
            "          35       0.93      0.87      0.90       202\n",
            "          36       0.88      0.96      0.92       228\n",
            "          37       0.88      0.81      0.85       212\n",
            "          38       0.88      0.91      0.89       208\n",
            "          39       0.84      0.79      0.81       216\n",
            "          40       0.95      0.92      0.94       212\n",
            "          41       0.95      0.94      0.94       223\n",
            "          42       0.90      0.93      0.92       238\n",
            "          43       0.91      0.88      0.90       212\n",
            "          44       0.91      0.90      0.90       229\n",
            "          45       0.93      0.96      0.95       233\n",
            "          46       0.91      0.90      0.90       224\n",
            "          47       0.94      0.94      0.94       234\n",
            "          48       0.93      0.97      0.95       223\n",
            "          49       0.89      0.94      0.91       229\n",
            "          50       0.91      0.95      0.93       225\n",
            "          51       0.96      0.96      0.96       228\n",
            "          52       0.89      0.93      0.91       232\n",
            "          53       0.83      0.87      0.85       233\n",
            "          54       0.90      0.90      0.90       203\n",
            "          55       0.84      0.80      0.82       234\n",
            "          56       0.96      0.93      0.95       223\n",
            "          57       0.94      0.94      0.94       234\n",
            "          58       0.95      0.93      0.94       232\n",
            "          59       0.94      0.97      0.96       233\n",
            "          60       0.88      0.89      0.88       197\n",
            "          61       0.75      0.73      0.74       215\n",
            "          62       0.94      0.94      0.94       238\n",
            "          63       0.95      0.96      0.95       231\n",
            "          64       0.94      0.95      0.94       227\n",
            "          65       0.94      0.94      0.94       234\n",
            "          66       0.91      0.95      0.93       224\n",
            "          67       0.91      0.98      0.94       231\n",
            "          68       0.93      0.94      0.93       217\n",
            "          69       0.88      0.91      0.90       223\n",
            "          70       0.94      0.89      0.92       230\n",
            "          71       0.91      0.92      0.91       228\n",
            "          72       0.94      0.94      0.94       234\n",
            "          73       0.94      0.96      0.95       225\n",
            "          74       0.81      0.74      0.77       211\n",
            "          75       0.85      0.89      0.87       218\n",
            "          76       0.88      0.94      0.91       235\n",
            "          77       0.92      0.89      0.90       227\n",
            "          78       0.90      0.90      0.90       210\n",
            "          79       0.95      0.94      0.94       220\n",
            "          80       0.90      0.93      0.91       224\n",
            "          81       0.93      0.93      0.93       232\n",
            "          82       0.93      0.92      0.92       236\n",
            "          83       0.94      0.94      0.94       227\n",
            "          84       0.95      0.93      0.94       236\n",
            "          85       0.96      0.91      0.93       215\n",
            "          86       0.73      0.70      0.71       226\n",
            "          87       0.87      0.84      0.85       228\n",
            "          88       0.91      0.86      0.88       219\n",
            "          89       0.95      0.94      0.95       228\n",
            "          90       0.92      0.95      0.93       213\n",
            "          91       0.96      0.95      0.95       218\n",
            "          92       0.90      0.96      0.93       230\n",
            "          93       0.82      0.92      0.87       229\n",
            "          94       0.94      0.92      0.93       223\n",
            "          95       0.88      0.90      0.89       237\n",
            "          96       0.97      0.89      0.93       233\n",
            "          97       0.93      0.86      0.90       223\n",
            "          98       0.99      0.98      0.98       232\n",
            "          99       0.83      0.76      0.79       211\n",
            "         100       0.94      0.94      0.94       235\n",
            "\n",
            "    accuracy                           0.91     22716\n",
            "   macro avg       0.91      0.91      0.91     22716\n",
            "weighted avg       0.91      0.91      0.91     22716\n",
            "\n"
          ]
        }
      ]
    },
    {
      "cell_type": "code",
      "source": [],
      "metadata": {
        "id": "AMLS1oL0bMJB"
      },
      "execution_count": 16,
      "outputs": []
    }
  ]
}