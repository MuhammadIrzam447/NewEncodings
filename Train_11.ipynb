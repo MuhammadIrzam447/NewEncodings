{
  "nbformat": 4,
  "nbformat_minor": 0,
  "metadata": {
    "colab": {
      "provenance": [],
      "gpuType": "T4",
      "include_colab_link": true
    },
    "kernelspec": {
      "name": "python3",
      "display_name": "Python 3"
    },
    "language_info": {
      "name": "python"
    },
    "accelerator": "GPU"
  },
  "cells": [
    {
      "cell_type": "markdown",
      "metadata": {
        "id": "view-in-github",
        "colab_type": "text"
      },
      "source": [
        "<a href=\"https://colab.research.google.com/github/MuhammadIrzam447/NewEncodings/blob/main/Train_11.ipynb\" target=\"_parent\"><img src=\"https://colab.research.google.com/assets/colab-badge.svg\" alt=\"Open In Colab\"/></a>"
      ]
    },
    {
      "cell_type": "markdown",
      "source": [
        "# New Section"
      ],
      "metadata": {
        "id": "KCfJth3zqdZl"
      }
    },
    {
      "cell_type": "markdown",
      "source": [
        "Training Dataset"
      ],
      "metadata": {
        "id": "27JUbagnvJK6"
      }
    },
    {
      "cell_type": "code",
      "source": [
        "import os\n",
        "train_image_file_paths = []\n",
        "train_genre_labels = []\n",
        "\n",
        "train_image_folder_add = \"/content/MMLearning/data/imdb/rebuttal/doc2vec/mulitmodal-joint-doc2vec/image_only/train\"\n",
        "train_labels_file = \"/content/MMLearning/data/imdb/rebuttal/doc2vec/joint_train_label.txt\"\n",
        "\n",
        "with open(train_labels_file, 'r') as file:\n",
        "    for line in file:\n",
        "        parts = line.strip().split('|')\n",
        "        filename = parts[0].strip()\n",
        "        labels = parts[1].strip().split(', ')  # Split labels by comma and remove leading/trailing spaces\n",
        "        image_path = os.path.join(train_image_folder_add, filename)\n",
        "        train_image_file_paths.append(image_path)\n",
        "        train_genre_labels.append(labels)"
      ],
      "metadata": {
        "id": "SGASG2u5vIGc"
      },
      "execution_count": 1,
      "outputs": []
    },
    {
      "cell_type": "code",
      "source": [
        "len(train_image_file_paths)"
      ],
      "metadata": {
        "id": "aVDEkUt8SEY1",
        "colab": {
          "base_uri": "https://localhost:8080/"
        },
        "outputId": "30c4a23e-23ee-4ae6-ea5b-355032528d36"
      },
      "execution_count": 2,
      "outputs": [
        {
          "output_type": "execute_result",
          "data": {
            "text/plain": [
              "31104"
            ]
          },
          "metadata": {},
          "execution_count": 2
        }
      ]
    },
    {
      "cell_type": "code",
      "source": [
        "train_image_file_paths[0:10]"
      ],
      "metadata": {
        "colab": {
          "base_uri": "https://localhost:8080/"
        },
        "id": "UokGlX5rz3QT",
        "outputId": "9ca945c0-5c50-4bc7-feec-e1c3fa251103"
      },
      "execution_count": 3,
      "outputs": [
        {
          "output_type": "execute_result",
          "data": {
            "text/plain": [
              "['/content/MMLearning/data/imdb/rebuttal/doc2vec/mulitmodal-joint-doc2vec/image_only/train/0106714_3.png',\n",
              " '/content/MMLearning/data/imdb/rebuttal/doc2vec/mulitmodal-joint-doc2vec/image_only/train/0106714_4.png',\n",
              " '/content/MMLearning/data/imdb/rebuttal/doc2vec/mulitmodal-joint-doc2vec/image_only/train/0204504_3.png',\n",
              " '/content/MMLearning/data/imdb/rebuttal/doc2vec/mulitmodal-joint-doc2vec/image_only/train/0204504_4.png',\n",
              " '/content/MMLearning/data/imdb/rebuttal/doc2vec/mulitmodal-joint-doc2vec/image_only/train/1865357_3.png',\n",
              " '/content/MMLearning/data/imdb/rebuttal/doc2vec/mulitmodal-joint-doc2vec/image_only/train/1865357_4.png',\n",
              " '/content/MMLearning/data/imdb/rebuttal/doc2vec/mulitmodal-joint-doc2vec/image_only/train/0033804_3.png',\n",
              " '/content/MMLearning/data/imdb/rebuttal/doc2vec/mulitmodal-joint-doc2vec/image_only/train/0033804_4.png',\n",
              " '/content/MMLearning/data/imdb/rebuttal/doc2vec/mulitmodal-joint-doc2vec/image_only/train/0066423_3.png',\n",
              " '/content/MMLearning/data/imdb/rebuttal/doc2vec/mulitmodal-joint-doc2vec/image_only/train/0066423_4.png']"
            ]
          },
          "metadata": {},
          "execution_count": 3
        }
      ]
    },
    {
      "cell_type": "code",
      "source": [
        "\n",
        "from collections import defaultdict\n",
        "\n",
        "label_counts = defaultdict(int)\n",
        "\n",
        "for labels in train_genre_labels:\n",
        "    for label in labels:\n",
        "        label_counts[label] += 1"
      ],
      "metadata": {
        "id": "YF6Tgrj3F6Rc"
      },
      "execution_count": 4,
      "outputs": []
    },
    {
      "cell_type": "code",
      "source": [
        "label_counts"
      ],
      "metadata": {
        "id": "fIpNexHFH5-O",
        "colab": {
          "base_uri": "https://localhost:8080/"
        },
        "outputId": "015c953d-d587-430d-f9af-b29f28485b9a"
      },
      "execution_count": 5,
      "outputs": [
        {
          "output_type": "execute_result",
          "data": {
            "text/plain": [
              "defaultdict(int,\n",
              "            {'Crime': 4586,\n",
              "             'Drama': 16848,\n",
              "             'Thriller': 6226,\n",
              "             'Action': 4310,\n",
              "             'Comedy': 10216,\n",
              "             'Romance': 6452,\n",
              "             'Documentary': 2468,\n",
              "             'Short': 562,\n",
              "             'Mystery': 2462,\n",
              "             'History': 1360,\n",
              "             'Family': 1956,\n",
              "             'Adventure': 3222,\n",
              "             'Fantasy': 2324,\n",
              "             'Sci-Fi': 2424,\n",
              "             'Western': 846,\n",
              "             'Horror': 3206,\n",
              "             'Sport': 758,\n",
              "             'War': 1612,\n",
              "             'Music': 1268,\n",
              "             'Musical': 1006,\n",
              "             'Animation': 1172,\n",
              "             'Biography': 1576,\n",
              "             'Film-Noir': 404,\n",
              "             'News': 78,\n",
              "             'Talk-Show': 4,\n",
              "             'Reality-TV': 2})"
            ]
          },
          "metadata": {},
          "execution_count": 5
        }
      ]
    },
    {
      "cell_type": "code",
      "source": [
        "# Convert the defaultdict into a list of tuples\n",
        "label_count_list = [(label, count) for label, count in label_counts.items()]\n",
        "\n",
        "# Sort the list of tuples based on counts in descending order\n",
        "sorted_label_count_list = sorted(label_count_list, key=lambda x: x[1], reverse=True)\n",
        "\n",
        "# Display the sorted list\n",
        "for label, count in sorted_label_count_list:\n",
        "    print(f\"{label}: {count}\")\n",
        "\n",
        "print(\"Total Labels: \", len(label_count_list))"
      ],
      "metadata": {
        "id": "rzB9k8aeF6cH",
        "colab": {
          "base_uri": "https://localhost:8080/"
        },
        "outputId": "967268eb-1bf4-41ad-fab9-9ec6102a2565"
      },
      "execution_count": 6,
      "outputs": [
        {
          "output_type": "stream",
          "name": "stdout",
          "text": [
            "Drama: 16848\n",
            "Comedy: 10216\n",
            "Romance: 6452\n",
            "Thriller: 6226\n",
            "Crime: 4586\n",
            "Action: 4310\n",
            "Adventure: 3222\n",
            "Horror: 3206\n",
            "Documentary: 2468\n",
            "Mystery: 2462\n",
            "Sci-Fi: 2424\n",
            "Fantasy: 2324\n",
            "Family: 1956\n",
            "War: 1612\n",
            "Biography: 1576\n",
            "History: 1360\n",
            "Music: 1268\n",
            "Animation: 1172\n",
            "Musical: 1006\n",
            "Western: 846\n",
            "Sport: 758\n",
            "Short: 562\n",
            "Film-Noir: 404\n",
            "News: 78\n",
            "Talk-Show: 4\n",
            "Reality-TV: 2\n",
            "Total Labels:  26\n"
          ]
        }
      ]
    },
    {
      "cell_type": "code",
      "source": [
        "min_label_count = 400\n",
        "valid_labels = [label for label, count in label_counts.items() if count >= min_label_count]\n",
        "valid_labels = sorted(list(valid_labels))"
      ],
      "metadata": {
        "id": "kEakjRS5F_bd"
      },
      "execution_count": 7,
      "outputs": []
    },
    {
      "cell_type": "code",
      "source": [
        "valid_labels, len(valid_labels)"
      ],
      "metadata": {
        "id": "elYCUFKfGCjk",
        "colab": {
          "base_uri": "https://localhost:8080/"
        },
        "outputId": "cb2d164a-6c05-44f9-c207-c9ae5d281dfc"
      },
      "execution_count": 8,
      "outputs": [
        {
          "output_type": "execute_result",
          "data": {
            "text/plain": [
              "(['Action',\n",
              "  'Adventure',\n",
              "  'Animation',\n",
              "  'Biography',\n",
              "  'Comedy',\n",
              "  'Crime',\n",
              "  'Documentary',\n",
              "  'Drama',\n",
              "  'Family',\n",
              "  'Fantasy',\n",
              "  'Film-Noir',\n",
              "  'History',\n",
              "  'Horror',\n",
              "  'Music',\n",
              "  'Musical',\n",
              "  'Mystery',\n",
              "  'Romance',\n",
              "  'Sci-Fi',\n",
              "  'Short',\n",
              "  'Sport',\n",
              "  'Thriller',\n",
              "  'War',\n",
              "  'Western'],\n",
              " 23)"
            ]
          },
          "metadata": {},
          "execution_count": 8
        }
      ]
    },
    {
      "cell_type": "code",
      "source": [
        "num_labels = len(valid_labels)\n",
        "label2id = {label: str(i) for i, label in enumerate(valid_labels)}\n",
        "id2label = {str(i): label for i, label in enumerate(valid_labels)}"
      ],
      "metadata": {
        "id": "3erAiX-pv1PV"
      },
      "execution_count": 9,
      "outputs": []
    },
    {
      "cell_type": "code",
      "source": [
        "id2label"
      ],
      "metadata": {
        "id": "IYSgaj2cwKDJ",
        "colab": {
          "base_uri": "https://localhost:8080/"
        },
        "outputId": "222cb448-d6ea-4c0a-be66-9ae59ee4fb0a"
      },
      "execution_count": 10,
      "outputs": [
        {
          "output_type": "execute_result",
          "data": {
            "text/plain": [
              "{'0': 'Action',\n",
              " '1': 'Adventure',\n",
              " '2': 'Animation',\n",
              " '3': 'Biography',\n",
              " '4': 'Comedy',\n",
              " '5': 'Crime',\n",
              " '6': 'Documentary',\n",
              " '7': 'Drama',\n",
              " '8': 'Family',\n",
              " '9': 'Fantasy',\n",
              " '10': 'Film-Noir',\n",
              " '11': 'History',\n",
              " '12': 'Horror',\n",
              " '13': 'Music',\n",
              " '14': 'Musical',\n",
              " '15': 'Mystery',\n",
              " '16': 'Romance',\n",
              " '17': 'Sci-Fi',\n",
              " '18': 'Short',\n",
              " '19': 'Sport',\n",
              " '20': 'Thriller',\n",
              " '21': 'War',\n",
              " '22': 'Western'}"
            ]
          },
          "metadata": {},
          "execution_count": 10
        }
      ]
    },
    {
      "cell_type": "code",
      "source": [
        "num_labels"
      ],
      "metadata": {
        "id": "TX4BGI9_wNfE",
        "colab": {
          "base_uri": "https://localhost:8080/"
        },
        "outputId": "de5850f1-5798-43f5-909b-3ceb0afc5e3d"
      },
      "execution_count": 11,
      "outputs": [
        {
          "output_type": "execute_result",
          "data": {
            "text/plain": [
              "23"
            ]
          },
          "metadata": {},
          "execution_count": 11
        }
      ]
    },
    {
      "cell_type": "code",
      "source": [
        "train_multi_hot_labels = []\n",
        "\n",
        "for labels in train_genre_labels:\n",
        "    multi_hot = [1 if label in labels else 0 for label in valid_labels]\n",
        "    train_multi_hot_labels.append(multi_hot)"
      ],
      "metadata": {
        "id": "fkFtTj2FvWpD"
      },
      "execution_count": 12,
      "outputs": []
    },
    {
      "cell_type": "code",
      "source": [
        "train_multi_hot_labels[0]"
      ],
      "metadata": {
        "id": "qEDvj2BJIKsJ",
        "colab": {
          "base_uri": "https://localhost:8080/"
        },
        "outputId": "d11e1ee2-7f31-4c8a-adff-63483fb695cc"
      },
      "execution_count": 13,
      "outputs": [
        {
          "output_type": "execute_result",
          "data": {
            "text/plain": [
              "[0, 0, 0, 0, 0, 1, 0, 1, 0, 0, 0, 0, 0, 0, 0, 0, 0, 0, 0, 0, 1, 0, 0]"
            ]
          },
          "metadata": {},
          "execution_count": 13
        }
      ]
    },
    {
      "cell_type": "code",
      "source": [
        "train_genre_labels[0]"
      ],
      "metadata": {
        "id": "sRFZ9Z9rIOSF",
        "colab": {
          "base_uri": "https://localhost:8080/"
        },
        "outputId": "915a9a21-604a-4b4a-d6fd-85a5ae32b997"
      },
      "execution_count": 14,
      "outputs": [
        {
          "output_type": "execute_result",
          "data": {
            "text/plain": [
              "['Crime', 'Drama', 'Thriller']"
            ]
          },
          "metadata": {},
          "execution_count": 14
        }
      ]
    },
    {
      "cell_type": "markdown",
      "source": [
        "Test Dataset"
      ],
      "metadata": {
        "id": "5PZTetjHFJv1"
      }
    },
    {
      "cell_type": "code",
      "source": [
        "import os\n",
        "image_file_paths = []\n",
        "genre_labels = []\n",
        "\n",
        "image_folder_add = \"/content/MMLearning/data/imdb/rebuttal/doc2vec/mulitmodal-joint-doc2vec/image_only/test\"\n",
        "labels_file = '/content/MMLearning/data/imdb/rebuttal/doc2vec/joint_test_label.txt'\n",
        "\n",
        "with open(labels_file, 'r') as file:\n",
        "    for line in file:\n",
        "        parts = line.strip().split('|')\n",
        "        filename = parts[0].strip()\n",
        "        labels = parts[1].strip().split(', ')  # Split labels by comma and remove leading/trailing spaces\n",
        "        image_path = os.path.join(image_folder_add, filename)\n",
        "        image_file_paths.append(image_path)\n",
        "        genre_labels.append(labels)"
      ],
      "metadata": {
        "id": "AA5mDiCVFMDb"
      },
      "execution_count": 15,
      "outputs": []
    },
    {
      "cell_type": "code",
      "source": [
        "len(image_file_paths)"
      ],
      "metadata": {
        "id": "ZL0rp0CzIbzF",
        "colab": {
          "base_uri": "https://localhost:8080/"
        },
        "outputId": "ccb4bee4-d8e6-4b33-85e0-10cd977b5983"
      },
      "execution_count": 16,
      "outputs": [
        {
          "output_type": "execute_result",
          "data": {
            "text/plain": [
              "15598"
            ]
          },
          "metadata": {},
          "execution_count": 16
        }
      ]
    },
    {
      "cell_type": "code",
      "source": [
        "image_file_paths[0:10]"
      ],
      "metadata": {
        "id": "8vxqITtzTdSg",
        "colab": {
          "base_uri": "https://localhost:8080/"
        },
        "outputId": "08732380-7ecf-45a4-f08e-594d5d17d075"
      },
      "execution_count": 17,
      "outputs": [
        {
          "output_type": "execute_result",
          "data": {
            "text/plain": [
              "['/content/MMLearning/data/imdb/rebuttal/doc2vec/mulitmodal-joint-doc2vec/image_only/test/0078718_3.png',\n",
              " '/content/MMLearning/data/imdb/rebuttal/doc2vec/mulitmodal-joint-doc2vec/image_only/test/0078718_4.png',\n",
              " '/content/MMLearning/data/imdb/rebuttal/doc2vec/mulitmodal-joint-doc2vec/image_only/test/0089003_3.png',\n",
              " '/content/MMLearning/data/imdb/rebuttal/doc2vec/mulitmodal-joint-doc2vec/image_only/test/0089003_4.png',\n",
              " '/content/MMLearning/data/imdb/rebuttal/doc2vec/mulitmodal-joint-doc2vec/image_only/test/0098136_3.png',\n",
              " '/content/MMLearning/data/imdb/rebuttal/doc2vec/mulitmodal-joint-doc2vec/image_only/test/0098136_4.png',\n",
              " '/content/MMLearning/data/imdb/rebuttal/doc2vec/mulitmodal-joint-doc2vec/image_only/test/0057693_3.png',\n",
              " '/content/MMLearning/data/imdb/rebuttal/doc2vec/mulitmodal-joint-doc2vec/image_only/test/0057693_4.png',\n",
              " '/content/MMLearning/data/imdb/rebuttal/doc2vec/mulitmodal-joint-doc2vec/image_only/test/0385330_3.png',\n",
              " '/content/MMLearning/data/imdb/rebuttal/doc2vec/mulitmodal-joint-doc2vec/image_only/test/0385330_4.png']"
            ]
          },
          "metadata": {},
          "execution_count": 17
        }
      ]
    },
    {
      "cell_type": "code",
      "source": [
        "# from collections import defaultdict\n",
        "\n",
        "# label_counts = defaultdict(int)\n",
        "\n",
        "# for labels in genre_labels:\n",
        "#     for label in labels:\n",
        "#         label_counts[label] += 1"
      ],
      "metadata": {
        "id": "0JN9GGSfGcR_"
      },
      "execution_count": 18,
      "outputs": []
    },
    {
      "cell_type": "code",
      "source": [
        "# label_counts"
      ],
      "metadata": {
        "id": "uE1LswS-Gh5n"
      },
      "execution_count": 19,
      "outputs": []
    },
    {
      "cell_type": "code",
      "source": [
        "# label_count_list = [(label, count) for label, count in label_counts.items()]\n",
        "# sorted_label_count_list = sorted(label_count_list, key=lambda x: x[1], reverse=True)\n",
        "# for label, count in sorted_label_count_list:\n",
        "#     print(f\"{label}: {count}\")\n",
        "# print(\"Total Labels: \", len(label_count_list))"
      ],
      "metadata": {
        "id": "jaUebffvJFvC"
      },
      "execution_count": 20,
      "outputs": []
    },
    {
      "cell_type": "code",
      "source": [
        "multi_hot_labels = []\n",
        "\n",
        "for labels in genre_labels:\n",
        "    multi_hot = [1 if label in labels else 0 for label in valid_labels]\n",
        "    multi_hot_labels.append(multi_hot)"
      ],
      "metadata": {
        "id": "11mF79hnFNBW"
      },
      "execution_count": 21,
      "outputs": []
    },
    {
      "cell_type": "markdown",
      "source": [
        "Creating Datasets"
      ],
      "metadata": {
        "id": "wPeiQ6yyvNOz"
      }
    },
    {
      "cell_type": "code",
      "source": [
        "!pip install transformers evaluate datasets\n",
        "from datasets import Dataset\n",
        "import requests\n",
        "import torch\n",
        "from PIL import Image\n",
        "from transformers import *\n",
        "from tqdm import tqdm"
      ],
      "metadata": {
        "id": "G9Nsa_BDrGNE"
      },
      "execution_count": 22,
      "outputs": []
    },
    {
      "cell_type": "code",
      "source": [
        "train_data = {'image': train_image_file_paths, 'label': train_multi_hot_labels}\n",
        "ds_train = Dataset.from_dict(train_data)\n",
        "\n",
        "val_data = {'image': image_file_paths, 'label': multi_hot_labels}\n",
        "ds_val = Dataset.from_dict(val_data)"
      ],
      "metadata": {
        "id": "a4mLnUT7qd5l"
      },
      "execution_count": 23,
      "outputs": []
    },
    {
      "cell_type": "code",
      "source": [
        "ds_train"
      ],
      "metadata": {
        "id": "3SjM0TVurJGf",
        "colab": {
          "base_uri": "https://localhost:8080/"
        },
        "outputId": "7bd8b366-de2f-416c-ac66-ff148a117fbb"
      },
      "execution_count": 24,
      "outputs": [
        {
          "output_type": "execute_result",
          "data": {
            "text/plain": [
              "Dataset({\n",
              "    features: ['image', 'label'],\n",
              "    num_rows: 31104\n",
              "})"
            ]
          },
          "metadata": {},
          "execution_count": 24
        }
      ]
    },
    {
      "cell_type": "code",
      "source": [
        "ds_val"
      ],
      "metadata": {
        "id": "O8mdfwrqwykE",
        "colab": {
          "base_uri": "https://localhost:8080/"
        },
        "outputId": "1bc210b5-8125-4bd0-b7a6-86a5ee3ebc15"
      },
      "execution_count": 25,
      "outputs": [
        {
          "output_type": "execute_result",
          "data": {
            "text/plain": [
              "Dataset({\n",
              "    features: ['image', 'label'],\n",
              "    num_rows: 15598\n",
              "})"
            ]
          },
          "metadata": {},
          "execution_count": 25
        }
      ]
    },
    {
      "cell_type": "code",
      "source": [
        "# import os\n",
        "\n",
        "# def filter_function(example):\n",
        "#     filename = example[\"image\"]\n",
        "#     return not (filename.endswith(\"_1.png\") or filename.endswith(\"_2.png\"))"
      ],
      "metadata": {
        "id": "j8kynSG3dJ2B"
      },
      "execution_count": 26,
      "outputs": []
    },
    {
      "cell_type": "code",
      "source": [
        "# ds_val = ds_val.filter(filter_function)"
      ],
      "metadata": {
        "id": "qhNKgZdzdMWq"
      },
      "execution_count": 27,
      "outputs": []
    },
    {
      "cell_type": "code",
      "source": [
        "ds_val"
      ],
      "metadata": {
        "id": "hrUWaxleepOy",
        "colab": {
          "base_uri": "https://localhost:8080/"
        },
        "outputId": "a83399b2-71cc-45ec-bc88-34d501734225"
      },
      "execution_count": 28,
      "outputs": [
        {
          "output_type": "execute_result",
          "data": {
            "text/plain": [
              "Dataset({\n",
              "    features: ['image', 'label'],\n",
              "    num_rows: 15598\n",
              "})"
            ]
          },
          "metadata": {},
          "execution_count": 28
        }
      ]
    },
    {
      "cell_type": "code",
      "source": [
        "ds_train['image'][0], ds_val['image'][0], ds_train['image'][1], ds_val['image'][1]"
      ],
      "metadata": {
        "id": "R5kP5p4_r008",
        "colab": {
          "base_uri": "https://localhost:8080/"
        },
        "outputId": "9aaddacd-fe8b-4235-f124-eba44cfe8154"
      },
      "execution_count": 29,
      "outputs": [
        {
          "output_type": "execute_result",
          "data": {
            "text/plain": [
              "('/content/MMLearning/data/imdb/rebuttal/doc2vec/mulitmodal-joint-doc2vec/image_only/train/0106714_3.png',\n",
              " '/content/MMLearning/data/imdb/rebuttal/doc2vec/mulitmodal-joint-doc2vec/image_only/test/0078718_3.png',\n",
              " '/content/MMLearning/data/imdb/rebuttal/doc2vec/mulitmodal-joint-doc2vec/image_only/train/0106714_4.png',\n",
              " '/content/MMLearning/data/imdb/rebuttal/doc2vec/mulitmodal-joint-doc2vec/image_only/test/0078718_4.png')"
            ]
          },
          "metadata": {},
          "execution_count": 29
        }
      ]
    },
    {
      "cell_type": "code",
      "source": [
        "# labels = ds.features[\"label\"]\n",
        "labels = valid_labels\n",
        "labels"
      ],
      "metadata": {
        "id": "iZAsVZXkrMHz",
        "colab": {
          "base_uri": "https://localhost:8080/"
        },
        "outputId": "29fbf920-1bb7-44e8-c28a-e5771dd1fd7d"
      },
      "execution_count": 30,
      "outputs": [
        {
          "output_type": "execute_result",
          "data": {
            "text/plain": [
              "['Action',\n",
              " 'Adventure',\n",
              " 'Animation',\n",
              " 'Biography',\n",
              " 'Comedy',\n",
              " 'Crime',\n",
              " 'Documentary',\n",
              " 'Drama',\n",
              " 'Family',\n",
              " 'Fantasy',\n",
              " 'Film-Noir',\n",
              " 'History',\n",
              " 'Horror',\n",
              " 'Music',\n",
              " 'Musical',\n",
              " 'Mystery',\n",
              " 'Romance',\n",
              " 'Sci-Fi',\n",
              " 'Short',\n",
              " 'Sport',\n",
              " 'Thriller',\n",
              " 'War',\n",
              " 'Western']"
            ]
          },
          "metadata": {},
          "execution_count": 30
        }
      ]
    },
    {
      "cell_type": "markdown",
      "source": [
        "Creating Model"
      ],
      "metadata": {
        "id": "ac-q2lZhuxBc"
      }
    },
    {
      "cell_type": "code",
      "source": [
        "device = \"cuda\" if torch.cuda.is_available() else \"cpu\"\n",
        "print(device)"
      ],
      "metadata": {
        "id": "T1YZ7kVesVM8",
        "colab": {
          "base_uri": "https://localhost:8080/"
        },
        "outputId": "4ecc6588-898e-4c09-9daf-6530817da535"
      },
      "execution_count": 31,
      "outputs": [
        {
          "output_type": "stream",
          "name": "stdout",
          "text": [
            "cuda\n"
          ]
        }
      ]
    },
    {
      "cell_type": "code",
      "source": [
        "model_name = \"google/vit-base-patch16-224\"\n",
        "image_processor = ViTImageProcessor.from_pretrained(model_name)\n",
        "model = ViTForImageClassification.from_pretrained(model_name).to(device)"
      ],
      "metadata": {
        "id": "qXK14nDosWFW"
      },
      "execution_count": null,
      "outputs": []
    },
    {
      "cell_type": "code",
      "source": [
        "import PIL.Image as pil\n",
        "\n",
        "def transform(examples):\n",
        "  # inputs = image_processor([Image.open(img).convert(\"RGB\") for img in examples[\"image\"]], return_tensors=\"pt\")\n",
        "  inputs = image_processor([pil.open(img).convert(\"RGB\") for img in examples[\"image\"]], return_tensors=\"pt\")\n",
        "  inputs[\"labels\"] = examples[\"label\"]\n",
        "  return inputs"
      ],
      "metadata": {
        "id": "bpeUOPS2v_qC"
      },
      "execution_count": 33,
      "outputs": []
    },
    {
      "cell_type": "code",
      "source": [
        "train_dataset = ds_train.with_transform(transform)\n",
        "val_dataset = ds_val.with_transform(transform)"
      ],
      "metadata": {
        "id": "DZUEGqDlwEZ-"
      },
      "execution_count": 34,
      "outputs": []
    },
    {
      "cell_type": "code",
      "source": [
        "train_dataset"
      ],
      "metadata": {
        "id": "WgMgw6nswEo-",
        "colab": {
          "base_uri": "https://localhost:8080/"
        },
        "outputId": "cfe8bd2e-0c5f-430b-a318-374fdb610305"
      },
      "execution_count": 35,
      "outputs": [
        {
          "output_type": "execute_result",
          "data": {
            "text/plain": [
              "Dataset({\n",
              "    features: ['image', 'label'],\n",
              "    num_rows: 31104\n",
              "})"
            ]
          },
          "metadata": {},
          "execution_count": 35
        }
      ]
    },
    {
      "cell_type": "code",
      "source": [
        "val_dataset"
      ],
      "metadata": {
        "id": "2cC5DlJQxNzV",
        "colab": {
          "base_uri": "https://localhost:8080/"
        },
        "outputId": "decfe0ba-0b7f-45d7-d47d-268bc8ee4250"
      },
      "execution_count": 36,
      "outputs": [
        {
          "output_type": "execute_result",
          "data": {
            "text/plain": [
              "Dataset({\n",
              "    features: ['image', 'label'],\n",
              "    num_rows: 15598\n",
              "})"
            ]
          },
          "metadata": {},
          "execution_count": 36
        }
      ]
    },
    {
      "cell_type": "code",
      "source": [
        "sample = train_dataset[0]\n",
        "# img = sample[\"pixel_values\"]\n",
        "# filename = os.path.basename(img.filename)\n",
        "# print(f\"File Name: {filename}\")"
      ],
      "metadata": {
        "id": "Yu09sABJUxNB"
      },
      "execution_count": 37,
      "outputs": []
    },
    {
      "cell_type": "code",
      "source": [
        "sample"
      ],
      "metadata": {
        "id": "u9Yfq17FYtIO",
        "colab": {
          "base_uri": "https://localhost:8080/"
        },
        "outputId": "ca193777-9588-4951-bafe-4f85bc2febf6"
      },
      "execution_count": 38,
      "outputs": [
        {
          "output_type": "execute_result",
          "data": {
            "text/plain": [
              "{'pixel_values': tensor([[[1., 1., 1.,  ..., 1., 1., 1.],\n",
              "          [1., 1., 1.,  ..., 1., 1., 1.],\n",
              "          [1., 1., 1.,  ..., 1., 1., 1.],\n",
              "          ...,\n",
              "          [1., 1., 1.,  ..., 1., 1., 1.],\n",
              "          [1., 1., 1.,  ..., 1., 1., 1.],\n",
              "          [1., 1., 1.,  ..., 1., 1., 1.]],\n",
              " \n",
              "         [[1., 1., 1.,  ..., 1., 1., 1.],\n",
              "          [1., 1., 1.,  ..., 1., 1., 1.],\n",
              "          [1., 1., 1.,  ..., 1., 1., 1.],\n",
              "          ...,\n",
              "          [1., 1., 1.,  ..., 1., 1., 1.],\n",
              "          [1., 1., 1.,  ..., 1., 1., 1.],\n",
              "          [1., 1., 1.,  ..., 1., 1., 1.]],\n",
              " \n",
              "         [[1., 1., 1.,  ..., 1., 1., 1.],\n",
              "          [1., 1., 1.,  ..., 1., 1., 1.],\n",
              "          [1., 1., 1.,  ..., 1., 1., 1.],\n",
              "          ...,\n",
              "          [1., 1., 1.,  ..., 1., 1., 1.],\n",
              "          [1., 1., 1.,  ..., 1., 1., 1.],\n",
              "          [1., 1., 1.,  ..., 1., 1., 1.]]]),\n",
              " 'labels': [0,\n",
              "  0,\n",
              "  0,\n",
              "  0,\n",
              "  0,\n",
              "  1,\n",
              "  0,\n",
              "  1,\n",
              "  0,\n",
              "  0,\n",
              "  0,\n",
              "  0,\n",
              "  0,\n",
              "  0,\n",
              "  0,\n",
              "  0,\n",
              "  0,\n",
              "  0,\n",
              "  0,\n",
              "  0,\n",
              "  1,\n",
              "  0,\n",
              "  0]}"
            ]
          },
          "metadata": {},
          "execution_count": 38
        }
      ]
    },
    {
      "cell_type": "code",
      "source": [
        "for item in train_dataset:\n",
        "  print(item['pixel_values'].shape)\n",
        "  print(item[\"labels\"])\n",
        "  break"
      ],
      "metadata": {
        "id": "GMi1dn5qzHn0",
        "colab": {
          "base_uri": "https://localhost:8080/"
        },
        "outputId": "3ace80a4-1936-4573-9db5-28bd47437459"
      },
      "execution_count": 39,
      "outputs": [
        {
          "output_type": "stream",
          "name": "stdout",
          "text": [
            "torch.Size([3, 224, 224])\n",
            "[0, 0, 0, 0, 0, 1, 0, 1, 0, 0, 0, 0, 0, 0, 0, 0, 0, 0, 0, 0, 1, 0, 0]\n"
          ]
        }
      ]
    },
    {
      "cell_type": "code",
      "source": [
        "import torch\n",
        "\n",
        "def collate_fn(batch):\n",
        "  return {\n",
        "      \"pixel_values\": torch.stack([x[\"pixel_values\"] for x in batch]),\n",
        "      \"labels\": torch.tensor([x[\"labels\"] for x in batch]),\n",
        "  }"
      ],
      "metadata": {
        "id": "6J-LWUv_wE48"
      },
      "execution_count": 40,
      "outputs": []
    },
    {
      "cell_type": "markdown",
      "source": [
        "Attach Final Layer to Model"
      ],
      "metadata": {
        "id": "nNN2igTOxdjL"
      }
    },
    {
      "cell_type": "code",
      "source": [
        "# load the ViT model\n",
        "model = ViTForImageClassification.from_pretrained(\n",
        "    model_name,\n",
        "    num_labels= len(valid_labels),\n",
        "    label2id = {label: str(i) for i, label in enumerate(valid_labels)},\n",
        "    id2label = {str(i): label for i, label in enumerate(valid_labels)},\n",
        "    problem_type = \"multi_label_classification\",\n",
        "    ignore_mismatched_sizes=True,\n",
        ")"
      ],
      "metadata": {
        "id": "ge9TkjxDvU7b",
        "colab": {
          "base_uri": "https://localhost:8080/"
        },
        "outputId": "932d98f0-70ae-4c58-d5ec-1b2c44cc3de8"
      },
      "execution_count": 41,
      "outputs": [
        {
          "output_type": "stream",
          "name": "stderr",
          "text": [
            "loading configuration file config.json from cache at /root/.cache/huggingface/hub/models--google--vit-base-patch16-224/snapshots/3f49326eb077187dfe1c2a2bb15fbd74e6ab91e3/config.json\n",
            "Model config ViTConfig {\n",
            "  \"_name_or_path\": \"google/vit-base-patch16-224\",\n",
            "  \"architectures\": [\n",
            "    \"ViTForImageClassification\"\n",
            "  ],\n",
            "  \"attention_probs_dropout_prob\": 0.0,\n",
            "  \"encoder_stride\": 16,\n",
            "  \"hidden_act\": \"gelu\",\n",
            "  \"hidden_dropout_prob\": 0.0,\n",
            "  \"hidden_size\": 768,\n",
            "  \"id2label\": {\n",
            "    \"0\": \"Action\",\n",
            "    \"1\": \"Adventure\",\n",
            "    \"10\": \"Film-Noir\",\n",
            "    \"11\": \"History\",\n",
            "    \"12\": \"Horror\",\n",
            "    \"13\": \"Music\",\n",
            "    \"14\": \"Musical\",\n",
            "    \"15\": \"Mystery\",\n",
            "    \"16\": \"Romance\",\n",
            "    \"17\": \"Sci-Fi\",\n",
            "    \"18\": \"Short\",\n",
            "    \"19\": \"Sport\",\n",
            "    \"2\": \"Animation\",\n",
            "    \"20\": \"Thriller\",\n",
            "    \"21\": \"War\",\n",
            "    \"22\": \"Western\",\n",
            "    \"3\": \"Biography\",\n",
            "    \"4\": \"Comedy\",\n",
            "    \"5\": \"Crime\",\n",
            "    \"6\": \"Documentary\",\n",
            "    \"7\": \"Drama\",\n",
            "    \"8\": \"Family\",\n",
            "    \"9\": \"Fantasy\"\n",
            "  },\n",
            "  \"image_size\": 224,\n",
            "  \"initializer_range\": 0.02,\n",
            "  \"intermediate_size\": 3072,\n",
            "  \"label2id\": {\n",
            "    \"Action\": \"0\",\n",
            "    \"Adventure\": \"1\",\n",
            "    \"Animation\": \"2\",\n",
            "    \"Biography\": \"3\",\n",
            "    \"Comedy\": \"4\",\n",
            "    \"Crime\": \"5\",\n",
            "    \"Documentary\": \"6\",\n",
            "    \"Drama\": \"7\",\n",
            "    \"Family\": \"8\",\n",
            "    \"Fantasy\": \"9\",\n",
            "    \"Film-Noir\": \"10\",\n",
            "    \"History\": \"11\",\n",
            "    \"Horror\": \"12\",\n",
            "    \"Music\": \"13\",\n",
            "    \"Musical\": \"14\",\n",
            "    \"Mystery\": \"15\",\n",
            "    \"Romance\": \"16\",\n",
            "    \"Sci-Fi\": \"17\",\n",
            "    \"Short\": \"18\",\n",
            "    \"Sport\": \"19\",\n",
            "    \"Thriller\": \"20\",\n",
            "    \"War\": \"21\",\n",
            "    \"Western\": \"22\"\n",
            "  },\n",
            "  \"layer_norm_eps\": 1e-12,\n",
            "  \"model_type\": \"vit\",\n",
            "  \"num_attention_heads\": 12,\n",
            "  \"num_channels\": 3,\n",
            "  \"num_hidden_layers\": 12,\n",
            "  \"patch_size\": 16,\n",
            "  \"problem_type\": \"multi_label_classification\",\n",
            "  \"qkv_bias\": true,\n",
            "  \"transformers_version\": \"4.32.1\"\n",
            "}\n",
            "\n",
            "loading weights file model.safetensors from cache at /root/.cache/huggingface/hub/models--google--vit-base-patch16-224/snapshots/3f49326eb077187dfe1c2a2bb15fbd74e6ab91e3/model.safetensors\n",
            "All model checkpoint weights were used when initializing ViTForImageClassification.\n",
            "\n",
            "Some weights of ViTForImageClassification were not initialized from the model checkpoint at google/vit-base-patch16-224 and are newly initialized because the shapes did not match:\n",
            "- classifier.bias: found shape torch.Size([1000]) in the checkpoint and torch.Size([23]) in the model instantiated\n",
            "- classifier.weight: found shape torch.Size([1000, 768]) in the checkpoint and torch.Size([23, 768]) in the model instantiated\n",
            "You should probably TRAIN this model on a down-stream task to be able to use it for predictions and inference.\n"
          ]
        }
      ]
    },
    {
      "cell_type": "markdown",
      "source": [
        "Setting Hyperparameters"
      ],
      "metadata": {
        "id": "mNzrUMBDvAps"
      }
    },
    {
      "cell_type": "code",
      "source": [
        "# Training loop\n",
        "from torch.utils.tensorboard import SummaryWriter\n",
        "from torch.optim import AdamW\n",
        "from torch.utils.data import DataLoader\n",
        "import torch\n",
        "import torch.nn.functional as F\n",
        "\n",
        "batch_size = 16"
      ],
      "metadata": {
        "id": "QSaA0l0kvfD1"
      },
      "execution_count": 42,
      "outputs": []
    },
    {
      "cell_type": "code",
      "source": [
        "train_dataset_loader = DataLoader(train_dataset, collate_fn=collate_fn, batch_size=batch_size, shuffle=True)\n",
        "valid_dataset_loader = DataLoader(val_dataset, collate_fn=collate_fn, batch_size=batch_size, shuffle=False)"
      ],
      "metadata": {
        "id": "H9a305Thv487"
      },
      "execution_count": 43,
      "outputs": []
    },
    {
      "cell_type": "code",
      "source": [
        "optimizer = AdamW(model.parameters(), lr=1e-5)"
      ],
      "metadata": {
        "id": "pDTtvcPav0r-"
      },
      "execution_count": 44,
      "outputs": []
    },
    {
      "cell_type": "code",
      "source": [
        "log_dir = \"/content/MMLearning/data/Models/Model-11\"\n",
        "summary_writer = SummaryWriter(log_dir=log_dir)"
      ],
      "metadata": {
        "id": "0u-AcYYPBCIq"
      },
      "execution_count": 45,
      "outputs": []
    },
    {
      "cell_type": "code",
      "source": [
        "num_epochs = 40\n",
        "model = model.to(device)"
      ],
      "metadata": {
        "id": "qxzkS9aDBEP6"
      },
      "execution_count": 46,
      "outputs": []
    },
    {
      "cell_type": "code",
      "source": [
        "n_train_steps = num_epochs * len(train_dataset_loader)\n",
        "n_valid_steps = len(valid_dataset_loader)\n",
        "current_step = 0"
      ],
      "metadata": {
        "id": "dbdQh7a9BMQS"
      },
      "execution_count": 47,
      "outputs": []
    },
    {
      "cell_type": "code",
      "source": [
        "n_train_steps , n_valid_steps"
      ],
      "metadata": {
        "id": "0zupZcnNxti1",
        "colab": {
          "base_uri": "https://localhost:8080/"
        },
        "outputId": "8d4a3fcf-88cd-4833-8265-d33b7c822ec4"
      },
      "execution_count": 48,
      "outputs": [
        {
          "output_type": "execute_result",
          "data": {
            "text/plain": [
              "(77760, 975)"
            ]
          },
          "metadata": {},
          "execution_count": 48
        }
      ]
    },
    {
      "cell_type": "code",
      "source": [
        "# logging, eval & save steps\n",
        "save_steps = 2000"
      ],
      "metadata": {
        "id": "aS9zwwA3BXUa"
      },
      "execution_count": 49,
      "outputs": []
    },
    {
      "cell_type": "code",
      "source": [
        "# def compute_metrics(eval_pred):\n",
        "#   accuracy_score = accuracy.compute(predictions=eval_pred.predictions, references=eval_pred.label_ids)\n",
        "#   f1_score = f1.compute(predictions=eval_pred.predictions, references=eval_pred.label_ids, average=\"macro\")\n",
        "#   return {**accuracy_score, **f1_score}"
      ],
      "metadata": {
        "id": "f7H1EL2TBVPT"
      },
      "execution_count": 50,
      "outputs": []
    },
    {
      "cell_type": "code",
      "source": [
        "from sklearn.metrics import accuracy_score, precision_score, recall_score, f1_score, classification_report\n",
        "import numpy as np\n",
        "\n",
        "for epoch in range(num_epochs):\n",
        "\n",
        "    model.train()\n",
        "    train_loss = 0\n",
        "    # progress_bar = tqdm(range(current_step, n_train_steps), \"Training\", dynamic_ncols=True, ncols=80)\n",
        "\n",
        "    for batch in train_dataset_loader:\n",
        "      if (current_step+1) % save_steps == 0:\n",
        "        print()\n",
        "        print(f\"Validation at step {current_step}...\")\n",
        "        print()\n",
        "\n",
        "        model.eval()\n",
        "\n",
        "        predictions, labels = [], []\n",
        "        valid_loss = 0\n",
        "\n",
        "        for batch in valid_dataset_loader:\n",
        "            pixel_values = batch[\"pixel_values\"].to(device)\n",
        "            label_ids = batch[\"labels\"].to(device).float()\n",
        "\n",
        "            outputs = model(pixel_values=pixel_values, labels=label_ids)\n",
        "\n",
        "            loss = outputs.loss\n",
        "            valid_loss += loss.item()\n",
        "\n",
        "            logits = outputs.logits.detach().cpu()\n",
        "\n",
        "            # predictions.extend((logits > 0.5).int().cpu().numpy())\n",
        "            predictions.extend(F.sigmoid(logits).cpu().numpy())\n",
        "            labels.extend(label_ids.int().cpu().numpy())\n",
        "\n",
        "        # eval_prediction = EvalPrediction(predictions=predictions, label_ids=labels)\n",
        "        # metrics = compute_metrics(eval_prediction)\n",
        "        print()\n",
        "        print(f\"Epoch: {epoch}, Step: {current_step}, Train Loss: {train_loss / save_steps:.4f}, \" +\n",
        "              f\"Valid Loss: {valid_loss / n_valid_steps:.4f}\") # , Accuracy: {metrics['accuracy']}, \" + f\"F1 Score: {metrics['f1']}\")\n",
        "        print()\n",
        "\n",
        "        # summary_writer.add_scalar(\"valid_loss\", valid_loss / n_valid_steps, global_step=current_step)\n",
        "        # summary_writer.add_scalar(\"accuracy\", metrics[\"accuracy\"], global_step=current_step)\n",
        "        # summary_writer.add_scalar(\"f1\", metrics[\"f1\"], global_step=current_step)\n",
        "\n",
        "        model.save_pretrained(f\"/content/MMLearning/data/Models/Model-11/checkpoint-{current_step}\")\n",
        "        # image_processor.save_pretrained(f\"/content/Model/Models-Train-23/checkpoint-{current_step}\")\n",
        "\n",
        "        predictions = np.array(predictions)\n",
        "        threshold = 0.5\n",
        "        predictions = (predictions >= threshold).astype(int)\n",
        "\n",
        "        # accuracy = accuracy_score(labels, predictions)\n",
        "        # precision = precision_score(labels, predictions, average='macro')\n",
        "        # recall = recall_score(labels, predictions, average='macro')\n",
        "        f1 = f1_score(labels, predictions, average='macro')\n",
        "\n",
        "        # print(f\"Accuracy: {accuracy}\")\n",
        "        # print(f\"Precision: {precision}\")\n",
        "        # print(f\"Recall: {recall}\")\n",
        "        print(f\"F1-Score: {f1}\")\n",
        "        # print(classification_report(labels, predictions))\n",
        "\n",
        "        model.train()\n",
        "        train_loss, valid_loss = 0, 0\n",
        "\n",
        "      pixel_values = batch[\"pixel_values\"].to(device)\n",
        "      labels = batch[\"labels\"].to(device).float()\n",
        "\n",
        "      outputs = model(pixel_values=pixel_values, labels=labels)\n",
        "\n",
        "      loss = outputs.loss\n",
        "      loss.backward()\n",
        "      optimizer.step()\n",
        "      optimizer.zero_grad()\n",
        "\n",
        "      loss_v = loss.item()\n",
        "      train_loss += loss_v\n",
        "\n",
        "      current_step += 1\n",
        "      # progress_bar.update(1)\n",
        "      summary_writer.add_scalar(\"train_loss\", loss_v, global_step=current_step)"
      ],
      "metadata": {
        "id": "PXHxhHIqCGR7",
        "colab": {
          "base_uri": "https://localhost:8080/"
        },
        "outputId": "11b85c2e-53ed-4511-c886-f6186faea7b3"
      },
      "execution_count": null,
      "outputs": [
        {
          "output_type": "stream",
          "name": "stdout",
          "text": [
            "\n",
            "Validation at step 1999...\n",
            "\n"
          ]
        },
        {
          "output_type": "stream",
          "name": "stderr",
          "text": [
            "Configuration saved in /content/MMLearning/data/Models/Model-11/checkpoint-1999/config.json\n"
          ]
        },
        {
          "output_type": "stream",
          "name": "stdout",
          "text": [
            "\n",
            "Epoch: 1, Step: 1999, Train Loss: 0.0071, Valid Loss: 0.2678\n",
            "\n"
          ]
        },
        {
          "output_type": "stream",
          "name": "stderr",
          "text": [
            "Model weights saved in /content/MMLearning/data/Models/Model-11/checkpoint-1999/pytorch_model.bin\n"
          ]
        },
        {
          "output_type": "stream",
          "name": "stdout",
          "text": [
            "F1-Score: 0.10001344572042786\n",
            "\n",
            "Validation at step 3999...\n",
            "\n"
          ]
        },
        {
          "output_type": "stream",
          "name": "stderr",
          "text": [
            "Configuration saved in /content/MMLearning/data/Models/Model-11/checkpoint-3999/config.json\n"
          ]
        },
        {
          "output_type": "stream",
          "name": "stdout",
          "text": [
            "\n",
            "Epoch: 2, Step: 3999, Train Loss: 0.0138, Valid Loss: 0.2641\n",
            "\n"
          ]
        },
        {
          "output_type": "stream",
          "name": "stderr",
          "text": [
            "Model weights saved in /content/MMLearning/data/Models/Model-11/checkpoint-3999/pytorch_model.bin\n"
          ]
        },
        {
          "output_type": "stream",
          "name": "stdout",
          "text": [
            "F1-Score: 0.14190633592619237\n",
            "\n",
            "Validation at step 5999...\n",
            "\n"
          ]
        },
        {
          "output_type": "stream",
          "name": "stderr",
          "text": [
            "Configuration saved in /content/MMLearning/data/Models/Model-11/checkpoint-5999/config.json\n"
          ]
        },
        {
          "output_type": "stream",
          "name": "stdout",
          "text": [
            "\n",
            "Epoch: 3, Step: 5999, Train Loss: 0.0195, Valid Loss: 0.2632\n",
            "\n"
          ]
        },
        {
          "output_type": "stream",
          "name": "stderr",
          "text": [
            "Model weights saved in /content/MMLearning/data/Models/Model-11/checkpoint-5999/pytorch_model.bin\n"
          ]
        },
        {
          "output_type": "stream",
          "name": "stdout",
          "text": [
            "F1-Score: 0.15337273570762444\n",
            "\n",
            "Validation at step 7999...\n",
            "\n"
          ]
        },
        {
          "output_type": "stream",
          "name": "stderr",
          "text": [
            "Configuration saved in /content/MMLearning/data/Models/Model-11/checkpoint-7999/config.json\n"
          ]
        },
        {
          "output_type": "stream",
          "name": "stdout",
          "text": [
            "\n",
            "Epoch: 4, Step: 7999, Train Loss: 0.0234, Valid Loss: 0.2671\n",
            "\n"
          ]
        },
        {
          "output_type": "stream",
          "name": "stderr",
          "text": [
            "Model weights saved in /content/MMLearning/data/Models/Model-11/checkpoint-7999/pytorch_model.bin\n"
          ]
        },
        {
          "output_type": "stream",
          "name": "stdout",
          "text": [
            "F1-Score: 0.16774111642281417\n",
            "\n",
            "Validation at step 9999...\n",
            "\n"
          ]
        },
        {
          "output_type": "stream",
          "name": "stderr",
          "text": [
            "Configuration saved in /content/MMLearning/data/Models/Model-11/checkpoint-9999/config.json\n"
          ]
        },
        {
          "output_type": "stream",
          "name": "stdout",
          "text": [
            "\n",
            "Epoch: 5, Step: 9999, Train Loss: 0.0276, Valid Loss: 0.2734\n",
            "\n"
          ]
        },
        {
          "output_type": "stream",
          "name": "stderr",
          "text": [
            "Model weights saved in /content/MMLearning/data/Models/Model-11/checkpoint-9999/pytorch_model.bin\n"
          ]
        },
        {
          "output_type": "stream",
          "name": "stdout",
          "text": [
            "F1-Score: 0.17644109856891887\n",
            "\n",
            "Validation at step 11999...\n",
            "\n"
          ]
        },
        {
          "output_type": "stream",
          "name": "stderr",
          "text": [
            "Configuration saved in /content/MMLearning/data/Models/Model-11/checkpoint-11999/config.json\n"
          ]
        },
        {
          "output_type": "stream",
          "name": "stdout",
          "text": [
            "\n",
            "Epoch: 6, Step: 11999, Train Loss: 0.0294, Valid Loss: 0.2838\n",
            "\n"
          ]
        },
        {
          "output_type": "stream",
          "name": "stderr",
          "text": [
            "Model weights saved in /content/MMLearning/data/Models/Model-11/checkpoint-11999/pytorch_model.bin\n"
          ]
        },
        {
          "output_type": "stream",
          "name": "stdout",
          "text": [
            "F1-Score: 0.1683152532242431\n",
            "\n",
            "Validation at step 13999...\n",
            "\n"
          ]
        },
        {
          "output_type": "stream",
          "name": "stderr",
          "text": [
            "Configuration saved in /content/MMLearning/data/Models/Model-11/checkpoint-13999/config.json\n"
          ]
        },
        {
          "output_type": "stream",
          "name": "stdout",
          "text": [
            "\n",
            "Epoch: 7, Step: 13999, Train Loss: 0.0315, Valid Loss: 0.2955\n",
            "\n"
          ]
        },
        {
          "output_type": "stream",
          "name": "stderr",
          "text": [
            "Model weights saved in /content/MMLearning/data/Models/Model-11/checkpoint-13999/pytorch_model.bin\n"
          ]
        },
        {
          "output_type": "stream",
          "name": "stdout",
          "text": [
            "F1-Score: 0.1719712861605352\n",
            "\n",
            "Validation at step 15999...\n",
            "\n"
          ]
        },
        {
          "output_type": "stream",
          "name": "stderr",
          "text": [
            "Configuration saved in /content/MMLearning/data/Models/Model-11/checkpoint-15999/config.json\n"
          ]
        },
        {
          "output_type": "stream",
          "name": "stdout",
          "text": [
            "\n",
            "Epoch: 8, Step: 15999, Train Loss: 0.0320, Valid Loss: 0.3122\n",
            "\n"
          ]
        },
        {
          "output_type": "stream",
          "name": "stderr",
          "text": [
            "Model weights saved in /content/MMLearning/data/Models/Model-11/checkpoint-15999/pytorch_model.bin\n"
          ]
        },
        {
          "output_type": "stream",
          "name": "stdout",
          "text": [
            "F1-Score: 0.1764448253094716\n",
            "\n",
            "Validation at step 17999...\n",
            "\n"
          ]
        },
        {
          "output_type": "stream",
          "name": "stderr",
          "text": [
            "Configuration saved in /content/MMLearning/data/Models/Model-11/checkpoint-17999/config.json\n"
          ]
        },
        {
          "output_type": "stream",
          "name": "stdout",
          "text": [
            "\n",
            "Epoch: 9, Step: 17999, Train Loss: 0.0308, Valid Loss: 0.3313\n",
            "\n"
          ]
        },
        {
          "output_type": "stream",
          "name": "stderr",
          "text": [
            "Model weights saved in /content/MMLearning/data/Models/Model-11/checkpoint-17999/pytorch_model.bin\n"
          ]
        },
        {
          "output_type": "stream",
          "name": "stdout",
          "text": [
            "F1-Score: 0.18331605255595426\n",
            "\n",
            "Validation at step 19999...\n",
            "\n"
          ]
        },
        {
          "output_type": "stream",
          "name": "stderr",
          "text": [
            "Configuration saved in /content/MMLearning/data/Models/Model-11/checkpoint-19999/config.json\n"
          ]
        },
        {
          "output_type": "stream",
          "name": "stdout",
          "text": [
            "\n",
            "Epoch: 10, Step: 19999, Train Loss: 0.0276, Valid Loss: 0.3545\n",
            "\n"
          ]
        },
        {
          "output_type": "stream",
          "name": "stderr",
          "text": [
            "Model weights saved in /content/MMLearning/data/Models/Model-11/checkpoint-19999/pytorch_model.bin\n"
          ]
        },
        {
          "output_type": "stream",
          "name": "stdout",
          "text": [
            "F1-Score: 0.17941467525372462\n",
            "\n",
            "Validation at step 21999...\n",
            "\n"
          ]
        },
        {
          "output_type": "stream",
          "name": "stderr",
          "text": [
            "Configuration saved in /content/MMLearning/data/Models/Model-11/checkpoint-21999/config.json\n"
          ]
        },
        {
          "output_type": "stream",
          "name": "stdout",
          "text": [
            "\n",
            "Epoch: 11, Step: 21999, Train Loss: 0.0242, Valid Loss: 0.3792\n",
            "\n"
          ]
        },
        {
          "output_type": "stream",
          "name": "stderr",
          "text": [
            "Model weights saved in /content/MMLearning/data/Models/Model-11/checkpoint-21999/pytorch_model.bin\n"
          ]
        },
        {
          "output_type": "stream",
          "name": "stdout",
          "text": [
            "F1-Score: 0.18521504044024162\n",
            "\n",
            "Validation at step 23999...\n",
            "\n"
          ]
        },
        {
          "output_type": "stream",
          "name": "stderr",
          "text": [
            "Configuration saved in /content/MMLearning/data/Models/Model-11/checkpoint-23999/config.json\n"
          ]
        },
        {
          "output_type": "stream",
          "name": "stdout",
          "text": [
            "\n",
            "Epoch: 12, Step: 23999, Train Loss: 0.0208, Valid Loss: 0.4068\n",
            "\n"
          ]
        },
        {
          "output_type": "stream",
          "name": "stderr",
          "text": [
            "Model weights saved in /content/MMLearning/data/Models/Model-11/checkpoint-23999/pytorch_model.bin\n"
          ]
        },
        {
          "output_type": "stream",
          "name": "stdout",
          "text": [
            "F1-Score: 0.18727821945716674\n"
          ]
        }
      ]
    },
    {
      "cell_type": "code",
      "source": [
        "# model = ViTForImageClassification.from_pretrained(f\"/content/checkpoint-999\").to(device)\n",
        "# image_processor = ViTImageProcessor.from_pretrained(f\"/content/checkpoint-999\")"
      ],
      "metadata": {
        "id": "tHqcBHpmv2iU"
      },
      "execution_count": null,
      "outputs": []
    },
    {
      "cell_type": "code",
      "source": [],
      "metadata": {
        "id": "-JJINar35a3v"
      },
      "execution_count": null,
      "outputs": []
    },
    {
      "cell_type": "markdown",
      "source": [
        "# Validation"
      ],
      "metadata": {
        "id": "mVjkPsSn3XsY"
      }
    },
    {
      "cell_type": "code",
      "source": [
        "from sklearn.metrics import accuracy_score, precision_score, recall_score, f1_score, classification_report\n",
        "import numpy as np\n",
        "\n",
        "image_processor = ViTImageProcessor.from_pretrained(\"google/vit-base-patch16-224\")"
      ],
      "metadata": {
        "id": "lUmLXGTJ3YPj"
      },
      "execution_count": null,
      "outputs": []
    },
    {
      "cell_type": "code",
      "source": [
        "checkpoint = 2915\n",
        "device = torch.device(\"cuda\" if torch.cuda.is_available() else \"cpu\")\n",
        "from tqdm import tqdm\n"
      ],
      "metadata": {
        "id": "0vQaXeGj39by"
      },
      "execution_count": null,
      "outputs": []
    },
    {
      "cell_type": "code",
      "source": [
        "while checkpoint <= 67067:\n",
        "    print()\n",
        "    model =  ViTForImageClassification.from_pretrained(f\"/content/MMLearning/data/Models/Model-08/checkpoint-{checkpoint}\")\n",
        "    model = model.to(device)\n",
        "    print()\n",
        "    predictions, labels = [], []\n",
        "    # valid_loss = 0\n",
        "    for batch in tqdm(valid_dataset_loader):\n",
        "        pixel_values = batch[\"pixel_values\"].to(device)\n",
        "        label_ids = batch[\"labels\"].to(device).float()\n",
        "\n",
        "        outputs = model(pixel_values=pixel_values, labels=label_ids)\n",
        "\n",
        "        # loss = outputs.loss\n",
        "        # valid_loss += loss.item()\n",
        "\n",
        "        logits = outputs.logits.detach().cpu()\n",
        "\n",
        "        # predictions.extend((logits > 0.5).int().cpu().numpy())\n",
        "        predictions.extend(F.sigmoid(logits).cpu().numpy())\n",
        "        labels.extend(label_ids.int().cpu().numpy())\n",
        "\n",
        "    predictions = np.array(predictions)\n",
        "    threshold = 0.5\n",
        "    predictions = (predictions >= threshold).astype(int)\n",
        "\n",
        "    f1 = f1_score(labels, predictions, average='macro')\n",
        "    print(\"Checkpoint: \", checkpoint ,\" F1-Macro: \", f1)\n",
        "\n",
        "    checkpoint = (checkpoint+1) + 2915"
      ],
      "metadata": {
        "id": "6fIwbipz3blP"
      },
      "execution_count": null,
      "outputs": []
    },
    {
      "cell_type": "code",
      "source": [],
      "metadata": {
        "id": "MgdpgBah3du_"
      },
      "execution_count": null,
      "outputs": []
    },
    {
      "cell_type": "code",
      "source": [
        "\n"
      ],
      "metadata": {
        "id": "5yZR0Lpv3sAz"
      },
      "execution_count": null,
      "outputs": []
    }
  ]
}