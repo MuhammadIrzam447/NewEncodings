{
  "cells": [
    {
      "cell_type": "markdown",
      "metadata": {
        "id": "view-in-github",
        "colab_type": "text"
      },
      "source": [
        "<a href=\"https://colab.research.google.com/github/MuhammadIrzam447/NewEncodings/blob/main/Valid_07.ipynb\" target=\"_parent\"><img src=\"https://colab.research.google.com/assets/colab-badge.svg\" alt=\"Open In Colab\"/></a>"
      ]
    },
    {
      "cell_type": "markdown",
      "source": [
        "# Load Model\n"
      ],
      "metadata": {
        "id": "L47YXGj6RfJU"
      }
    },
    {
      "cell_type": "code",
      "source": [
        "# !pip install transformers evaluate datasets\n",
        "import requests\n",
        "import torch\n",
        "from PIL import Image\n",
        "from transformers import ViTForImageClassification, ViTImageProcessor\n",
        "from tqdm import tqdm"
      ],
      "metadata": {
        "id": "HTftvdBXRhTJ"
      },
      "execution_count": 1,
      "outputs": []
    },
    {
      "cell_type": "code",
      "source": [
        "device = \"cuda\" if torch.cuda.is_available() else \"cpu\"\n",
        "print(device)"
      ],
      "metadata": {
        "id": "dPOyq7dZbgNA",
        "colab": {
          "base_uri": "https://localhost:8080/"
        },
        "outputId": "d3d62fa7-5b7a-4b71-fede-3d949c229f5b"
      },
      "execution_count": 2,
      "outputs": [
        {
          "output_type": "stream",
          "name": "stdout",
          "text": [
            "cuda\n"
          ]
        }
      ]
    },
    {
      "cell_type": "code",
      "source": [
        "model = ViTForImageClassification.from_pretrained(f\"/content/MMLearning/data/Models/Model-02/checkpoint-54000\").to(device)\n",
        "image_processor = ViTImageProcessor.from_pretrained(f\"/content/MMLearning/data/Models/Model-02/checkpoint-54000\")"
      ],
      "metadata": {
        "id": "S-XQj67uRnpo"
      },
      "execution_count": 3,
      "outputs": []
    },
    {
      "cell_type": "code",
      "source": [
        "# image_processor = ViTImageProcessor.from_pretrained(\"google/vit-base-patch16-224\")"
      ],
      "metadata": {
        "id": "hhvLCDqSCJZU"
      },
      "execution_count": 4,
      "outputs": []
    },
    {
      "cell_type": "code",
      "source": [
        "model.config"
      ],
      "metadata": {
        "colab": {
          "base_uri": "https://localhost:8080/"
        },
        "id": "cq37h3jKeDLl",
        "outputId": "bf78a2d2-2b17-499f-bf2b-3479fda3753d"
      },
      "execution_count": 5,
      "outputs": [
        {
          "output_type": "execute_result",
          "data": {
            "text/plain": [
              "ViTConfig {\n",
              "  \"_name_or_path\": \"/content/MMLearning/data/Models/Model-02/checkpoint-54000\",\n",
              "  \"architectures\": [\n",
              "    \"ViTForImageClassification\"\n",
              "  ],\n",
              "  \"attention_probs_dropout_prob\": 0.0,\n",
              "  \"encoder_stride\": 16,\n",
              "  \"hidden_act\": \"gelu\",\n",
              "  \"hidden_dropout_prob\": 0.0,\n",
              "  \"hidden_size\": 768,\n",
              "  \"id2label\": {\n",
              "    \"0\": \"apple_pie\",\n",
              "    \"1\": \"baby_back_ribs\",\n",
              "    \"2\": \"baklava\",\n",
              "    \"3\": \"beef_carpaccio\",\n",
              "    \"4\": \"beef_tartare\",\n",
              "    \"5\": \"beet_salad\",\n",
              "    \"6\": \"beignets\",\n",
              "    \"7\": \"bibimbap\",\n",
              "    \"8\": \"bread_pudding\",\n",
              "    \"9\": \"breakfast_burrito\",\n",
              "    \"10\": \"bruschetta\",\n",
              "    \"11\": \"caesar_salad\",\n",
              "    \"12\": \"cannoli\",\n",
              "    \"13\": \"caprese_salad\",\n",
              "    \"14\": \"carrot_cake\",\n",
              "    \"15\": \"ceviche\",\n",
              "    \"16\": \"cheese_plate\",\n",
              "    \"17\": \"cheesecake\",\n",
              "    \"18\": \"chicken_curry\",\n",
              "    \"19\": \"chicken_quesadilla\",\n",
              "    \"20\": \"chicken_wings\",\n",
              "    \"21\": \"chocolate_cake\",\n",
              "    \"22\": \"chocolate_mousse\",\n",
              "    \"23\": \"churros\",\n",
              "    \"24\": \"clam_chowder\",\n",
              "    \"25\": \"club_sandwich\",\n",
              "    \"26\": \"crab_cakes\",\n",
              "    \"27\": \"creme_brulee\",\n",
              "    \"28\": \"croque_madame\",\n",
              "    \"29\": \"cup_cakes\",\n",
              "    \"30\": \"deviled_eggs\",\n",
              "    \"31\": \"donuts\",\n",
              "    \"32\": \"dumplings\",\n",
              "    \"33\": \"edamame\",\n",
              "    \"34\": \"eggs_benedict\",\n",
              "    \"35\": \"escargots\",\n",
              "    \"36\": \"falafel\",\n",
              "    \"37\": \"filet_mignon\",\n",
              "    \"38\": \"fish_and_chips\",\n",
              "    \"39\": \"foie_gras\",\n",
              "    \"40\": \"french_fries\",\n",
              "    \"41\": \"french_onion_soup\",\n",
              "    \"42\": \"french_toast\",\n",
              "    \"43\": \"fried_calamari\",\n",
              "    \"44\": \"fried_rice\",\n",
              "    \"45\": \"frozen_yogurt\",\n",
              "    \"46\": \"garlic_bread\",\n",
              "    \"47\": \"gnocchi\",\n",
              "    \"48\": \"greek_salad\",\n",
              "    \"49\": \"grilled_cheese_sandwich\",\n",
              "    \"50\": \"grilled_salmon\",\n",
              "    \"51\": \"guacamole\",\n",
              "    \"52\": \"gyoza\",\n",
              "    \"53\": \"hamburger\",\n",
              "    \"54\": \"hot_and_sour_soup\",\n",
              "    \"55\": \"hot_dog\",\n",
              "    \"56\": \"huevos_rancheros\",\n",
              "    \"57\": \"hummus\",\n",
              "    \"58\": \"ice_cream\",\n",
              "    \"59\": \"lasagna\",\n",
              "    \"60\": \"lobster_bisque\",\n",
              "    \"61\": \"lobster_roll_sandwich\",\n",
              "    \"62\": \"macaroni_and_cheese\",\n",
              "    \"63\": \"macarons\",\n",
              "    \"64\": \"miso_soup\",\n",
              "    \"65\": \"mussels\",\n",
              "    \"66\": \"nachos\",\n",
              "    \"67\": \"omelette\",\n",
              "    \"68\": \"onion_rings\",\n",
              "    \"69\": \"oysters\",\n",
              "    \"70\": \"pad_thai\",\n",
              "    \"71\": \"paella\",\n",
              "    \"72\": \"pancakes\",\n",
              "    \"73\": \"panna_cotta\",\n",
              "    \"74\": \"peking_duck\",\n",
              "    \"75\": \"pho\",\n",
              "    \"76\": \"pizza\",\n",
              "    \"77\": \"pork_chop\",\n",
              "    \"78\": \"poutine\",\n",
              "    \"79\": \"prime_rib\",\n",
              "    \"80\": \"pulled_pork_sandwich\",\n",
              "    \"81\": \"ramen\",\n",
              "    \"82\": \"ravioli\",\n",
              "    \"83\": \"red_velvet_cake\",\n",
              "    \"84\": \"risotto\",\n",
              "    \"85\": \"samosa\",\n",
              "    \"86\": \"sashimi\",\n",
              "    \"87\": \"scallops\",\n",
              "    \"88\": \"seaweed_salad\",\n",
              "    \"89\": \"shrimp_and_grits\",\n",
              "    \"90\": \"spaghetti_bolognese\",\n",
              "    \"91\": \"spaghetti_carbonara\",\n",
              "    \"92\": \"spring_rolls\",\n",
              "    \"93\": \"steak\",\n",
              "    \"94\": \"strawberry_shortcake\",\n",
              "    \"95\": \"sushi\",\n",
              "    \"96\": \"tacos\",\n",
              "    \"97\": \"takoyaki\",\n",
              "    \"98\": \"tiramisu\",\n",
              "    \"99\": \"tuna_tartare\",\n",
              "    \"100\": \"waffles\"\n",
              "  },\n",
              "  \"image_size\": 224,\n",
              "  \"initializer_range\": 0.02,\n",
              "  \"intermediate_size\": 3072,\n",
              "  \"label2id\": {\n",
              "    \"apple_pie\": \"0\",\n",
              "    \"baby_back_ribs\": \"1\",\n",
              "    \"baklava\": \"2\",\n",
              "    \"beef_carpaccio\": \"3\",\n",
              "    \"beef_tartare\": \"4\",\n",
              "    \"beet_salad\": \"5\",\n",
              "    \"beignets\": \"6\",\n",
              "    \"bibimbap\": \"7\",\n",
              "    \"bread_pudding\": \"8\",\n",
              "    \"breakfast_burrito\": \"9\",\n",
              "    \"bruschetta\": \"10\",\n",
              "    \"caesar_salad\": \"11\",\n",
              "    \"cannoli\": \"12\",\n",
              "    \"caprese_salad\": \"13\",\n",
              "    \"carrot_cake\": \"14\",\n",
              "    \"ceviche\": \"15\",\n",
              "    \"cheese_plate\": \"16\",\n",
              "    \"cheesecake\": \"17\",\n",
              "    \"chicken_curry\": \"18\",\n",
              "    \"chicken_quesadilla\": \"19\",\n",
              "    \"chicken_wings\": \"20\",\n",
              "    \"chocolate_cake\": \"21\",\n",
              "    \"chocolate_mousse\": \"22\",\n",
              "    \"churros\": \"23\",\n",
              "    \"clam_chowder\": \"24\",\n",
              "    \"club_sandwich\": \"25\",\n",
              "    \"crab_cakes\": \"26\",\n",
              "    \"creme_brulee\": \"27\",\n",
              "    \"croque_madame\": \"28\",\n",
              "    \"cup_cakes\": \"29\",\n",
              "    \"deviled_eggs\": \"30\",\n",
              "    \"donuts\": \"31\",\n",
              "    \"dumplings\": \"32\",\n",
              "    \"edamame\": \"33\",\n",
              "    \"eggs_benedict\": \"34\",\n",
              "    \"escargots\": \"35\",\n",
              "    \"falafel\": \"36\",\n",
              "    \"filet_mignon\": \"37\",\n",
              "    \"fish_and_chips\": \"38\",\n",
              "    \"foie_gras\": \"39\",\n",
              "    \"french_fries\": \"40\",\n",
              "    \"french_onion_soup\": \"41\",\n",
              "    \"french_toast\": \"42\",\n",
              "    \"fried_calamari\": \"43\",\n",
              "    \"fried_rice\": \"44\",\n",
              "    \"frozen_yogurt\": \"45\",\n",
              "    \"garlic_bread\": \"46\",\n",
              "    \"gnocchi\": \"47\",\n",
              "    \"greek_salad\": \"48\",\n",
              "    \"grilled_cheese_sandwich\": \"49\",\n",
              "    \"grilled_salmon\": \"50\",\n",
              "    \"guacamole\": \"51\",\n",
              "    \"gyoza\": \"52\",\n",
              "    \"hamburger\": \"53\",\n",
              "    \"hot_and_sour_soup\": \"54\",\n",
              "    \"hot_dog\": \"55\",\n",
              "    \"huevos_rancheros\": \"56\",\n",
              "    \"hummus\": \"57\",\n",
              "    \"ice_cream\": \"58\",\n",
              "    \"lasagna\": \"59\",\n",
              "    \"lobster_bisque\": \"60\",\n",
              "    \"lobster_roll_sandwich\": \"61\",\n",
              "    \"macaroni_and_cheese\": \"62\",\n",
              "    \"macarons\": \"63\",\n",
              "    \"miso_soup\": \"64\",\n",
              "    \"mussels\": \"65\",\n",
              "    \"nachos\": \"66\",\n",
              "    \"omelette\": \"67\",\n",
              "    \"onion_rings\": \"68\",\n",
              "    \"oysters\": \"69\",\n",
              "    \"pad_thai\": \"70\",\n",
              "    \"paella\": \"71\",\n",
              "    \"pancakes\": \"72\",\n",
              "    \"panna_cotta\": \"73\",\n",
              "    \"peking_duck\": \"74\",\n",
              "    \"pho\": \"75\",\n",
              "    \"pizza\": \"76\",\n",
              "    \"pork_chop\": \"77\",\n",
              "    \"poutine\": \"78\",\n",
              "    \"prime_rib\": \"79\",\n",
              "    \"pulled_pork_sandwich\": \"80\",\n",
              "    \"ramen\": \"81\",\n",
              "    \"ravioli\": \"82\",\n",
              "    \"red_velvet_cake\": \"83\",\n",
              "    \"risotto\": \"84\",\n",
              "    \"samosa\": \"85\",\n",
              "    \"sashimi\": \"86\",\n",
              "    \"scallops\": \"87\",\n",
              "    \"seaweed_salad\": \"88\",\n",
              "    \"shrimp_and_grits\": \"89\",\n",
              "    \"spaghetti_bolognese\": \"90\",\n",
              "    \"spaghetti_carbonara\": \"91\",\n",
              "    \"spring_rolls\": \"92\",\n",
              "    \"steak\": \"93\",\n",
              "    \"strawberry_shortcake\": \"94\",\n",
              "    \"sushi\": \"95\",\n",
              "    \"tacos\": \"96\",\n",
              "    \"takoyaki\": \"97\",\n",
              "    \"tiramisu\": \"98\",\n",
              "    \"tuna_tartare\": \"99\",\n",
              "    \"waffles\": \"100\"\n",
              "  },\n",
              "  \"layer_norm_eps\": 1e-12,\n",
              "  \"model_type\": \"vit\",\n",
              "  \"num_attention_heads\": 12,\n",
              "  \"num_channels\": 3,\n",
              "  \"num_hidden_layers\": 12,\n",
              "  \"patch_size\": 16,\n",
              "  \"problem_type\": \"single_label_classification\",\n",
              "  \"qkv_bias\": true,\n",
              "  \"torch_dtype\": \"float32\",\n",
              "  \"transformers_version\": \"4.32.1\"\n",
              "}"
            ]
          },
          "metadata": {},
          "execution_count": 5
        }
      ]
    },
    {
      "cell_type": "markdown",
      "source": [
        "# Standard Experiment"
      ],
      "metadata": {
        "id": "YDcxpk7uWLbk"
      }
    },
    {
      "cell_type": "code",
      "source": [
        "from datasets import load_dataset\n",
        "\n",
        "ds = load_dataset(\"imagefolder\", data_dir=\"/content/Dataset(s)/joint-food-101/test\", split=\"train\")"
      ],
      "metadata": {
        "id": "l0qEQ73bRr2q"
      },
      "execution_count": null,
      "outputs": []
    },
    {
      "cell_type": "code",
      "source": [
        "ds"
      ],
      "metadata": {
        "id": "DhVQICV0Y3OT"
      },
      "execution_count": null,
      "outputs": []
    },
    {
      "cell_type": "markdown",
      "source": [
        "# 100% Missing Modality Experiment"
      ],
      "metadata": {
        "id": "tNSGzVxwT8id"
      }
    },
    {
      "cell_type": "code",
      "source": [
        "from datasets import load_dataset\n",
        "\n",
        "ds = load_dataset(\"imagefolder\", data_dir=\"/content/MMLearning/data/food-101/flip/multimodal_img_et_flip/test\", split=\"train\")"
      ],
      "metadata": {
        "id": "9t3tUjEOobHx"
      },
      "execution_count": null,
      "outputs": []
    },
    {
      "cell_type": "code",
      "source": [
        "ds"
      ],
      "metadata": {
        "id": "2a8txJ5noazk"
      },
      "execution_count": null,
      "outputs": []
    },
    {
      "cell_type": "code",
      "source": [
        "# Use _3.png for Filtering out Encoded Images\n",
        "# Use _4.png for Filtering out Just Images\n",
        "\n",
        "import os\n",
        "def filter_funtion(example):\n",
        "    img = example[\"image\"]\n",
        "    filename = os.path.basename(img.filename)\n",
        "\n",
        "    return filename.endswith(\"_4.jpg\")"
      ],
      "metadata": {
        "id": "tmA7PAcIRsLs"
      },
      "execution_count": null,
      "outputs": []
    },
    {
      "cell_type": "code",
      "source": [
        "ds = ds.filter(filter_funtion)"
      ],
      "metadata": {
        "id": "Cg2lXK6iRshv"
      },
      "execution_count": null,
      "outputs": []
    },
    {
      "cell_type": "code",
      "source": [
        "ds"
      ],
      "metadata": {
        "id": "54yCsBF3dY-1"
      },
      "execution_count": null,
      "outputs": []
    },
    {
      "cell_type": "code",
      "source": [
        "for i in range(0,10):\n",
        "    sample = ds[i]\n",
        "    img = sample[\"image\"]\n",
        "    filename = os.path.basename(img.filename)\n",
        "    print(f\"File Name: {filename}\")"
      ],
      "metadata": {
        "id": "TZkE_GLwbpPP"
      },
      "execution_count": null,
      "outputs": []
    },
    {
      "cell_type": "markdown",
      "source": [
        "# Partial Missing Modality Experiment"
      ],
      "metadata": {
        "id": "T4MxEdN6Z3-w"
      }
    },
    {
      "cell_type": "code",
      "source": [
        "from datasets import load_dataset\n",
        "from datasets import concatenate_datasets"
      ],
      "metadata": {
        "id": "MZqABTvOSOge"
      },
      "execution_count": 6,
      "outputs": []
    },
    {
      "cell_type": "code",
      "source": [
        "# Load the Fused Dataset\n",
        "ds_f = load_dataset(\"imagefolder\", data_dir=\"/content/MMLearning/data/food-101/multimodal/test\", split=\"train\")"
      ],
      "metadata": {
        "id": "JCHbZm-9Z4g-",
        "colab": {
          "base_uri": "https://localhost:8080/",
          "height": 177,
          "referenced_widgets": [
            "a2d0118ff1dd4e8d93f992400f5d151c",
            "e6e676eb2a3b4d7295daa710f1b1fa57",
            "90c45fe36ebc41e786a409a78434c4ae",
            "e152de0dc2bf42abb9ec05628613ff0b",
            "d0f15f733d0f45e48e5db75d386ad99f",
            "2888f2af48e1428e959890d97beb0a4d",
            "4f2c59765f22431799240831453ee272",
            "cb0187bc4e9e429da3031e17c1628a07",
            "128e5bace7b74b51be4efb6ce83dcbee",
            "bb3f9d96128f4b8e8c5d75c20930d5cd",
            "8dc7f83e3efd41c0bdfe09be247b1d2f",
            "96cbfdc825834b6e96e8ef7898bc9ebd",
            "d1306504437d4ac9b149a2384736149d",
            "c95e0649919c440ba689d10cc6000bb7",
            "3b90b9923de4437e82a20bd7a5a97a7a",
            "df6aef91bd104576b6f1d8a424b94721",
            "a1fa36bfd4cf4dcb9e1db62c8a36e2c4",
            "014c618f97a140228cc6fefa19882163",
            "1fea3d6a27f64816a824d11d302c4db5",
            "9be73c8df3084afa90f1562cbd4168c0",
            "71f64e0ac3274a28a16531d3dee64dd2",
            "57d79b71188f489f8d25d0f81141f3da",
            "4ceb26e5ac56424babc8885f103ebb21",
            "c797d44cc14448138d84969233cc50c9",
            "aaefd898ced84b6bbe4826f7231fbbca",
            "2590b435b1e64ce9adb151bac3ea384d",
            "50cbebcc87db4279987a2631a712d87c",
            "34cf48608ba54668be79b9875e5810c9",
            "b0b73271c0c84d27831e4c1b2cd474a7",
            "1c2d928b58204fa78097a972b89a8acf",
            "5e2ab041df8e473a8324850bf3f6fe34",
            "f0671a993da04f51b69315df3227b330",
            "ef5cbc99d626445f93d6679055ec4925",
            "a637872365d74a2ab179732f8d24b399",
            "6eb0b838c17b48ab9e073a79c61c3460",
            "a33e76d34d8c47718d6474a6ef357e9c",
            "db6c1993a8ed4aa9ae5bfe19495921ce",
            "7102c5fbf9cd4525a735f25366a8ec53",
            "0deac8beee384764a5702206b4c5f8ba",
            "15fbb2fc79934b3ba26db07abbdfd7c4",
            "664a32bb7e8d4caeae33a94347a60912",
            "906faa210e1a49199121d0e8e5b2062a",
            "9da67078d4df48959b7512cff9d4d1c7",
            "5e70c79beba546a3a42d340d85c51ce3",
            "89d9df59efe34df08079d9eab39ea9a1",
            "c99f1bc9a08247f181b9687dc9027a8e",
            "a5f9ebe986e740989271595975850a4d",
            "d9a444d93b254f44aae47c46913fa346",
            "1880a846e43042f58b557cdc18f238da",
            "258eb51cf0ec445daa722d20f6d5904a",
            "d00d96bfd74943ea9ff11fde6fe77281",
            "da8175993d014ee68e7e5b98b3b0b23e",
            "930427ed06a14f9583ba37e1b68d7dbc",
            "e37e270de56c475d9077e8efb730348d",
            "d4bf5bf30aa647bab4aeae242ccb9a85"
          ]
        },
        "outputId": "65aad4ca-4f04-44f1-88ce-e1c4588b3d5e"
      },
      "execution_count": 7,
      "outputs": [
        {
          "output_type": "display_data",
          "data": {
            "text/plain": [
              "Resolving data files:   0%|          | 0/22716 [00:00<?, ?it/s]"
            ],
            "application/vnd.jupyter.widget-view+json": {
              "version_major": 2,
              "version_minor": 0,
              "model_id": "a2d0118ff1dd4e8d93f992400f5d151c"
            }
          },
          "metadata": {}
        },
        {
          "output_type": "display_data",
          "data": {
            "text/plain": [
              "Downloading data files:   0%|          | 0/22716 [00:00<?, ?it/s]"
            ],
            "application/vnd.jupyter.widget-view+json": {
              "version_major": 2,
              "version_minor": 0,
              "model_id": "96cbfdc825834b6e96e8ef7898bc9ebd"
            }
          },
          "metadata": {}
        },
        {
          "output_type": "display_data",
          "data": {
            "text/plain": [
              "Downloading data files: 0it [00:00, ?it/s]"
            ],
            "application/vnd.jupyter.widget-view+json": {
              "version_major": 2,
              "version_minor": 0,
              "model_id": "4ceb26e5ac56424babc8885f103ebb21"
            }
          },
          "metadata": {}
        },
        {
          "output_type": "display_data",
          "data": {
            "text/plain": [
              "Extracting data files: 0it [00:00, ?it/s]"
            ],
            "application/vnd.jupyter.widget-view+json": {
              "version_major": 2,
              "version_minor": 0,
              "model_id": "a637872365d74a2ab179732f8d24b399"
            }
          },
          "metadata": {}
        },
        {
          "output_type": "display_data",
          "data": {
            "text/plain": [
              "Generating train split: 0 examples [00:00, ? examples/s]"
            ],
            "application/vnd.jupyter.widget-view+json": {
              "version_major": 2,
              "version_minor": 0,
              "model_id": "89d9df59efe34df08079d9eab39ea9a1"
            }
          },
          "metadata": {}
        }
      ]
    },
    {
      "cell_type": "code",
      "source": [
        "ds_f"
      ],
      "metadata": {
        "id": "NIGDiWC5bdlG",
        "colab": {
          "base_uri": "https://localhost:8080/"
        },
        "outputId": "b00c3d4c-1e19-49d8-808e-b9e9e1065eff"
      },
      "execution_count": 8,
      "outputs": [
        {
          "output_type": "execute_result",
          "data": {
            "text/plain": [
              "Dataset({\n",
              "    features: ['image', 'label'],\n",
              "    num_rows: 22716\n",
              "})"
            ]
          },
          "metadata": {},
          "execution_count": 8
        }
      ]
    },
    {
      "cell_type": "code",
      "source": [
        "# Desired Percentage = Total - Missing\n",
        "import math\n",
        "desired_percentage = 0.3"
      ],
      "metadata": {
        "id": "NHvNJixxiWbG"
      },
      "execution_count": 12,
      "outputs": []
    },
    {
      "cell_type": "code",
      "source": [
        "from collections import Counter\n",
        "\n",
        "class_counts = Counter(ds_f['label'])\n",
        "print(class_counts)"
      ],
      "metadata": {
        "id": "baC1KaBJedyb",
        "colab": {
          "base_uri": "https://localhost:8080/"
        },
        "outputId": "310f1fac-3943-4e8b-fc3a-e09eea7a32de"
      },
      "execution_count": 13,
      "outputs": [
        {
          "output_type": "stream",
          "name": "stdout",
          "text": [
            "Counter({42: 238, 62: 238, 95: 237, 82: 236, 84: 236, 76: 235, 100: 235, 0: 234, 47: 234, 55: 234, 57: 234, 65: 234, 72: 234, 17: 233, 45: 233, 53: 233, 59: 233, 96: 233, 21: 232, 31: 232, 52: 232, 58: 232, 81: 232, 98: 232, 10: 231, 14: 231, 33: 231, 63: 231, 67: 231, 12: 230, 23: 230, 70: 230, 92: 230, 30: 229, 44: 229, 49: 229, 93: 229, 29: 228, 32: 228, 36: 228, 51: 228, 71: 228, 87: 228, 89: 228, 11: 227, 15: 227, 64: 227, 77: 227, 83: 227, 2: 226, 8: 226, 86: 226, 4: 225, 7: 225, 27: 225, 50: 225, 73: 225, 5: 224, 6: 224, 16: 224, 22: 224, 24: 224, 28: 224, 46: 224, 66: 224, 80: 224, 41: 223, 48: 223, 56: 223, 69: 223, 94: 223, 97: 223, 3: 222, 18: 222, 1: 221, 26: 221, 13: 220, 19: 220, 25: 220, 79: 220, 20: 219, 88: 219, 75: 218, 91: 218, 68: 217, 39: 216, 61: 215, 85: 215, 9: 214, 34: 213, 90: 213, 37: 212, 40: 212, 43: 212, 74: 211, 99: 211, 78: 210, 38: 208, 54: 203, 35: 202, 60: 197})\n"
          ]
        }
      ]
    },
    {
      "cell_type": "code",
      "source": [
        "selected_indices = {label: [] for label in class_counts.keys()}\n",
        "print(selected_indices)"
      ],
      "metadata": {
        "id": "xaOkLcbQhoMu",
        "colab": {
          "base_uri": "https://localhost:8080/"
        },
        "outputId": "3c2b90fe-4403-4542-adbb-47f8df23a016"
      },
      "execution_count": 14,
      "outputs": [
        {
          "output_type": "stream",
          "name": "stdout",
          "text": [
            "{0: [], 1: [], 2: [], 3: [], 4: [], 5: [], 6: [], 7: [], 8: [], 9: [], 10: [], 11: [], 12: [], 13: [], 14: [], 15: [], 16: [], 17: [], 18: [], 19: [], 20: [], 21: [], 22: [], 23: [], 24: [], 25: [], 26: [], 27: [], 28: [], 29: [], 30: [], 31: [], 32: [], 33: [], 34: [], 35: [], 36: [], 37: [], 38: [], 39: [], 40: [], 41: [], 42: [], 43: [], 44: [], 45: [], 46: [], 47: [], 48: [], 49: [], 50: [], 51: [], 52: [], 53: [], 54: [], 55: [], 56: [], 57: [], 58: [], 59: [], 60: [], 61: [], 62: [], 63: [], 64: [], 65: [], 66: [], 67: [], 68: [], 69: [], 70: [], 71: [], 72: [], 73: [], 74: [], 75: [], 76: [], 77: [], 78: [], 79: [], 80: [], 81: [], 82: [], 83: [], 84: [], 85: [], 86: [], 87: [], 88: [], 89: [], 90: [], 91: [], 92: [], 93: [], 94: [], 95: [], 96: [], 97: [], 98: [], 99: [], 100: []}\n"
          ]
        }
      ]
    },
    {
      "cell_type": "code",
      "source": [
        "# Iterate through the dataset to select indices for each class\n",
        "for i, label in enumerate(ds_f[\"label\"]):\n",
        "    if len(selected_indices[label]) < math.ceil(class_counts[label] * desired_percentage):\n",
        "        selected_indices[label].append(i)"
      ],
      "metadata": {
        "id": "WrsfQ_XIiAdj"
      },
      "execution_count": 15,
      "outputs": []
    },
    {
      "cell_type": "code",
      "source": [
        "# selected_indices"
      ],
      "metadata": {
        "id": "GYovdX5niN8W"
      },
      "execution_count": null,
      "outputs": []
    },
    {
      "cell_type": "code",
      "source": [
        "# Flatten the selected indices list\n",
        "selected_indices = [idx for indices in selected_indices.values() for idx in indices]"
      ],
      "metadata": {
        "id": "CRZN72hmiAwd"
      },
      "execution_count": 16,
      "outputs": []
    },
    {
      "cell_type": "code",
      "source": [
        "# selected_indices"
      ],
      "metadata": {
        "id": "gTieKxZtijB4"
      },
      "execution_count": null,
      "outputs": []
    },
    {
      "cell_type": "code",
      "source": [
        "# Filter the dataset to select the desired samples\n",
        "fused_ds = ds_f.select(selected_indices)"
      ],
      "metadata": {
        "id": "thqg4To-ijJj"
      },
      "execution_count": 17,
      "outputs": []
    },
    {
      "cell_type": "code",
      "source": [
        "fused_ds"
      ],
      "metadata": {
        "id": "Xn7s-OsOikD7",
        "colab": {
          "base_uri": "https://localhost:8080/"
        },
        "outputId": "63333b1e-6d04-4db6-f2ce-ce0519831469"
      },
      "execution_count": 18,
      "outputs": [
        {
          "output_type": "execute_result",
          "data": {
            "text/plain": [
              "Dataset({\n",
              "    features: ['image', 'label'],\n",
              "    num_rows: 6862\n",
              "})"
            ]
          },
          "metadata": {},
          "execution_count": 18
        }
      ]
    },
    {
      "cell_type": "code",
      "source": [],
      "metadata": {
        "id": "i6xM19xBQxDU"
      },
      "execution_count": null,
      "outputs": []
    },
    {
      "cell_type": "code",
      "source": [
        "# Load the Joint Dataset and Filter out Just the Images\n",
        "ds_joint = load_dataset(\"imagefolder\", data_dir=\"/content/MMLearning/data/food-101/flip/multimodal_img_et_flip/test\", split=\"train\")"
      ],
      "metadata": {
        "id": "sT6AjXHbZ_yQ",
        "colab": {
          "base_uri": "https://localhost:8080/",
          "height": 49,
          "referenced_widgets": [
            "eeccea97a47e439580a8bb56a05f5f5f",
            "093016c988f04fc6909dbff759e7be1c",
            "6c1ceaa985504375a1d518c10cc147ca",
            "4aae7cc512e54eb7b5232f6e9ba88d58",
            "26a240838ca446b79288a24514c4a6f6",
            "47fb6704866049d2bee1a119edffee02",
            "2746442a007e4e10a4fbbf718c3c20be",
            "68a1cdef076d4ce09647391af5c53973",
            "c20f2c23ee004f90ae1b45c87ea7f3b8",
            "787beed611004d1cb7f72e5725eb0d17",
            "163679b3259a47b5852c1970c122d826"
          ]
        },
        "outputId": "5e59a131-c11a-4ccc-a7f6-7574b42d7010"
      },
      "execution_count": 19,
      "outputs": [
        {
          "output_type": "display_data",
          "data": {
            "text/plain": [
              "Resolving data files:   0%|          | 0/45432 [00:00<?, ?it/s]"
            ],
            "application/vnd.jupyter.widget-view+json": {
              "version_major": 2,
              "version_minor": 0,
              "model_id": "eeccea97a47e439580a8bb56a05f5f5f"
            }
          },
          "metadata": {}
        }
      ]
    },
    {
      "cell_type": "code",
      "source": [
        "# Use _4.png for Filtering out Just Images\n",
        "\n",
        "import os\n",
        "def filter_funtion(example):\n",
        "    img = example[\"image\"]\n",
        "    filename = os.path.basename(img.filename)\n",
        "\n",
        "    return filename.endswith(\"_3.jpg\")"
      ],
      "metadata": {
        "id": "mHZVYTkLXR0S"
      },
      "execution_count": 20,
      "outputs": []
    },
    {
      "cell_type": "code",
      "source": [
        "ds_imgs = ds_joint.filter(filter_funtion)"
      ],
      "metadata": {
        "id": "VUKkW-RpXXAA"
      },
      "execution_count": 21,
      "outputs": []
    },
    {
      "cell_type": "code",
      "source": [
        "ds_imgs"
      ],
      "metadata": {
        "id": "O2Z_OK3Abf5Z",
        "colab": {
          "base_uri": "https://localhost:8080/"
        },
        "outputId": "140a4cf9-593b-47b8-b25a-a2ad519ed82d"
      },
      "execution_count": 22,
      "outputs": [
        {
          "output_type": "execute_result",
          "data": {
            "text/plain": [
              "Dataset({\n",
              "    features: ['image', 'label'],\n",
              "    num_rows: 22716\n",
              "})"
            ]
          },
          "metadata": {},
          "execution_count": 22
        }
      ]
    },
    {
      "cell_type": "code",
      "source": [
        "for i in range(0,5):\n",
        "    sample = ds_imgs[i]\n",
        "    img = sample[\"image\"]\n",
        "    filename = os.path.basename(img.filename)\n",
        "    print(f\"File Name: {filename}\")"
      ],
      "metadata": {
        "id": "LI8vGBBvXjE6",
        "colab": {
          "base_uri": "https://localhost:8080/"
        },
        "outputId": "f47c26cb-06de-40bc-dd5f-598d0db82ac1"
      },
      "execution_count": 23,
      "outputs": [
        {
          "output_type": "stream",
          "name": "stdout",
          "text": [
            "File Name: apple_pie_103_3.jpg\n",
            "File Name: apple_pie_105_3.jpg\n",
            "File Name: apple_pie_107_3.jpg\n",
            "File Name: apple_pie_10_3.jpg\n",
            "File Name: apple_pie_119_3.jpg\n"
          ]
        }
      ]
    },
    {
      "cell_type": "code",
      "source": [
        "all_indices = range(len(ds_imgs))\n",
        "print(all_indices)"
      ],
      "metadata": {
        "id": "BUMZ6PnAlDII",
        "colab": {
          "base_uri": "https://localhost:8080/"
        },
        "outputId": "161177aa-6a81-4405-9834-6ab6ecc0598f"
      },
      "execution_count": 24,
      "outputs": [
        {
          "output_type": "stream",
          "name": "stdout",
          "text": [
            "range(0, 22716)\n"
          ]
        }
      ]
    },
    {
      "cell_type": "code",
      "source": [
        "remaining_indices = [idx for idx in all_indices if idx not in selected_indices]"
      ],
      "metadata": {
        "id": "ua1ndJDRlEHq"
      },
      "execution_count": 25,
      "outputs": []
    },
    {
      "cell_type": "code",
      "source": [
        "# remaining_indices"
      ],
      "metadata": {
        "id": "2Ow4V9M4mYc0"
      },
      "execution_count": null,
      "outputs": []
    },
    {
      "cell_type": "code",
      "source": [
        "missing_ds = ds_imgs.select(remaining_indices)"
      ],
      "metadata": {
        "id": "4CclYb-QlEaf"
      },
      "execution_count": 26,
      "outputs": []
    },
    {
      "cell_type": "code",
      "source": [
        "missing_ds"
      ],
      "metadata": {
        "id": "nc4qLVlOlDbW",
        "colab": {
          "base_uri": "https://localhost:8080/"
        },
        "outputId": "5cb13fe1-7626-4e47-e6cc-541424aa701f"
      },
      "execution_count": 27,
      "outputs": [
        {
          "output_type": "execute_result",
          "data": {
            "text/plain": [
              "Dataset({\n",
              "    features: ['image', 'label'],\n",
              "    num_rows: 15854\n",
              "})"
            ]
          },
          "metadata": {},
          "execution_count": 27
        }
      ]
    },
    {
      "cell_type": "code",
      "source": [
        "# Combine Both Datasets"
      ],
      "metadata": {
        "id": "M_V9NRBjVDyj"
      },
      "execution_count": null,
      "outputs": []
    },
    {
      "cell_type": "code",
      "source": [
        "ds = concatenate_datasets([fused_ds, missing_ds])"
      ],
      "metadata": {
        "id": "hcI42LE0SxJK"
      },
      "execution_count": 28,
      "outputs": []
    },
    {
      "cell_type": "code",
      "source": [
        "ds"
      ],
      "metadata": {
        "id": "RdXZ8N_mTlp2",
        "colab": {
          "base_uri": "https://localhost:8080/"
        },
        "outputId": "36c9cbb3-ec87-48ce-b346-daf33baaac52"
      },
      "execution_count": 29,
      "outputs": [
        {
          "output_type": "execute_result",
          "data": {
            "text/plain": [
              "Dataset({\n",
              "    features: ['image', 'label'],\n",
              "    num_rows: 22716\n",
              "})"
            ]
          },
          "metadata": {},
          "execution_count": 29
        }
      ]
    },
    {
      "cell_type": "markdown",
      "source": [
        "# Pre-Processing and Final Validation Loop"
      ],
      "metadata": {
        "id": "owny-Ab5UDeL"
      }
    },
    {
      "cell_type": "code",
      "source": [
        "labels = ds.features[\"label\"]\n",
        "labels"
      ],
      "metadata": {
        "id": "aWw9vz58Rswv",
        "colab": {
          "base_uri": "https://localhost:8080/"
        },
        "outputId": "8fec21bd-b451-4166-925f-350afcc18daf"
      },
      "execution_count": 30,
      "outputs": [
        {
          "output_type": "execute_result",
          "data": {
            "text/plain": [
              "ClassLabel(names=['apple_pie', 'baby_back_ribs', 'baklava', 'beef_carpaccio', 'beef_tartare', 'beet_salad', 'beignets', 'bibimbap', 'bread_pudding', 'breakfast_burrito', 'bruschetta', 'caesar_salad', 'cannoli', 'caprese_salad', 'carrot_cake', 'ceviche', 'cheese_plate', 'cheesecake', 'chicken_curry', 'chicken_quesadilla', 'chicken_wings', 'chocolate_cake', 'chocolate_mousse', 'churros', 'clam_chowder', 'club_sandwich', 'crab_cakes', 'creme_brulee', 'croque_madame', 'cup_cakes', 'deviled_eggs', 'donuts', 'dumplings', 'edamame', 'eggs_benedict', 'escargots', 'falafel', 'filet_mignon', 'fish_and_chips', 'foie_gras', 'french_fries', 'french_onion_soup', 'french_toast', 'fried_calamari', 'fried_rice', 'frozen_yogurt', 'garlic_bread', 'gnocchi', 'greek_salad', 'grilled_cheese_sandwich', 'grilled_salmon', 'guacamole', 'gyoza', 'hamburger', 'hot_and_sour_soup', 'hot_dog', 'huevos_rancheros', 'hummus', 'ice_cream', 'lasagna', 'lobster_bisque', 'lobster_roll_sandwich', 'macaroni_and_cheese', 'macarons', 'miso_soup', 'mussels', 'nachos', 'omelette', 'onion_rings', 'oysters', 'pad_thai', 'paella', 'pancakes', 'panna_cotta', 'peking_duck', 'pho', 'pizza', 'pork_chop', 'poutine', 'prime_rib', 'pulled_pork_sandwich', 'ramen', 'ravioli', 'red_velvet_cake', 'risotto', 'samosa', 'sashimi', 'scallops', 'seaweed_salad', 'shrimp_and_grits', 'spaghetti_bolognese', 'spaghetti_carbonara', 'spring_rolls', 'steak', 'strawberry_shortcake', 'sushi', 'tacos', 'takoyaki', 'tiramisu', 'tuna_tartare', 'waffles'], id=None)"
            ]
          },
          "metadata": {},
          "execution_count": 30
        }
      ]
    },
    {
      "cell_type": "code",
      "source": [
        "labels.int2str(ds[532][\"label\"])"
      ],
      "metadata": {
        "id": "Pcsmrr7CRs2U",
        "colab": {
          "base_uri": "https://localhost:8080/",
          "height": 35
        },
        "outputId": "7cd32216-4543-4de3-92b0-a049c0706744"
      },
      "execution_count": 31,
      "outputs": [
        {
          "output_type": "execute_result",
          "data": {
            "text/plain": [
              "'bibimbap'"
            ],
            "application/vnd.google.colaboratory.intrinsic+json": {
              "type": "string"
            }
          },
          "metadata": {},
          "execution_count": 31
        }
      ]
    },
    {
      "cell_type": "code",
      "source": [
        "def transform(examples):\n",
        "  inputs = image_processor([img.convert(\"RGB\") for img in examples[\"image\"]], return_tensors=\"pt\")\n",
        "  inputs[\"labels\"] = examples[\"label\"]\n",
        "\n",
        "  return inputs"
      ],
      "metadata": {
        "id": "d53u7d5wSFTK"
      },
      "execution_count": 32,
      "outputs": []
    },
    {
      "cell_type": "code",
      "source": [
        "dataset = ds.with_transform(transform)"
      ],
      "metadata": {
        "id": "INvdn194SKrH"
      },
      "execution_count": 33,
      "outputs": []
    },
    {
      "cell_type": "code",
      "source": [
        "dataset"
      ],
      "metadata": {
        "id": "81wgIvz4jnY8",
        "colab": {
          "base_uri": "https://localhost:8080/"
        },
        "outputId": "cff68fdc-970a-4aa8-8ae2-e36c7f4a2acd"
      },
      "execution_count": 34,
      "outputs": [
        {
          "output_type": "execute_result",
          "data": {
            "text/plain": [
              "Dataset({\n",
              "    features: ['image', 'label'],\n",
              "    num_rows: 22716\n",
              "})"
            ]
          },
          "metadata": {},
          "execution_count": 34
        }
      ]
    },
    {
      "cell_type": "code",
      "source": [
        "for item in dataset:\n",
        "  print(item[\"pixel_values\"].shape)\n",
        "  print(item[\"labels\"])\n",
        "  break"
      ],
      "metadata": {
        "id": "xUKMYB72SKy6",
        "colab": {
          "base_uri": "https://localhost:8080/"
        },
        "outputId": "823a66de-5078-4f34-d9d2-775cd5906d73"
      },
      "execution_count": 35,
      "outputs": [
        {
          "output_type": "stream",
          "name": "stdout",
          "text": [
            "torch.Size([3, 224, 224])\n",
            "0\n"
          ]
        }
      ]
    },
    {
      "cell_type": "code",
      "source": [
        "labels = ds.features[\"label\"].names\n",
        "labels"
      ],
      "metadata": {
        "id": "qSCm8qtpSK39",
        "colab": {
          "base_uri": "https://localhost:8080/"
        },
        "outputId": "518ec816-4860-437c-c509-a28c83374b94"
      },
      "execution_count": 36,
      "outputs": [
        {
          "output_type": "execute_result",
          "data": {
            "text/plain": [
              "['apple_pie',\n",
              " 'baby_back_ribs',\n",
              " 'baklava',\n",
              " 'beef_carpaccio',\n",
              " 'beef_tartare',\n",
              " 'beet_salad',\n",
              " 'beignets',\n",
              " 'bibimbap',\n",
              " 'bread_pudding',\n",
              " 'breakfast_burrito',\n",
              " 'bruschetta',\n",
              " 'caesar_salad',\n",
              " 'cannoli',\n",
              " 'caprese_salad',\n",
              " 'carrot_cake',\n",
              " 'ceviche',\n",
              " 'cheese_plate',\n",
              " 'cheesecake',\n",
              " 'chicken_curry',\n",
              " 'chicken_quesadilla',\n",
              " 'chicken_wings',\n",
              " 'chocolate_cake',\n",
              " 'chocolate_mousse',\n",
              " 'churros',\n",
              " 'clam_chowder',\n",
              " 'club_sandwich',\n",
              " 'crab_cakes',\n",
              " 'creme_brulee',\n",
              " 'croque_madame',\n",
              " 'cup_cakes',\n",
              " 'deviled_eggs',\n",
              " 'donuts',\n",
              " 'dumplings',\n",
              " 'edamame',\n",
              " 'eggs_benedict',\n",
              " 'escargots',\n",
              " 'falafel',\n",
              " 'filet_mignon',\n",
              " 'fish_and_chips',\n",
              " 'foie_gras',\n",
              " 'french_fries',\n",
              " 'french_onion_soup',\n",
              " 'french_toast',\n",
              " 'fried_calamari',\n",
              " 'fried_rice',\n",
              " 'frozen_yogurt',\n",
              " 'garlic_bread',\n",
              " 'gnocchi',\n",
              " 'greek_salad',\n",
              " 'grilled_cheese_sandwich',\n",
              " 'grilled_salmon',\n",
              " 'guacamole',\n",
              " 'gyoza',\n",
              " 'hamburger',\n",
              " 'hot_and_sour_soup',\n",
              " 'hot_dog',\n",
              " 'huevos_rancheros',\n",
              " 'hummus',\n",
              " 'ice_cream',\n",
              " 'lasagna',\n",
              " 'lobster_bisque',\n",
              " 'lobster_roll_sandwich',\n",
              " 'macaroni_and_cheese',\n",
              " 'macarons',\n",
              " 'miso_soup',\n",
              " 'mussels',\n",
              " 'nachos',\n",
              " 'omelette',\n",
              " 'onion_rings',\n",
              " 'oysters',\n",
              " 'pad_thai',\n",
              " 'paella',\n",
              " 'pancakes',\n",
              " 'panna_cotta',\n",
              " 'peking_duck',\n",
              " 'pho',\n",
              " 'pizza',\n",
              " 'pork_chop',\n",
              " 'poutine',\n",
              " 'prime_rib',\n",
              " 'pulled_pork_sandwich',\n",
              " 'ramen',\n",
              " 'ravioli',\n",
              " 'red_velvet_cake',\n",
              " 'risotto',\n",
              " 'samosa',\n",
              " 'sashimi',\n",
              " 'scallops',\n",
              " 'seaweed_salad',\n",
              " 'shrimp_and_grits',\n",
              " 'spaghetti_bolognese',\n",
              " 'spaghetti_carbonara',\n",
              " 'spring_rolls',\n",
              " 'steak',\n",
              " 'strawberry_shortcake',\n",
              " 'sushi',\n",
              " 'tacos',\n",
              " 'takoyaki',\n",
              " 'tiramisu',\n",
              " 'tuna_tartare',\n",
              " 'waffles']"
            ]
          },
          "metadata": {},
          "execution_count": 36
        }
      ]
    },
    {
      "cell_type": "code",
      "source": [
        "import torch\n",
        "\n",
        "def collate_fn(batch):\n",
        "  return {\n",
        "      \"pixel_values\": torch.stack([x[\"pixel_values\"] for x in batch]),\n",
        "      \"labels\": torch.tensor([x[\"labels\"] for x in batch]),\n",
        "  }"
      ],
      "metadata": {
        "id": "NLK2ZaNMSWeO"
      },
      "execution_count": 37,
      "outputs": []
    },
    {
      "cell_type": "code",
      "source": [
        "dataset"
      ],
      "metadata": {
        "id": "fWGtz6DHSW_Z",
        "colab": {
          "base_uri": "https://localhost:8080/"
        },
        "outputId": "f404e1b2-46a6-4530-9f5d-1a6deec1ac3e"
      },
      "execution_count": 38,
      "outputs": [
        {
          "output_type": "execute_result",
          "data": {
            "text/plain": [
              "Dataset({\n",
              "    features: ['image', 'label'],\n",
              "    num_rows: 22716\n",
              "})"
            ]
          },
          "metadata": {},
          "execution_count": 38
        }
      ]
    },
    {
      "cell_type": "code",
      "source": [
        "from torch.utils.tensorboard import SummaryWriter\n",
        "from torch.optim import AdamW\n",
        "from torch.utils.data import DataLoader"
      ],
      "metadata": {
        "id": "JoC5e4rNSXG6"
      },
      "execution_count": 39,
      "outputs": []
    },
    {
      "cell_type": "code",
      "source": [
        "batch_size = 32"
      ],
      "metadata": {
        "id": "WHwCv8BNQy1Z"
      },
      "execution_count": 40,
      "outputs": []
    },
    {
      "cell_type": "code",
      "source": [
        "valid_dataset_loader = DataLoader(dataset, collate_fn=collate_fn, batch_size=batch_size, shuffle=False)"
      ],
      "metadata": {
        "id": "ksE7LXsjJHV1"
      },
      "execution_count": 41,
      "outputs": []
    },
    {
      "cell_type": "code",
      "source": [
        "model = model.to(device)\n",
        "model.eval()\n",
        "predictions, labels = [], []\n",
        "# valid_loss = 0\n",
        "for batch in valid_dataset_loader:\n",
        "    pixel_values = batch[\"pixel_values\"].to(device)\n",
        "    label_ids = batch[\"labels\"].to(device)\n",
        "\n",
        "    outputs = model(pixel_values=pixel_values, labels=label_ids)\n",
        "\n",
        "    # loss = outputs.loss\n",
        "    # valid_loss += loss.item()\n",
        "\n",
        "    logits = outputs.logits.detach().cpu()\n",
        "\n",
        "    predictions.extend(logits.argmax(dim=-1).tolist())\n",
        "    labels.extend(label_ids.tolist())"
      ],
      "metadata": {
        "id": "Ds5lGgqNTCbT"
      },
      "execution_count": 42,
      "outputs": []
    },
    {
      "cell_type": "code",
      "source": [
        "from sklearn.metrics import accuracy_score, precision_score, recall_score, f1_score, roc_auc_score, confusion_matrix, classification_report\n",
        "\n",
        "accuracy = accuracy_score(labels, predictions)\n",
        "precision = precision_score(labels, predictions, average='weighted')\n",
        "recall = recall_score(labels, predictions, average='weighted')\n",
        "f1 = f1_score(labels, predictions, average='weighted')\n",
        "# AUROC_score = roc_auc_score(labels, predictions)"
      ],
      "metadata": {
        "id": "hXiw87_oSXVu"
      },
      "execution_count": 43,
      "outputs": []
    },
    {
      "cell_type": "code",
      "source": [
        "print(\"Accuracy: \", accuracy)\n",
        "print(\"precision: \", precision)\n",
        "print(\"f1_score: \", f1)\n",
        "print(\"recall\", recall)\n",
        "# print(\"AUROC_score: \", AUROC_score)"
      ],
      "metadata": {
        "id": "9bI8z4cdkY8V",
        "colab": {
          "base_uri": "https://localhost:8080/"
        },
        "outputId": "852117d8-9b69-49d6-dcbe-a235a630d182"
      },
      "execution_count": 44,
      "outputs": [
        {
          "output_type": "stream",
          "name": "stdout",
          "text": [
            "Accuracy:  0.6778041908786758\n",
            "precision:  0.69404949919469\n",
            "f1_score:  0.6804338260826304\n",
            "recall 0.6778041908786758\n"
          ]
        }
      ]
    },
    {
      "cell_type": "code",
      "source": [
        "print(classification_report(labels, predictions))"
      ],
      "metadata": {
        "id": "CN74YVSNmi6C",
        "colab": {
          "base_uri": "https://localhost:8080/"
        },
        "outputId": "dbe4c0e3-c7c4-4478-9a85-0b6933c0c57d"
      },
      "execution_count": 45,
      "outputs": [
        {
          "output_type": "stream",
          "name": "stdout",
          "text": [
            "              precision    recall  f1-score   support\n",
            "\n",
            "           0       0.55      0.69      0.61       234\n",
            "           1       0.80      0.74      0.77       221\n",
            "           2       0.88      0.77      0.82       226\n",
            "           3       0.67      0.72      0.70       222\n",
            "           4       0.41      0.50      0.45       225\n",
            "           5       0.82      0.75      0.78       224\n",
            "           6       0.61      0.70      0.65       224\n",
            "           7       0.65      0.60      0.63       225\n",
            "           8       0.62      0.63      0.63       226\n",
            "           9       0.68      0.67      0.68       214\n",
            "          10       0.72      0.70      0.71       231\n",
            "          11       0.81      0.72      0.76       227\n",
            "          12       0.66      0.69      0.68       230\n",
            "          13       0.84      0.79      0.81       220\n",
            "          14       0.56      0.66      0.60       231\n",
            "          15       0.60      0.72      0.66       227\n",
            "          16       0.41      0.65      0.51       224\n",
            "          17       0.70      0.70      0.70       233\n",
            "          18       0.74      0.72      0.73       222\n",
            "          19       0.60      0.66      0.63       220\n",
            "          20       0.81      0.86      0.83       219\n",
            "          21       0.70      0.66      0.68       232\n",
            "          22       0.70      0.65      0.67       224\n",
            "          23       0.89      0.75      0.81       230\n",
            "          24       0.79      0.64      0.70       224\n",
            "          25       0.70      0.82      0.76       220\n",
            "          26       0.71      0.67      0.69       221\n",
            "          27       0.86      0.78      0.82       225\n",
            "          28       0.77      0.71      0.73       224\n",
            "          29       0.64      0.71      0.67       228\n",
            "          30       0.92      0.94      0.93       229\n",
            "          31       0.61      0.77      0.68       232\n",
            "          32       0.46      0.46      0.46       228\n",
            "          33       0.70      0.62      0.66       231\n",
            "          34       0.85      0.85      0.85       213\n",
            "          35       0.43      0.50      0.46       202\n",
            "          36       0.70      0.68      0.69       228\n",
            "          37       0.64      0.70      0.67       212\n",
            "          38       0.77      0.56      0.65       208\n",
            "          39       0.46      0.42      0.44       216\n",
            "          40       0.74      0.69      0.72       212\n",
            "          41       0.86      0.70      0.77       223\n",
            "          42       0.84      0.47      0.60       238\n",
            "          43       0.86      0.61      0.71       212\n",
            "          44       0.77      0.60      0.67       229\n",
            "          45       0.60      0.60      0.60       233\n",
            "          46       0.74      0.66      0.70       224\n",
            "          47       0.67      0.59      0.63       234\n",
            "          48       0.81      0.78      0.80       223\n",
            "          49       0.78      0.79      0.78       229\n",
            "          50       0.73      0.68      0.71       225\n",
            "          51       0.70      0.79      0.74       228\n",
            "          52       0.59      0.62      0.61       232\n",
            "          53       0.54      0.49      0.51       233\n",
            "          54       0.42      0.57      0.48       203\n",
            "          55       0.44      0.51      0.47       234\n",
            "          56       0.55      0.75      0.63       223\n",
            "          57       0.62      0.74      0.67       234\n",
            "          58       0.44      0.57      0.50       232\n",
            "          59       0.80      0.73      0.76       233\n",
            "          60       0.69      0.64      0.66       197\n",
            "          61       0.43      0.40      0.42       215\n",
            "          62       0.79      0.59      0.67       238\n",
            "          63       0.77      0.82      0.80       231\n",
            "          64       0.62      0.78      0.69       227\n",
            "          65       0.95      0.69      0.80       234\n",
            "          66       0.74      0.81      0.77       224\n",
            "          67       0.62      0.71      0.66       231\n",
            "          68       0.82      0.77      0.79       217\n",
            "          69       0.76      0.49      0.60       223\n",
            "          70       0.80      0.70      0.74       230\n",
            "          71       0.93      0.71      0.80       228\n",
            "          72       0.77      0.73      0.75       234\n",
            "          73       0.68      0.84      0.75       225\n",
            "          74       0.58      0.57      0.57       211\n",
            "          75       0.83      0.56      0.67       218\n",
            "          76       0.69      0.80      0.75       235\n",
            "          77       0.66      0.56      0.60       227\n",
            "          78       0.63      0.72      0.67       210\n",
            "          79       0.84      0.75      0.79       220\n",
            "          80       0.82      0.77      0.80       224\n",
            "          81       0.66      0.55      0.60       232\n",
            "          82       0.48      0.60      0.54       236\n",
            "          83       0.69      0.78      0.73       227\n",
            "          84       0.70      0.59      0.64       236\n",
            "          85       0.70      0.73      0.71       215\n",
            "          86       0.57      0.41      0.48       226\n",
            "          87       0.69      0.61      0.65       228\n",
            "          88       0.38      0.77      0.51       219\n",
            "          89       0.61      0.63      0.62       228\n",
            "          90       0.91      0.82      0.86       213\n",
            "          91       0.90      0.80      0.85       218\n",
            "          92       0.77      0.79      0.78       230\n",
            "          93       0.61      0.44      0.51       229\n",
            "          94       0.82      0.78      0.80       223\n",
            "          95       0.73      0.70      0.71       237\n",
            "          96       0.69      0.62      0.66       233\n",
            "          97       0.66      0.75      0.70       223\n",
            "          98       0.82      0.76      0.79       232\n",
            "          99       0.50      0.63      0.56       211\n",
            "         100       0.84      0.78      0.81       235\n",
            "\n",
            "    accuracy                           0.68     22716\n",
            "   macro avg       0.69      0.68      0.68     22716\n",
            "weighted avg       0.69      0.68      0.68     22716\n",
            "\n"
          ]
        }
      ]
    },
    {
      "cell_type": "code",
      "source": [
        "cm = confusion_matrix(labels, predictions)\n",
        "print(cm)"
      ],
      "metadata": {
        "id": "n245g_YoVnpE",
        "colab": {
          "base_uri": "https://localhost:8080/"
        },
        "outputId": "1c340120-9466-4640-b822-e537def6f0dd"
      },
      "execution_count": 46,
      "outputs": [
        {
          "output_type": "stream",
          "name": "stdout",
          "text": [
            "[[162   1   1 ...   2   0   2]\n",
            " [  0 163   0 ...   0   0   1]\n",
            " [  8   0 175 ...   1   0   1]\n",
            " ...\n",
            " [  1   0   1 ... 177   0   0]\n",
            " [  0   0   0 ...   0 133   0]\n",
            " [  7   0   0 ...   1   1 184]]\n"
          ]
        }
      ]
    },
    {
      "cell_type": "markdown",
      "source": [
        "# Joint Representation Experiment\n"
      ],
      "metadata": {
        "id": "xdGUx2tqa9Ka"
      }
    },
    {
      "cell_type": "code",
      "source": [
        "from datasets import load_dataset\n",
        "\n",
        "ds = load_dataset(\"imagefolder\", data_dir=\"/content/MMLearning/data/food-101/flip/multimodal_img_et_flip/test\", split=\"train\")"
      ],
      "metadata": {
        "id": "B86BkdmibHqX"
      },
      "execution_count": null,
      "outputs": []
    },
    {
      "cell_type": "code",
      "source": [
        "ds"
      ],
      "metadata": {
        "id": "ScMq-RSrbfv-"
      },
      "execution_count": null,
      "outputs": []
    },
    {
      "cell_type": "code",
      "source": [
        "# Use _3.png for Filtering out Encoded Images\n",
        "# Use _4.png for Filtering out Just Images\n",
        "\n",
        "import os\n",
        "def filter_funtion(example):\n",
        "    img = example[\"image\"]\n",
        "    filename = os.path.basename(img.filename)\n",
        "\n",
        "    return filename.endswith(\"_3.jpg\")"
      ],
      "metadata": {
        "id": "N7odOyUDbgm3"
      },
      "execution_count": null,
      "outputs": []
    },
    {
      "cell_type": "code",
      "source": [
        "ds_3 = ds.filter(filter_funtion)"
      ],
      "metadata": {
        "id": "ZEKEZa54bgyy"
      },
      "execution_count": null,
      "outputs": []
    },
    {
      "cell_type": "code",
      "source": [
        "ds_3"
      ],
      "metadata": {
        "id": "J1MpL2Y-bg89"
      },
      "execution_count": null,
      "outputs": []
    },
    {
      "cell_type": "code",
      "source": [
        "for i in range(0,5):\n",
        "    sample = ds_3[i]\n",
        "    img = sample[\"image\"]\n",
        "    filename = os.path.basename(img.filename)\n",
        "    print(f\"File Name: {filename}\")"
      ],
      "metadata": {
        "id": "oHdCk9fdboTu"
      },
      "execution_count": null,
      "outputs": []
    },
    {
      "cell_type": "markdown",
      "source": [
        "Image Dataset"
      ],
      "metadata": {
        "id": "pUR98hM6cShO"
      }
    },
    {
      "cell_type": "code",
      "source": [
        "# Use _3.png for Filtering out Encoded Images\n",
        "# Use _4.png for Filtering out Just Images\n",
        "\n",
        "import os\n",
        "def filter_funtion(example):\n",
        "    img = example[\"image\"]\n",
        "    filename = os.path.basename(img.filename)\n",
        "\n",
        "    return  filename.endswith(\"_4.jpg\")"
      ],
      "metadata": {
        "id": "CrYlTFWrbybS"
      },
      "execution_count": null,
      "outputs": []
    },
    {
      "cell_type": "code",
      "source": [
        "ds_4 = ds.filter(filter_funtion)"
      ],
      "metadata": {
        "id": "EQE1Pa3qb0C7"
      },
      "execution_count": null,
      "outputs": []
    },
    {
      "cell_type": "code",
      "source": [
        "ds_4"
      ],
      "metadata": {
        "id": "764v9riwb0XK"
      },
      "execution_count": null,
      "outputs": []
    },
    {
      "cell_type": "code",
      "source": [
        "for i in range(0,5):\n",
        "    sample = ds_4[i]\n",
        "    img = sample[\"image\"]\n",
        "    filename = os.path.basename(img.filename)\n",
        "    print(f\"File Name: {filename}\")"
      ],
      "metadata": {
        "id": "dy8VGOCKb5sB"
      },
      "execution_count": null,
      "outputs": []
    },
    {
      "cell_type": "markdown",
      "source": [
        "Pre-processing"
      ],
      "metadata": {
        "id": "1XTcE425cgcs"
      }
    },
    {
      "cell_type": "code",
      "source": [
        "labels = ds.features[\"label\"]\n",
        "labels"
      ],
      "metadata": {
        "id": "1f2eWYYfcJLh"
      },
      "execution_count": null,
      "outputs": []
    },
    {
      "cell_type": "code",
      "source": [
        "labels.int2str(ds[532][\"label\"])"
      ],
      "metadata": {
        "id": "AqH9DebleBIb"
      },
      "execution_count": null,
      "outputs": []
    },
    {
      "cell_type": "code",
      "source": [
        "def transform(examples):\n",
        "  inputs = image_processor([img.convert(\"RGB\") for img in examples[\"image\"]], return_tensors=\"pt\")\n",
        "  inputs[\"labels\"] = examples[\"label\"]\n",
        "\n",
        "  return inputs"
      ],
      "metadata": {
        "id": "TmpnCkjweBP2"
      },
      "execution_count": null,
      "outputs": []
    },
    {
      "cell_type": "code",
      "source": [
        "dataset_3 = ds_3.with_transform(transform)\n",
        "dataset_4 = ds_4.with_transform(transform)"
      ],
      "metadata": {
        "id": "nY0BnBoyeBSK"
      },
      "execution_count": null,
      "outputs": []
    },
    {
      "cell_type": "code",
      "source": [
        "dataset_3"
      ],
      "metadata": {
        "id": "o_n2ntAbeBVE"
      },
      "execution_count": null,
      "outputs": []
    },
    {
      "cell_type": "code",
      "source": [
        "dataset_4"
      ],
      "metadata": {
        "id": "mNLEFNFgeqwp"
      },
      "execution_count": null,
      "outputs": []
    },
    {
      "cell_type": "code",
      "source": [
        "for item in dataset_4:\n",
        "  print(item[\"pixel_values\"].shape)\n",
        "  print(item[\"labels\"])\n",
        "  break"
      ],
      "metadata": {
        "id": "V6yuQT1XeBXd"
      },
      "execution_count": null,
      "outputs": []
    },
    {
      "cell_type": "code",
      "source": [
        "labels = ds.features[\"label\"].names\n",
        "labels"
      ],
      "metadata": {
        "id": "lKgSfme0eMuM"
      },
      "execution_count": null,
      "outputs": []
    },
    {
      "cell_type": "code",
      "source": [
        "num_of_classes = len(labels)\n",
        "print(num_of_classes)"
      ],
      "metadata": {
        "id": "_EFVx_SEF0MI"
      },
      "execution_count": null,
      "outputs": []
    },
    {
      "cell_type": "code",
      "source": [
        "import torch\n",
        "\n",
        "def collate_fn(batch):\n",
        "  return {\n",
        "      \"pixel_values\": torch.stack([x[\"pixel_values\"] for x in batch]),\n",
        "      \"labels\": torch.tensor([x[\"labels\"] for x in batch]),\n",
        "  }"
      ],
      "metadata": {
        "id": "AJT_xQ0SeM0m"
      },
      "execution_count": null,
      "outputs": []
    },
    {
      "cell_type": "code",
      "source": [
        "from torch.utils.tensorboard import SummaryWriter\n",
        "from torch.optim import AdamW\n",
        "from torch.utils.data import DataLoader"
      ],
      "metadata": {
        "id": "hRVTRPm-eM2v"
      },
      "execution_count": null,
      "outputs": []
    },
    {
      "cell_type": "code",
      "source": [
        "batch_size = 32"
      ],
      "metadata": {
        "id": "OxwpjW_teM5j"
      },
      "execution_count": null,
      "outputs": []
    },
    {
      "cell_type": "code",
      "source": [
        "valid_dataset_loader_4 = DataLoader(dataset_4, collate_fn=collate_fn, batch_size=batch_size, shuffle=False)"
      ],
      "metadata": {
        "id": "onzQrvN6eM8D"
      },
      "execution_count": null,
      "outputs": []
    },
    {
      "cell_type": "code",
      "source": [
        "print(len(valid_dataset_loader_4))"
      ],
      "metadata": {
        "id": "wkJmRB0pe2sW"
      },
      "execution_count": null,
      "outputs": []
    },
    {
      "cell_type": "code",
      "source": [
        "valid_dataset_loader_3 = DataLoader(dataset_3, collate_fn=collate_fn, batch_size=batch_size, shuffle=False)"
      ],
      "metadata": {
        "id": "z7SpP_D5eM-y"
      },
      "execution_count": null,
      "outputs": []
    },
    {
      "cell_type": "code",
      "source": [
        "print(len(valid_dataset_loader_3))"
      ],
      "metadata": {
        "id": "Or8io6aUe5ol"
      },
      "execution_count": null,
      "outputs": []
    },
    {
      "cell_type": "code",
      "source": [
        "num_batches = len(valid_dataset_loader_3)\n",
        "num_batches_with_logits_3 = int(num_batches * 1)  # ___% of batches that you want to include (30 for now)\n",
        "print(\"Total Batches: \", num_batches)\n",
        "print(\"Missing Modaility Batches: \", num_batches_with_logits_3)"
      ],
      "metadata": {
        "id": "yY3YYjzjgCRN"
      },
      "execution_count": null,
      "outputs": []
    },
    {
      "cell_type": "markdown",
      "source": [
        "Validation Loops"
      ],
      "metadata": {
        "id": "wDJkPXJRfQgm"
      }
    },
    {
      "cell_type": "code",
      "source": [
        "model = model.to(device)\n",
        "model.eval()\n",
        "predictions_4, labels_4 = [], []\n",
        "for batch in valid_dataset_loader_4:\n",
        "    pixel_values = batch[\"pixel_values\"].to(device)\n",
        "    label_ids = batch[\"labels\"].to(device)\n",
        "\n",
        "    outputs = model(pixel_values=pixel_values, labels=label_ids)\n",
        "\n",
        "    logits = outputs.logits.detach().cpu()\n",
        "    probabilities = torch.softmax(logits, dim=1)\n",
        "\n",
        "    predictions_4.extend(probabilities.cpu().numpy())\n",
        "    labels_4.extend(label_ids.cpu().numpy())"
      ],
      "metadata": {
        "id": "osUo3G54fSMW"
      },
      "execution_count": null,
      "outputs": []
    },
    {
      "cell_type": "code",
      "source": [
        "predictions_3 = []\n",
        "batch_idx = 0\n",
        "for batch in valid_dataset_loader_3:\n",
        "    pixel_values = batch[\"pixel_values\"].to(device)\n",
        "    label_ids = batch[\"labels\"].to(device)\n",
        "\n",
        "    if batch_idx < num_batches_with_logits_3:\n",
        "        outputs = model(pixel_values=pixel_values, labels=label_ids)\n",
        "        logits = outputs.logits.detach().cpu()\n",
        "    else:\n",
        "        length = len(label_ids)\n",
        "        logits = torch.zeros((length, num_of_classes), device=\"cpu\")\n",
        "\n",
        "    probabilities = torch.softmax(logits, dim=1)\n",
        "    predictions_3.extend(probabilities.cpu().numpy())\n",
        "    batch_idx = batch_idx + 1"
      ],
      "metadata": {
        "id": "N0O7uNd-f9cv"
      },
      "execution_count": null,
      "outputs": []
    },
    {
      "cell_type": "code",
      "source": [
        "import numpy as np\n",
        "predictions_3 = np.array(predictions_3)\n",
        "predictions_4 = np.array(predictions_4)"
      ],
      "metadata": {
        "id": "5qObdWfQLDtj"
      },
      "execution_count": null,
      "outputs": []
    },
    {
      "cell_type": "code",
      "source": [
        "predictions_avg = (predictions_3 + predictions_4) / 2\n",
        "predictions = np.argmax(predictions_avg, axis=1)"
      ],
      "metadata": {
        "id": "7shZhLX6qcIv"
      },
      "execution_count": null,
      "outputs": []
    },
    {
      "cell_type": "code",
      "source": [
        "predictions = np.array(predictions)\n",
        "labels = np.array(labels_4)"
      ],
      "metadata": {
        "id": "uE8xVnf8J5bT"
      },
      "execution_count": null,
      "outputs": []
    },
    {
      "cell_type": "code",
      "source": [
        "from sklearn.metrics import accuracy_score, precision_score, recall_score, f1_score, roc_auc_score, confusion_matrix, classification_report\n",
        "\n",
        "accuracy = accuracy_score(labels, predictions)\n",
        "precision = precision_score(labels, predictions, average='weighted')\n",
        "recall = recall_score(labels, predictions, average='weighted')\n",
        "f1 = f1_score(labels, predictions, average='weighted')\n",
        "# AUROC_score = roc_auc_score(labels, predictions)"
      ],
      "metadata": {
        "id": "_Rbze9TNiMLk"
      },
      "execution_count": null,
      "outputs": []
    },
    {
      "cell_type": "code",
      "source": [
        "print(\"Accuracy: \", accuracy)\n",
        "print(\"precision: \", precision)\n",
        "print(\"f1_score: \", f1)\n",
        "print(\"recall\", recall)\n",
        "# print(\"AUROC_score: \", AUROC_score)"
      ],
      "metadata": {
        "id": "NJ87fn9Tiihg"
      },
      "execution_count": null,
      "outputs": []
    },
    {
      "cell_type": "code",
      "source": [
        "print(classification_report(labels, predictions))"
      ],
      "metadata": {
        "id": "XIh6vBhAijAd"
      },
      "execution_count": null,
      "outputs": []
    },
    {
      "cell_type": "code",
      "source": [
        "cm = confusion_matrix(labels, predictions)\n",
        "print(cm)"
      ],
      "metadata": {
        "id": "357ijdMlindC"
      },
      "execution_count": null,
      "outputs": []
    },
    {
      "cell_type": "code",
      "source": [],
      "metadata": {
        "id": "KYM9hxuEQBZG"
      },
      "execution_count": null,
      "outputs": []
    }
  ],
  "metadata": {
    "colab": {
      "provenance": [],
      "collapsed_sections": [
        "YDcxpk7uWLbk",
        "tNSGzVxwT8id"
      ],
      "include_colab_link": true
    },
    "kernelspec": {
      "display_name": "Python 3",
      "name": "python3"
    },
    "language_info": {
      "name": "python"
    },
    "widgets": {
      "application/vnd.jupyter.widget-state+json": {
        "a2d0118ff1dd4e8d93f992400f5d151c": {
          "model_module": "@jupyter-widgets/controls",
          "model_name": "HBoxModel",
          "model_module_version": "1.5.0",
          "state": {
            "_dom_classes": [],
            "_model_module": "@jupyter-widgets/controls",
            "_model_module_version": "1.5.0",
            "_model_name": "HBoxModel",
            "_view_count": null,
            "_view_module": "@jupyter-widgets/controls",
            "_view_module_version": "1.5.0",
            "_view_name": "HBoxView",
            "box_style": "",
            "children": [
              "IPY_MODEL_e6e676eb2a3b4d7295daa710f1b1fa57",
              "IPY_MODEL_90c45fe36ebc41e786a409a78434c4ae",
              "IPY_MODEL_e152de0dc2bf42abb9ec05628613ff0b"
            ],
            "layout": "IPY_MODEL_d0f15f733d0f45e48e5db75d386ad99f"
          }
        },
        "e6e676eb2a3b4d7295daa710f1b1fa57": {
          "model_module": "@jupyter-widgets/controls",
          "model_name": "HTMLModel",
          "model_module_version": "1.5.0",
          "state": {
            "_dom_classes": [],
            "_model_module": "@jupyter-widgets/controls",
            "_model_module_version": "1.5.0",
            "_model_name": "HTMLModel",
            "_view_count": null,
            "_view_module": "@jupyter-widgets/controls",
            "_view_module_version": "1.5.0",
            "_view_name": "HTMLView",
            "description": "",
            "description_tooltip": null,
            "layout": "IPY_MODEL_2888f2af48e1428e959890d97beb0a4d",
            "placeholder": "​",
            "style": "IPY_MODEL_4f2c59765f22431799240831453ee272",
            "value": "Resolving data files: 100%"
          }
        },
        "90c45fe36ebc41e786a409a78434c4ae": {
          "model_module": "@jupyter-widgets/controls",
          "model_name": "FloatProgressModel",
          "model_module_version": "1.5.0",
          "state": {
            "_dom_classes": [],
            "_model_module": "@jupyter-widgets/controls",
            "_model_module_version": "1.5.0",
            "_model_name": "FloatProgressModel",
            "_view_count": null,
            "_view_module": "@jupyter-widgets/controls",
            "_view_module_version": "1.5.0",
            "_view_name": "ProgressView",
            "bar_style": "success",
            "description": "",
            "description_tooltip": null,
            "layout": "IPY_MODEL_cb0187bc4e9e429da3031e17c1628a07",
            "max": 22716,
            "min": 0,
            "orientation": "horizontal",
            "style": "IPY_MODEL_128e5bace7b74b51be4efb6ce83dcbee",
            "value": 22716
          }
        },
        "e152de0dc2bf42abb9ec05628613ff0b": {
          "model_module": "@jupyter-widgets/controls",
          "model_name": "HTMLModel",
          "model_module_version": "1.5.0",
          "state": {
            "_dom_classes": [],
            "_model_module": "@jupyter-widgets/controls",
            "_model_module_version": "1.5.0",
            "_model_name": "HTMLModel",
            "_view_count": null,
            "_view_module": "@jupyter-widgets/controls",
            "_view_module_version": "1.5.0",
            "_view_name": "HTMLView",
            "description": "",
            "description_tooltip": null,
            "layout": "IPY_MODEL_bb3f9d96128f4b8e8c5d75c20930d5cd",
            "placeholder": "​",
            "style": "IPY_MODEL_8dc7f83e3efd41c0bdfe09be247b1d2f",
            "value": " 22716/22716 [00:00&lt;00:00, 58431.42it/s]"
          }
        },
        "d0f15f733d0f45e48e5db75d386ad99f": {
          "model_module": "@jupyter-widgets/base",
          "model_name": "LayoutModel",
          "model_module_version": "1.2.0",
          "state": {
            "_model_module": "@jupyter-widgets/base",
            "_model_module_version": "1.2.0",
            "_model_name": "LayoutModel",
            "_view_count": null,
            "_view_module": "@jupyter-widgets/base",
            "_view_module_version": "1.2.0",
            "_view_name": "LayoutView",
            "align_content": null,
            "align_items": null,
            "align_self": null,
            "border": null,
            "bottom": null,
            "display": null,
            "flex": null,
            "flex_flow": null,
            "grid_area": null,
            "grid_auto_columns": null,
            "grid_auto_flow": null,
            "grid_auto_rows": null,
            "grid_column": null,
            "grid_gap": null,
            "grid_row": null,
            "grid_template_areas": null,
            "grid_template_columns": null,
            "grid_template_rows": null,
            "height": null,
            "justify_content": null,
            "justify_items": null,
            "left": null,
            "margin": null,
            "max_height": null,
            "max_width": null,
            "min_height": null,
            "min_width": null,
            "object_fit": null,
            "object_position": null,
            "order": null,
            "overflow": null,
            "overflow_x": null,
            "overflow_y": null,
            "padding": null,
            "right": null,
            "top": null,
            "visibility": null,
            "width": null
          }
        },
        "2888f2af48e1428e959890d97beb0a4d": {
          "model_module": "@jupyter-widgets/base",
          "model_name": "LayoutModel",
          "model_module_version": "1.2.0",
          "state": {
            "_model_module": "@jupyter-widgets/base",
            "_model_module_version": "1.2.0",
            "_model_name": "LayoutModel",
            "_view_count": null,
            "_view_module": "@jupyter-widgets/base",
            "_view_module_version": "1.2.0",
            "_view_name": "LayoutView",
            "align_content": null,
            "align_items": null,
            "align_self": null,
            "border": null,
            "bottom": null,
            "display": null,
            "flex": null,
            "flex_flow": null,
            "grid_area": null,
            "grid_auto_columns": null,
            "grid_auto_flow": null,
            "grid_auto_rows": null,
            "grid_column": null,
            "grid_gap": null,
            "grid_row": null,
            "grid_template_areas": null,
            "grid_template_columns": null,
            "grid_template_rows": null,
            "height": null,
            "justify_content": null,
            "justify_items": null,
            "left": null,
            "margin": null,
            "max_height": null,
            "max_width": null,
            "min_height": null,
            "min_width": null,
            "object_fit": null,
            "object_position": null,
            "order": null,
            "overflow": null,
            "overflow_x": null,
            "overflow_y": null,
            "padding": null,
            "right": null,
            "top": null,
            "visibility": null,
            "width": null
          }
        },
        "4f2c59765f22431799240831453ee272": {
          "model_module": "@jupyter-widgets/controls",
          "model_name": "DescriptionStyleModel",
          "model_module_version": "1.5.0",
          "state": {
            "_model_module": "@jupyter-widgets/controls",
            "_model_module_version": "1.5.0",
            "_model_name": "DescriptionStyleModel",
            "_view_count": null,
            "_view_module": "@jupyter-widgets/base",
            "_view_module_version": "1.2.0",
            "_view_name": "StyleView",
            "description_width": ""
          }
        },
        "cb0187bc4e9e429da3031e17c1628a07": {
          "model_module": "@jupyter-widgets/base",
          "model_name": "LayoutModel",
          "model_module_version": "1.2.0",
          "state": {
            "_model_module": "@jupyter-widgets/base",
            "_model_module_version": "1.2.0",
            "_model_name": "LayoutModel",
            "_view_count": null,
            "_view_module": "@jupyter-widgets/base",
            "_view_module_version": "1.2.0",
            "_view_name": "LayoutView",
            "align_content": null,
            "align_items": null,
            "align_self": null,
            "border": null,
            "bottom": null,
            "display": null,
            "flex": null,
            "flex_flow": null,
            "grid_area": null,
            "grid_auto_columns": null,
            "grid_auto_flow": null,
            "grid_auto_rows": null,
            "grid_column": null,
            "grid_gap": null,
            "grid_row": null,
            "grid_template_areas": null,
            "grid_template_columns": null,
            "grid_template_rows": null,
            "height": null,
            "justify_content": null,
            "justify_items": null,
            "left": null,
            "margin": null,
            "max_height": null,
            "max_width": null,
            "min_height": null,
            "min_width": null,
            "object_fit": null,
            "object_position": null,
            "order": null,
            "overflow": null,
            "overflow_x": null,
            "overflow_y": null,
            "padding": null,
            "right": null,
            "top": null,
            "visibility": null,
            "width": null
          }
        },
        "128e5bace7b74b51be4efb6ce83dcbee": {
          "model_module": "@jupyter-widgets/controls",
          "model_name": "ProgressStyleModel",
          "model_module_version": "1.5.0",
          "state": {
            "_model_module": "@jupyter-widgets/controls",
            "_model_module_version": "1.5.0",
            "_model_name": "ProgressStyleModel",
            "_view_count": null,
            "_view_module": "@jupyter-widgets/base",
            "_view_module_version": "1.2.0",
            "_view_name": "StyleView",
            "bar_color": null,
            "description_width": ""
          }
        },
        "bb3f9d96128f4b8e8c5d75c20930d5cd": {
          "model_module": "@jupyter-widgets/base",
          "model_name": "LayoutModel",
          "model_module_version": "1.2.0",
          "state": {
            "_model_module": "@jupyter-widgets/base",
            "_model_module_version": "1.2.0",
            "_model_name": "LayoutModel",
            "_view_count": null,
            "_view_module": "@jupyter-widgets/base",
            "_view_module_version": "1.2.0",
            "_view_name": "LayoutView",
            "align_content": null,
            "align_items": null,
            "align_self": null,
            "border": null,
            "bottom": null,
            "display": null,
            "flex": null,
            "flex_flow": null,
            "grid_area": null,
            "grid_auto_columns": null,
            "grid_auto_flow": null,
            "grid_auto_rows": null,
            "grid_column": null,
            "grid_gap": null,
            "grid_row": null,
            "grid_template_areas": null,
            "grid_template_columns": null,
            "grid_template_rows": null,
            "height": null,
            "justify_content": null,
            "justify_items": null,
            "left": null,
            "margin": null,
            "max_height": null,
            "max_width": null,
            "min_height": null,
            "min_width": null,
            "object_fit": null,
            "object_position": null,
            "order": null,
            "overflow": null,
            "overflow_x": null,
            "overflow_y": null,
            "padding": null,
            "right": null,
            "top": null,
            "visibility": null,
            "width": null
          }
        },
        "8dc7f83e3efd41c0bdfe09be247b1d2f": {
          "model_module": "@jupyter-widgets/controls",
          "model_name": "DescriptionStyleModel",
          "model_module_version": "1.5.0",
          "state": {
            "_model_module": "@jupyter-widgets/controls",
            "_model_module_version": "1.5.0",
            "_model_name": "DescriptionStyleModel",
            "_view_count": null,
            "_view_module": "@jupyter-widgets/base",
            "_view_module_version": "1.2.0",
            "_view_name": "StyleView",
            "description_width": ""
          }
        },
        "96cbfdc825834b6e96e8ef7898bc9ebd": {
          "model_module": "@jupyter-widgets/controls",
          "model_name": "HBoxModel",
          "model_module_version": "1.5.0",
          "state": {
            "_dom_classes": [],
            "_model_module": "@jupyter-widgets/controls",
            "_model_module_version": "1.5.0",
            "_model_name": "HBoxModel",
            "_view_count": null,
            "_view_module": "@jupyter-widgets/controls",
            "_view_module_version": "1.5.0",
            "_view_name": "HBoxView",
            "box_style": "",
            "children": [
              "IPY_MODEL_d1306504437d4ac9b149a2384736149d",
              "IPY_MODEL_c95e0649919c440ba689d10cc6000bb7",
              "IPY_MODEL_3b90b9923de4437e82a20bd7a5a97a7a"
            ],
            "layout": "IPY_MODEL_df6aef91bd104576b6f1d8a424b94721"
          }
        },
        "d1306504437d4ac9b149a2384736149d": {
          "model_module": "@jupyter-widgets/controls",
          "model_name": "HTMLModel",
          "model_module_version": "1.5.0",
          "state": {
            "_dom_classes": [],
            "_model_module": "@jupyter-widgets/controls",
            "_model_module_version": "1.5.0",
            "_model_name": "HTMLModel",
            "_view_count": null,
            "_view_module": "@jupyter-widgets/controls",
            "_view_module_version": "1.5.0",
            "_view_name": "HTMLView",
            "description": "",
            "description_tooltip": null,
            "layout": "IPY_MODEL_a1fa36bfd4cf4dcb9e1db62c8a36e2c4",
            "placeholder": "​",
            "style": "IPY_MODEL_014c618f97a140228cc6fefa19882163",
            "value": "Downloading data files: 100%"
          }
        },
        "c95e0649919c440ba689d10cc6000bb7": {
          "model_module": "@jupyter-widgets/controls",
          "model_name": "FloatProgressModel",
          "model_module_version": "1.5.0",
          "state": {
            "_dom_classes": [],
            "_model_module": "@jupyter-widgets/controls",
            "_model_module_version": "1.5.0",
            "_model_name": "FloatProgressModel",
            "_view_count": null,
            "_view_module": "@jupyter-widgets/controls",
            "_view_module_version": "1.5.0",
            "_view_name": "ProgressView",
            "bar_style": "success",
            "description": "",
            "description_tooltip": null,
            "layout": "IPY_MODEL_1fea3d6a27f64816a824d11d302c4db5",
            "max": 22716,
            "min": 0,
            "orientation": "horizontal",
            "style": "IPY_MODEL_9be73c8df3084afa90f1562cbd4168c0",
            "value": 22716
          }
        },
        "3b90b9923de4437e82a20bd7a5a97a7a": {
          "model_module": "@jupyter-widgets/controls",
          "model_name": "HTMLModel",
          "model_module_version": "1.5.0",
          "state": {
            "_dom_classes": [],
            "_model_module": "@jupyter-widgets/controls",
            "_model_module_version": "1.5.0",
            "_model_name": "HTMLModel",
            "_view_count": null,
            "_view_module": "@jupyter-widgets/controls",
            "_view_module_version": "1.5.0",
            "_view_name": "HTMLView",
            "description": "",
            "description_tooltip": null,
            "layout": "IPY_MODEL_71f64e0ac3274a28a16531d3dee64dd2",
            "placeholder": "​",
            "style": "IPY_MODEL_57d79b71188f489f8d25d0f81141f3da",
            "value": " 22716/22716 [00:00&lt;00:00, 38643.75it/s]"
          }
        },
        "df6aef91bd104576b6f1d8a424b94721": {
          "model_module": "@jupyter-widgets/base",
          "model_name": "LayoutModel",
          "model_module_version": "1.2.0",
          "state": {
            "_model_module": "@jupyter-widgets/base",
            "_model_module_version": "1.2.0",
            "_model_name": "LayoutModel",
            "_view_count": null,
            "_view_module": "@jupyter-widgets/base",
            "_view_module_version": "1.2.0",
            "_view_name": "LayoutView",
            "align_content": null,
            "align_items": null,
            "align_self": null,
            "border": null,
            "bottom": null,
            "display": null,
            "flex": null,
            "flex_flow": null,
            "grid_area": null,
            "grid_auto_columns": null,
            "grid_auto_flow": null,
            "grid_auto_rows": null,
            "grid_column": null,
            "grid_gap": null,
            "grid_row": null,
            "grid_template_areas": null,
            "grid_template_columns": null,
            "grid_template_rows": null,
            "height": null,
            "justify_content": null,
            "justify_items": null,
            "left": null,
            "margin": null,
            "max_height": null,
            "max_width": null,
            "min_height": null,
            "min_width": null,
            "object_fit": null,
            "object_position": null,
            "order": null,
            "overflow": null,
            "overflow_x": null,
            "overflow_y": null,
            "padding": null,
            "right": null,
            "top": null,
            "visibility": null,
            "width": null
          }
        },
        "a1fa36bfd4cf4dcb9e1db62c8a36e2c4": {
          "model_module": "@jupyter-widgets/base",
          "model_name": "LayoutModel",
          "model_module_version": "1.2.0",
          "state": {
            "_model_module": "@jupyter-widgets/base",
            "_model_module_version": "1.2.0",
            "_model_name": "LayoutModel",
            "_view_count": null,
            "_view_module": "@jupyter-widgets/base",
            "_view_module_version": "1.2.0",
            "_view_name": "LayoutView",
            "align_content": null,
            "align_items": null,
            "align_self": null,
            "border": null,
            "bottom": null,
            "display": null,
            "flex": null,
            "flex_flow": null,
            "grid_area": null,
            "grid_auto_columns": null,
            "grid_auto_flow": null,
            "grid_auto_rows": null,
            "grid_column": null,
            "grid_gap": null,
            "grid_row": null,
            "grid_template_areas": null,
            "grid_template_columns": null,
            "grid_template_rows": null,
            "height": null,
            "justify_content": null,
            "justify_items": null,
            "left": null,
            "margin": null,
            "max_height": null,
            "max_width": null,
            "min_height": null,
            "min_width": null,
            "object_fit": null,
            "object_position": null,
            "order": null,
            "overflow": null,
            "overflow_x": null,
            "overflow_y": null,
            "padding": null,
            "right": null,
            "top": null,
            "visibility": null,
            "width": null
          }
        },
        "014c618f97a140228cc6fefa19882163": {
          "model_module": "@jupyter-widgets/controls",
          "model_name": "DescriptionStyleModel",
          "model_module_version": "1.5.0",
          "state": {
            "_model_module": "@jupyter-widgets/controls",
            "_model_module_version": "1.5.0",
            "_model_name": "DescriptionStyleModel",
            "_view_count": null,
            "_view_module": "@jupyter-widgets/base",
            "_view_module_version": "1.2.0",
            "_view_name": "StyleView",
            "description_width": ""
          }
        },
        "1fea3d6a27f64816a824d11d302c4db5": {
          "model_module": "@jupyter-widgets/base",
          "model_name": "LayoutModel",
          "model_module_version": "1.2.0",
          "state": {
            "_model_module": "@jupyter-widgets/base",
            "_model_module_version": "1.2.0",
            "_model_name": "LayoutModel",
            "_view_count": null,
            "_view_module": "@jupyter-widgets/base",
            "_view_module_version": "1.2.0",
            "_view_name": "LayoutView",
            "align_content": null,
            "align_items": null,
            "align_self": null,
            "border": null,
            "bottom": null,
            "display": null,
            "flex": null,
            "flex_flow": null,
            "grid_area": null,
            "grid_auto_columns": null,
            "grid_auto_flow": null,
            "grid_auto_rows": null,
            "grid_column": null,
            "grid_gap": null,
            "grid_row": null,
            "grid_template_areas": null,
            "grid_template_columns": null,
            "grid_template_rows": null,
            "height": null,
            "justify_content": null,
            "justify_items": null,
            "left": null,
            "margin": null,
            "max_height": null,
            "max_width": null,
            "min_height": null,
            "min_width": null,
            "object_fit": null,
            "object_position": null,
            "order": null,
            "overflow": null,
            "overflow_x": null,
            "overflow_y": null,
            "padding": null,
            "right": null,
            "top": null,
            "visibility": null,
            "width": null
          }
        },
        "9be73c8df3084afa90f1562cbd4168c0": {
          "model_module": "@jupyter-widgets/controls",
          "model_name": "ProgressStyleModel",
          "model_module_version": "1.5.0",
          "state": {
            "_model_module": "@jupyter-widgets/controls",
            "_model_module_version": "1.5.0",
            "_model_name": "ProgressStyleModel",
            "_view_count": null,
            "_view_module": "@jupyter-widgets/base",
            "_view_module_version": "1.2.0",
            "_view_name": "StyleView",
            "bar_color": null,
            "description_width": ""
          }
        },
        "71f64e0ac3274a28a16531d3dee64dd2": {
          "model_module": "@jupyter-widgets/base",
          "model_name": "LayoutModel",
          "model_module_version": "1.2.0",
          "state": {
            "_model_module": "@jupyter-widgets/base",
            "_model_module_version": "1.2.0",
            "_model_name": "LayoutModel",
            "_view_count": null,
            "_view_module": "@jupyter-widgets/base",
            "_view_module_version": "1.2.0",
            "_view_name": "LayoutView",
            "align_content": null,
            "align_items": null,
            "align_self": null,
            "border": null,
            "bottom": null,
            "display": null,
            "flex": null,
            "flex_flow": null,
            "grid_area": null,
            "grid_auto_columns": null,
            "grid_auto_flow": null,
            "grid_auto_rows": null,
            "grid_column": null,
            "grid_gap": null,
            "grid_row": null,
            "grid_template_areas": null,
            "grid_template_columns": null,
            "grid_template_rows": null,
            "height": null,
            "justify_content": null,
            "justify_items": null,
            "left": null,
            "margin": null,
            "max_height": null,
            "max_width": null,
            "min_height": null,
            "min_width": null,
            "object_fit": null,
            "object_position": null,
            "order": null,
            "overflow": null,
            "overflow_x": null,
            "overflow_y": null,
            "padding": null,
            "right": null,
            "top": null,
            "visibility": null,
            "width": null
          }
        },
        "57d79b71188f489f8d25d0f81141f3da": {
          "model_module": "@jupyter-widgets/controls",
          "model_name": "DescriptionStyleModel",
          "model_module_version": "1.5.0",
          "state": {
            "_model_module": "@jupyter-widgets/controls",
            "_model_module_version": "1.5.0",
            "_model_name": "DescriptionStyleModel",
            "_view_count": null,
            "_view_module": "@jupyter-widgets/base",
            "_view_module_version": "1.2.0",
            "_view_name": "StyleView",
            "description_width": ""
          }
        },
        "4ceb26e5ac56424babc8885f103ebb21": {
          "model_module": "@jupyter-widgets/controls",
          "model_name": "HBoxModel",
          "model_module_version": "1.5.0",
          "state": {
            "_dom_classes": [],
            "_model_module": "@jupyter-widgets/controls",
            "_model_module_version": "1.5.0",
            "_model_name": "HBoxModel",
            "_view_count": null,
            "_view_module": "@jupyter-widgets/controls",
            "_view_module_version": "1.5.0",
            "_view_name": "HBoxView",
            "box_style": "",
            "children": [
              "IPY_MODEL_c797d44cc14448138d84969233cc50c9",
              "IPY_MODEL_aaefd898ced84b6bbe4826f7231fbbca",
              "IPY_MODEL_2590b435b1e64ce9adb151bac3ea384d"
            ],
            "layout": "IPY_MODEL_50cbebcc87db4279987a2631a712d87c"
          }
        },
        "c797d44cc14448138d84969233cc50c9": {
          "model_module": "@jupyter-widgets/controls",
          "model_name": "HTMLModel",
          "model_module_version": "1.5.0",
          "state": {
            "_dom_classes": [],
            "_model_module": "@jupyter-widgets/controls",
            "_model_module_version": "1.5.0",
            "_model_name": "HTMLModel",
            "_view_count": null,
            "_view_module": "@jupyter-widgets/controls",
            "_view_module_version": "1.5.0",
            "_view_name": "HTMLView",
            "description": "",
            "description_tooltip": null,
            "layout": "IPY_MODEL_34cf48608ba54668be79b9875e5810c9",
            "placeholder": "​",
            "style": "IPY_MODEL_b0b73271c0c84d27831e4c1b2cd474a7",
            "value": "Downloading data files: "
          }
        },
        "aaefd898ced84b6bbe4826f7231fbbca": {
          "model_module": "@jupyter-widgets/controls",
          "model_name": "FloatProgressModel",
          "model_module_version": "1.5.0",
          "state": {
            "_dom_classes": [],
            "_model_module": "@jupyter-widgets/controls",
            "_model_module_version": "1.5.0",
            "_model_name": "FloatProgressModel",
            "_view_count": null,
            "_view_module": "@jupyter-widgets/controls",
            "_view_module_version": "1.5.0",
            "_view_name": "ProgressView",
            "bar_style": "success",
            "description": "",
            "description_tooltip": null,
            "layout": "IPY_MODEL_1c2d928b58204fa78097a972b89a8acf",
            "max": 1,
            "min": 0,
            "orientation": "horizontal",
            "style": "IPY_MODEL_5e2ab041df8e473a8324850bf3f6fe34",
            "value": 0
          }
        },
        "2590b435b1e64ce9adb151bac3ea384d": {
          "model_module": "@jupyter-widgets/controls",
          "model_name": "HTMLModel",
          "model_module_version": "1.5.0",
          "state": {
            "_dom_classes": [],
            "_model_module": "@jupyter-widgets/controls",
            "_model_module_version": "1.5.0",
            "_model_name": "HTMLModel",
            "_view_count": null,
            "_view_module": "@jupyter-widgets/controls",
            "_view_module_version": "1.5.0",
            "_view_name": "HTMLView",
            "description": "",
            "description_tooltip": null,
            "layout": "IPY_MODEL_f0671a993da04f51b69315df3227b330",
            "placeholder": "​",
            "style": "IPY_MODEL_ef5cbc99d626445f93d6679055ec4925",
            "value": " 0/0 [00:00&lt;?, ?it/s]"
          }
        },
        "50cbebcc87db4279987a2631a712d87c": {
          "model_module": "@jupyter-widgets/base",
          "model_name": "LayoutModel",
          "model_module_version": "1.2.0",
          "state": {
            "_model_module": "@jupyter-widgets/base",
            "_model_module_version": "1.2.0",
            "_model_name": "LayoutModel",
            "_view_count": null,
            "_view_module": "@jupyter-widgets/base",
            "_view_module_version": "1.2.0",
            "_view_name": "LayoutView",
            "align_content": null,
            "align_items": null,
            "align_self": null,
            "border": null,
            "bottom": null,
            "display": null,
            "flex": null,
            "flex_flow": null,
            "grid_area": null,
            "grid_auto_columns": null,
            "grid_auto_flow": null,
            "grid_auto_rows": null,
            "grid_column": null,
            "grid_gap": null,
            "grid_row": null,
            "grid_template_areas": null,
            "grid_template_columns": null,
            "grid_template_rows": null,
            "height": null,
            "justify_content": null,
            "justify_items": null,
            "left": null,
            "margin": null,
            "max_height": null,
            "max_width": null,
            "min_height": null,
            "min_width": null,
            "object_fit": null,
            "object_position": null,
            "order": null,
            "overflow": null,
            "overflow_x": null,
            "overflow_y": null,
            "padding": null,
            "right": null,
            "top": null,
            "visibility": null,
            "width": null
          }
        },
        "34cf48608ba54668be79b9875e5810c9": {
          "model_module": "@jupyter-widgets/base",
          "model_name": "LayoutModel",
          "model_module_version": "1.2.0",
          "state": {
            "_model_module": "@jupyter-widgets/base",
            "_model_module_version": "1.2.0",
            "_model_name": "LayoutModel",
            "_view_count": null,
            "_view_module": "@jupyter-widgets/base",
            "_view_module_version": "1.2.0",
            "_view_name": "LayoutView",
            "align_content": null,
            "align_items": null,
            "align_self": null,
            "border": null,
            "bottom": null,
            "display": null,
            "flex": null,
            "flex_flow": null,
            "grid_area": null,
            "grid_auto_columns": null,
            "grid_auto_flow": null,
            "grid_auto_rows": null,
            "grid_column": null,
            "grid_gap": null,
            "grid_row": null,
            "grid_template_areas": null,
            "grid_template_columns": null,
            "grid_template_rows": null,
            "height": null,
            "justify_content": null,
            "justify_items": null,
            "left": null,
            "margin": null,
            "max_height": null,
            "max_width": null,
            "min_height": null,
            "min_width": null,
            "object_fit": null,
            "object_position": null,
            "order": null,
            "overflow": null,
            "overflow_x": null,
            "overflow_y": null,
            "padding": null,
            "right": null,
            "top": null,
            "visibility": null,
            "width": null
          }
        },
        "b0b73271c0c84d27831e4c1b2cd474a7": {
          "model_module": "@jupyter-widgets/controls",
          "model_name": "DescriptionStyleModel",
          "model_module_version": "1.5.0",
          "state": {
            "_model_module": "@jupyter-widgets/controls",
            "_model_module_version": "1.5.0",
            "_model_name": "DescriptionStyleModel",
            "_view_count": null,
            "_view_module": "@jupyter-widgets/base",
            "_view_module_version": "1.2.0",
            "_view_name": "StyleView",
            "description_width": ""
          }
        },
        "1c2d928b58204fa78097a972b89a8acf": {
          "model_module": "@jupyter-widgets/base",
          "model_name": "LayoutModel",
          "model_module_version": "1.2.0",
          "state": {
            "_model_module": "@jupyter-widgets/base",
            "_model_module_version": "1.2.0",
            "_model_name": "LayoutModel",
            "_view_count": null,
            "_view_module": "@jupyter-widgets/base",
            "_view_module_version": "1.2.0",
            "_view_name": "LayoutView",
            "align_content": null,
            "align_items": null,
            "align_self": null,
            "border": null,
            "bottom": null,
            "display": null,
            "flex": null,
            "flex_flow": null,
            "grid_area": null,
            "grid_auto_columns": null,
            "grid_auto_flow": null,
            "grid_auto_rows": null,
            "grid_column": null,
            "grid_gap": null,
            "grid_row": null,
            "grid_template_areas": null,
            "grid_template_columns": null,
            "grid_template_rows": null,
            "height": null,
            "justify_content": null,
            "justify_items": null,
            "left": null,
            "margin": null,
            "max_height": null,
            "max_width": null,
            "min_height": null,
            "min_width": null,
            "object_fit": null,
            "object_position": null,
            "order": null,
            "overflow": null,
            "overflow_x": null,
            "overflow_y": null,
            "padding": null,
            "right": null,
            "top": null,
            "visibility": null,
            "width": "20px"
          }
        },
        "5e2ab041df8e473a8324850bf3f6fe34": {
          "model_module": "@jupyter-widgets/controls",
          "model_name": "ProgressStyleModel",
          "model_module_version": "1.5.0",
          "state": {
            "_model_module": "@jupyter-widgets/controls",
            "_model_module_version": "1.5.0",
            "_model_name": "ProgressStyleModel",
            "_view_count": null,
            "_view_module": "@jupyter-widgets/base",
            "_view_module_version": "1.2.0",
            "_view_name": "StyleView",
            "bar_color": null,
            "description_width": ""
          }
        },
        "f0671a993da04f51b69315df3227b330": {
          "model_module": "@jupyter-widgets/base",
          "model_name": "LayoutModel",
          "model_module_version": "1.2.0",
          "state": {
            "_model_module": "@jupyter-widgets/base",
            "_model_module_version": "1.2.0",
            "_model_name": "LayoutModel",
            "_view_count": null,
            "_view_module": "@jupyter-widgets/base",
            "_view_module_version": "1.2.0",
            "_view_name": "LayoutView",
            "align_content": null,
            "align_items": null,
            "align_self": null,
            "border": null,
            "bottom": null,
            "display": null,
            "flex": null,
            "flex_flow": null,
            "grid_area": null,
            "grid_auto_columns": null,
            "grid_auto_flow": null,
            "grid_auto_rows": null,
            "grid_column": null,
            "grid_gap": null,
            "grid_row": null,
            "grid_template_areas": null,
            "grid_template_columns": null,
            "grid_template_rows": null,
            "height": null,
            "justify_content": null,
            "justify_items": null,
            "left": null,
            "margin": null,
            "max_height": null,
            "max_width": null,
            "min_height": null,
            "min_width": null,
            "object_fit": null,
            "object_position": null,
            "order": null,
            "overflow": null,
            "overflow_x": null,
            "overflow_y": null,
            "padding": null,
            "right": null,
            "top": null,
            "visibility": null,
            "width": null
          }
        },
        "ef5cbc99d626445f93d6679055ec4925": {
          "model_module": "@jupyter-widgets/controls",
          "model_name": "DescriptionStyleModel",
          "model_module_version": "1.5.0",
          "state": {
            "_model_module": "@jupyter-widgets/controls",
            "_model_module_version": "1.5.0",
            "_model_name": "DescriptionStyleModel",
            "_view_count": null,
            "_view_module": "@jupyter-widgets/base",
            "_view_module_version": "1.2.0",
            "_view_name": "StyleView",
            "description_width": ""
          }
        },
        "a637872365d74a2ab179732f8d24b399": {
          "model_module": "@jupyter-widgets/controls",
          "model_name": "HBoxModel",
          "model_module_version": "1.5.0",
          "state": {
            "_dom_classes": [],
            "_model_module": "@jupyter-widgets/controls",
            "_model_module_version": "1.5.0",
            "_model_name": "HBoxModel",
            "_view_count": null,
            "_view_module": "@jupyter-widgets/controls",
            "_view_module_version": "1.5.0",
            "_view_name": "HBoxView",
            "box_style": "",
            "children": [
              "IPY_MODEL_6eb0b838c17b48ab9e073a79c61c3460",
              "IPY_MODEL_a33e76d34d8c47718d6474a6ef357e9c",
              "IPY_MODEL_db6c1993a8ed4aa9ae5bfe19495921ce"
            ],
            "layout": "IPY_MODEL_7102c5fbf9cd4525a735f25366a8ec53"
          }
        },
        "6eb0b838c17b48ab9e073a79c61c3460": {
          "model_module": "@jupyter-widgets/controls",
          "model_name": "HTMLModel",
          "model_module_version": "1.5.0",
          "state": {
            "_dom_classes": [],
            "_model_module": "@jupyter-widgets/controls",
            "_model_module_version": "1.5.0",
            "_model_name": "HTMLModel",
            "_view_count": null,
            "_view_module": "@jupyter-widgets/controls",
            "_view_module_version": "1.5.0",
            "_view_name": "HTMLView",
            "description": "",
            "description_tooltip": null,
            "layout": "IPY_MODEL_0deac8beee384764a5702206b4c5f8ba",
            "placeholder": "​",
            "style": "IPY_MODEL_15fbb2fc79934b3ba26db07abbdfd7c4",
            "value": "Extracting data files: "
          }
        },
        "a33e76d34d8c47718d6474a6ef357e9c": {
          "model_module": "@jupyter-widgets/controls",
          "model_name": "FloatProgressModel",
          "model_module_version": "1.5.0",
          "state": {
            "_dom_classes": [],
            "_model_module": "@jupyter-widgets/controls",
            "_model_module_version": "1.5.0",
            "_model_name": "FloatProgressModel",
            "_view_count": null,
            "_view_module": "@jupyter-widgets/controls",
            "_view_module_version": "1.5.0",
            "_view_name": "ProgressView",
            "bar_style": "success",
            "description": "",
            "description_tooltip": null,
            "layout": "IPY_MODEL_664a32bb7e8d4caeae33a94347a60912",
            "max": 1,
            "min": 0,
            "orientation": "horizontal",
            "style": "IPY_MODEL_906faa210e1a49199121d0e8e5b2062a",
            "value": 0
          }
        },
        "db6c1993a8ed4aa9ae5bfe19495921ce": {
          "model_module": "@jupyter-widgets/controls",
          "model_name": "HTMLModel",
          "model_module_version": "1.5.0",
          "state": {
            "_dom_classes": [],
            "_model_module": "@jupyter-widgets/controls",
            "_model_module_version": "1.5.0",
            "_model_name": "HTMLModel",
            "_view_count": null,
            "_view_module": "@jupyter-widgets/controls",
            "_view_module_version": "1.5.0",
            "_view_name": "HTMLView",
            "description": "",
            "description_tooltip": null,
            "layout": "IPY_MODEL_9da67078d4df48959b7512cff9d4d1c7",
            "placeholder": "​",
            "style": "IPY_MODEL_5e70c79beba546a3a42d340d85c51ce3",
            "value": " 0/0 [00:00&lt;?, ?it/s]"
          }
        },
        "7102c5fbf9cd4525a735f25366a8ec53": {
          "model_module": "@jupyter-widgets/base",
          "model_name": "LayoutModel",
          "model_module_version": "1.2.0",
          "state": {
            "_model_module": "@jupyter-widgets/base",
            "_model_module_version": "1.2.0",
            "_model_name": "LayoutModel",
            "_view_count": null,
            "_view_module": "@jupyter-widgets/base",
            "_view_module_version": "1.2.0",
            "_view_name": "LayoutView",
            "align_content": null,
            "align_items": null,
            "align_self": null,
            "border": null,
            "bottom": null,
            "display": null,
            "flex": null,
            "flex_flow": null,
            "grid_area": null,
            "grid_auto_columns": null,
            "grid_auto_flow": null,
            "grid_auto_rows": null,
            "grid_column": null,
            "grid_gap": null,
            "grid_row": null,
            "grid_template_areas": null,
            "grid_template_columns": null,
            "grid_template_rows": null,
            "height": null,
            "justify_content": null,
            "justify_items": null,
            "left": null,
            "margin": null,
            "max_height": null,
            "max_width": null,
            "min_height": null,
            "min_width": null,
            "object_fit": null,
            "object_position": null,
            "order": null,
            "overflow": null,
            "overflow_x": null,
            "overflow_y": null,
            "padding": null,
            "right": null,
            "top": null,
            "visibility": null,
            "width": null
          }
        },
        "0deac8beee384764a5702206b4c5f8ba": {
          "model_module": "@jupyter-widgets/base",
          "model_name": "LayoutModel",
          "model_module_version": "1.2.0",
          "state": {
            "_model_module": "@jupyter-widgets/base",
            "_model_module_version": "1.2.0",
            "_model_name": "LayoutModel",
            "_view_count": null,
            "_view_module": "@jupyter-widgets/base",
            "_view_module_version": "1.2.0",
            "_view_name": "LayoutView",
            "align_content": null,
            "align_items": null,
            "align_self": null,
            "border": null,
            "bottom": null,
            "display": null,
            "flex": null,
            "flex_flow": null,
            "grid_area": null,
            "grid_auto_columns": null,
            "grid_auto_flow": null,
            "grid_auto_rows": null,
            "grid_column": null,
            "grid_gap": null,
            "grid_row": null,
            "grid_template_areas": null,
            "grid_template_columns": null,
            "grid_template_rows": null,
            "height": null,
            "justify_content": null,
            "justify_items": null,
            "left": null,
            "margin": null,
            "max_height": null,
            "max_width": null,
            "min_height": null,
            "min_width": null,
            "object_fit": null,
            "object_position": null,
            "order": null,
            "overflow": null,
            "overflow_x": null,
            "overflow_y": null,
            "padding": null,
            "right": null,
            "top": null,
            "visibility": null,
            "width": null
          }
        },
        "15fbb2fc79934b3ba26db07abbdfd7c4": {
          "model_module": "@jupyter-widgets/controls",
          "model_name": "DescriptionStyleModel",
          "model_module_version": "1.5.0",
          "state": {
            "_model_module": "@jupyter-widgets/controls",
            "_model_module_version": "1.5.0",
            "_model_name": "DescriptionStyleModel",
            "_view_count": null,
            "_view_module": "@jupyter-widgets/base",
            "_view_module_version": "1.2.0",
            "_view_name": "StyleView",
            "description_width": ""
          }
        },
        "664a32bb7e8d4caeae33a94347a60912": {
          "model_module": "@jupyter-widgets/base",
          "model_name": "LayoutModel",
          "model_module_version": "1.2.0",
          "state": {
            "_model_module": "@jupyter-widgets/base",
            "_model_module_version": "1.2.0",
            "_model_name": "LayoutModel",
            "_view_count": null,
            "_view_module": "@jupyter-widgets/base",
            "_view_module_version": "1.2.0",
            "_view_name": "LayoutView",
            "align_content": null,
            "align_items": null,
            "align_self": null,
            "border": null,
            "bottom": null,
            "display": null,
            "flex": null,
            "flex_flow": null,
            "grid_area": null,
            "grid_auto_columns": null,
            "grid_auto_flow": null,
            "grid_auto_rows": null,
            "grid_column": null,
            "grid_gap": null,
            "grid_row": null,
            "grid_template_areas": null,
            "grid_template_columns": null,
            "grid_template_rows": null,
            "height": null,
            "justify_content": null,
            "justify_items": null,
            "left": null,
            "margin": null,
            "max_height": null,
            "max_width": null,
            "min_height": null,
            "min_width": null,
            "object_fit": null,
            "object_position": null,
            "order": null,
            "overflow": null,
            "overflow_x": null,
            "overflow_y": null,
            "padding": null,
            "right": null,
            "top": null,
            "visibility": null,
            "width": "20px"
          }
        },
        "906faa210e1a49199121d0e8e5b2062a": {
          "model_module": "@jupyter-widgets/controls",
          "model_name": "ProgressStyleModel",
          "model_module_version": "1.5.0",
          "state": {
            "_model_module": "@jupyter-widgets/controls",
            "_model_module_version": "1.5.0",
            "_model_name": "ProgressStyleModel",
            "_view_count": null,
            "_view_module": "@jupyter-widgets/base",
            "_view_module_version": "1.2.0",
            "_view_name": "StyleView",
            "bar_color": null,
            "description_width": ""
          }
        },
        "9da67078d4df48959b7512cff9d4d1c7": {
          "model_module": "@jupyter-widgets/base",
          "model_name": "LayoutModel",
          "model_module_version": "1.2.0",
          "state": {
            "_model_module": "@jupyter-widgets/base",
            "_model_module_version": "1.2.0",
            "_model_name": "LayoutModel",
            "_view_count": null,
            "_view_module": "@jupyter-widgets/base",
            "_view_module_version": "1.2.0",
            "_view_name": "LayoutView",
            "align_content": null,
            "align_items": null,
            "align_self": null,
            "border": null,
            "bottom": null,
            "display": null,
            "flex": null,
            "flex_flow": null,
            "grid_area": null,
            "grid_auto_columns": null,
            "grid_auto_flow": null,
            "grid_auto_rows": null,
            "grid_column": null,
            "grid_gap": null,
            "grid_row": null,
            "grid_template_areas": null,
            "grid_template_columns": null,
            "grid_template_rows": null,
            "height": null,
            "justify_content": null,
            "justify_items": null,
            "left": null,
            "margin": null,
            "max_height": null,
            "max_width": null,
            "min_height": null,
            "min_width": null,
            "object_fit": null,
            "object_position": null,
            "order": null,
            "overflow": null,
            "overflow_x": null,
            "overflow_y": null,
            "padding": null,
            "right": null,
            "top": null,
            "visibility": null,
            "width": null
          }
        },
        "5e70c79beba546a3a42d340d85c51ce3": {
          "model_module": "@jupyter-widgets/controls",
          "model_name": "DescriptionStyleModel",
          "model_module_version": "1.5.0",
          "state": {
            "_model_module": "@jupyter-widgets/controls",
            "_model_module_version": "1.5.0",
            "_model_name": "DescriptionStyleModel",
            "_view_count": null,
            "_view_module": "@jupyter-widgets/base",
            "_view_module_version": "1.2.0",
            "_view_name": "StyleView",
            "description_width": ""
          }
        },
        "89d9df59efe34df08079d9eab39ea9a1": {
          "model_module": "@jupyter-widgets/controls",
          "model_name": "HBoxModel",
          "model_module_version": "1.5.0",
          "state": {
            "_dom_classes": [],
            "_model_module": "@jupyter-widgets/controls",
            "_model_module_version": "1.5.0",
            "_model_name": "HBoxModel",
            "_view_count": null,
            "_view_module": "@jupyter-widgets/controls",
            "_view_module_version": "1.5.0",
            "_view_name": "HBoxView",
            "box_style": "",
            "children": [
              "IPY_MODEL_c99f1bc9a08247f181b9687dc9027a8e",
              "IPY_MODEL_a5f9ebe986e740989271595975850a4d",
              "IPY_MODEL_d9a444d93b254f44aae47c46913fa346"
            ],
            "layout": "IPY_MODEL_1880a846e43042f58b557cdc18f238da"
          }
        },
        "c99f1bc9a08247f181b9687dc9027a8e": {
          "model_module": "@jupyter-widgets/controls",
          "model_name": "HTMLModel",
          "model_module_version": "1.5.0",
          "state": {
            "_dom_classes": [],
            "_model_module": "@jupyter-widgets/controls",
            "_model_module_version": "1.5.0",
            "_model_name": "HTMLModel",
            "_view_count": null,
            "_view_module": "@jupyter-widgets/controls",
            "_view_module_version": "1.5.0",
            "_view_name": "HTMLView",
            "description": "",
            "description_tooltip": null,
            "layout": "IPY_MODEL_258eb51cf0ec445daa722d20f6d5904a",
            "placeholder": "​",
            "style": "IPY_MODEL_d00d96bfd74943ea9ff11fde6fe77281",
            "value": "Generating train split: "
          }
        },
        "a5f9ebe986e740989271595975850a4d": {
          "model_module": "@jupyter-widgets/controls",
          "model_name": "FloatProgressModel",
          "model_module_version": "1.5.0",
          "state": {
            "_dom_classes": [],
            "_model_module": "@jupyter-widgets/controls",
            "_model_module_version": "1.5.0",
            "_model_name": "FloatProgressModel",
            "_view_count": null,
            "_view_module": "@jupyter-widgets/controls",
            "_view_module_version": "1.5.0",
            "_view_name": "ProgressView",
            "bar_style": "success",
            "description": "",
            "description_tooltip": null,
            "layout": "IPY_MODEL_da8175993d014ee68e7e5b98b3b0b23e",
            "max": 1,
            "min": 0,
            "orientation": "horizontal",
            "style": "IPY_MODEL_930427ed06a14f9583ba37e1b68d7dbc",
            "value": 1
          }
        },
        "d9a444d93b254f44aae47c46913fa346": {
          "model_module": "@jupyter-widgets/controls",
          "model_name": "HTMLModel",
          "model_module_version": "1.5.0",
          "state": {
            "_dom_classes": [],
            "_model_module": "@jupyter-widgets/controls",
            "_model_module_version": "1.5.0",
            "_model_name": "HTMLModel",
            "_view_count": null,
            "_view_module": "@jupyter-widgets/controls",
            "_view_module_version": "1.5.0",
            "_view_name": "HTMLView",
            "description": "",
            "description_tooltip": null,
            "layout": "IPY_MODEL_e37e270de56c475d9077e8efb730348d",
            "placeholder": "​",
            "style": "IPY_MODEL_d4bf5bf30aa647bab4aeae242ccb9a85",
            "value": " 22716/0 [00:02&lt;00:00, 8973.52 examples/s]"
          }
        },
        "1880a846e43042f58b557cdc18f238da": {
          "model_module": "@jupyter-widgets/base",
          "model_name": "LayoutModel",
          "model_module_version": "1.2.0",
          "state": {
            "_model_module": "@jupyter-widgets/base",
            "_model_module_version": "1.2.0",
            "_model_name": "LayoutModel",
            "_view_count": null,
            "_view_module": "@jupyter-widgets/base",
            "_view_module_version": "1.2.0",
            "_view_name": "LayoutView",
            "align_content": null,
            "align_items": null,
            "align_self": null,
            "border": null,
            "bottom": null,
            "display": null,
            "flex": null,
            "flex_flow": null,
            "grid_area": null,
            "grid_auto_columns": null,
            "grid_auto_flow": null,
            "grid_auto_rows": null,
            "grid_column": null,
            "grid_gap": null,
            "grid_row": null,
            "grid_template_areas": null,
            "grid_template_columns": null,
            "grid_template_rows": null,
            "height": null,
            "justify_content": null,
            "justify_items": null,
            "left": null,
            "margin": null,
            "max_height": null,
            "max_width": null,
            "min_height": null,
            "min_width": null,
            "object_fit": null,
            "object_position": null,
            "order": null,
            "overflow": null,
            "overflow_x": null,
            "overflow_y": null,
            "padding": null,
            "right": null,
            "top": null,
            "visibility": null,
            "width": null
          }
        },
        "258eb51cf0ec445daa722d20f6d5904a": {
          "model_module": "@jupyter-widgets/base",
          "model_name": "LayoutModel",
          "model_module_version": "1.2.0",
          "state": {
            "_model_module": "@jupyter-widgets/base",
            "_model_module_version": "1.2.0",
            "_model_name": "LayoutModel",
            "_view_count": null,
            "_view_module": "@jupyter-widgets/base",
            "_view_module_version": "1.2.0",
            "_view_name": "LayoutView",
            "align_content": null,
            "align_items": null,
            "align_self": null,
            "border": null,
            "bottom": null,
            "display": null,
            "flex": null,
            "flex_flow": null,
            "grid_area": null,
            "grid_auto_columns": null,
            "grid_auto_flow": null,
            "grid_auto_rows": null,
            "grid_column": null,
            "grid_gap": null,
            "grid_row": null,
            "grid_template_areas": null,
            "grid_template_columns": null,
            "grid_template_rows": null,
            "height": null,
            "justify_content": null,
            "justify_items": null,
            "left": null,
            "margin": null,
            "max_height": null,
            "max_width": null,
            "min_height": null,
            "min_width": null,
            "object_fit": null,
            "object_position": null,
            "order": null,
            "overflow": null,
            "overflow_x": null,
            "overflow_y": null,
            "padding": null,
            "right": null,
            "top": null,
            "visibility": null,
            "width": null
          }
        },
        "d00d96bfd74943ea9ff11fde6fe77281": {
          "model_module": "@jupyter-widgets/controls",
          "model_name": "DescriptionStyleModel",
          "model_module_version": "1.5.0",
          "state": {
            "_model_module": "@jupyter-widgets/controls",
            "_model_module_version": "1.5.0",
            "_model_name": "DescriptionStyleModel",
            "_view_count": null,
            "_view_module": "@jupyter-widgets/base",
            "_view_module_version": "1.2.0",
            "_view_name": "StyleView",
            "description_width": ""
          }
        },
        "da8175993d014ee68e7e5b98b3b0b23e": {
          "model_module": "@jupyter-widgets/base",
          "model_name": "LayoutModel",
          "model_module_version": "1.2.0",
          "state": {
            "_model_module": "@jupyter-widgets/base",
            "_model_module_version": "1.2.0",
            "_model_name": "LayoutModel",
            "_view_count": null,
            "_view_module": "@jupyter-widgets/base",
            "_view_module_version": "1.2.0",
            "_view_name": "LayoutView",
            "align_content": null,
            "align_items": null,
            "align_self": null,
            "border": null,
            "bottom": null,
            "display": null,
            "flex": null,
            "flex_flow": null,
            "grid_area": null,
            "grid_auto_columns": null,
            "grid_auto_flow": null,
            "grid_auto_rows": null,
            "grid_column": null,
            "grid_gap": null,
            "grid_row": null,
            "grid_template_areas": null,
            "grid_template_columns": null,
            "grid_template_rows": null,
            "height": null,
            "justify_content": null,
            "justify_items": null,
            "left": null,
            "margin": null,
            "max_height": null,
            "max_width": null,
            "min_height": null,
            "min_width": null,
            "object_fit": null,
            "object_position": null,
            "order": null,
            "overflow": null,
            "overflow_x": null,
            "overflow_y": null,
            "padding": null,
            "right": null,
            "top": null,
            "visibility": null,
            "width": "20px"
          }
        },
        "930427ed06a14f9583ba37e1b68d7dbc": {
          "model_module": "@jupyter-widgets/controls",
          "model_name": "ProgressStyleModel",
          "model_module_version": "1.5.0",
          "state": {
            "_model_module": "@jupyter-widgets/controls",
            "_model_module_version": "1.5.0",
            "_model_name": "ProgressStyleModel",
            "_view_count": null,
            "_view_module": "@jupyter-widgets/base",
            "_view_module_version": "1.2.0",
            "_view_name": "StyleView",
            "bar_color": null,
            "description_width": ""
          }
        },
        "e37e270de56c475d9077e8efb730348d": {
          "model_module": "@jupyter-widgets/base",
          "model_name": "LayoutModel",
          "model_module_version": "1.2.0",
          "state": {
            "_model_module": "@jupyter-widgets/base",
            "_model_module_version": "1.2.0",
            "_model_name": "LayoutModel",
            "_view_count": null,
            "_view_module": "@jupyter-widgets/base",
            "_view_module_version": "1.2.0",
            "_view_name": "LayoutView",
            "align_content": null,
            "align_items": null,
            "align_self": null,
            "border": null,
            "bottom": null,
            "display": null,
            "flex": null,
            "flex_flow": null,
            "grid_area": null,
            "grid_auto_columns": null,
            "grid_auto_flow": null,
            "grid_auto_rows": null,
            "grid_column": null,
            "grid_gap": null,
            "grid_row": null,
            "grid_template_areas": null,
            "grid_template_columns": null,
            "grid_template_rows": null,
            "height": null,
            "justify_content": null,
            "justify_items": null,
            "left": null,
            "margin": null,
            "max_height": null,
            "max_width": null,
            "min_height": null,
            "min_width": null,
            "object_fit": null,
            "object_position": null,
            "order": null,
            "overflow": null,
            "overflow_x": null,
            "overflow_y": null,
            "padding": null,
            "right": null,
            "top": null,
            "visibility": null,
            "width": null
          }
        },
        "d4bf5bf30aa647bab4aeae242ccb9a85": {
          "model_module": "@jupyter-widgets/controls",
          "model_name": "DescriptionStyleModel",
          "model_module_version": "1.5.0",
          "state": {
            "_model_module": "@jupyter-widgets/controls",
            "_model_module_version": "1.5.0",
            "_model_name": "DescriptionStyleModel",
            "_view_count": null,
            "_view_module": "@jupyter-widgets/base",
            "_view_module_version": "1.2.0",
            "_view_name": "StyleView",
            "description_width": ""
          }
        },
        "eeccea97a47e439580a8bb56a05f5f5f": {
          "model_module": "@jupyter-widgets/controls",
          "model_name": "HBoxModel",
          "model_module_version": "1.5.0",
          "state": {
            "_dom_classes": [],
            "_model_module": "@jupyter-widgets/controls",
            "_model_module_version": "1.5.0",
            "_model_name": "HBoxModel",
            "_view_count": null,
            "_view_module": "@jupyter-widgets/controls",
            "_view_module_version": "1.5.0",
            "_view_name": "HBoxView",
            "box_style": "",
            "children": [
              "IPY_MODEL_093016c988f04fc6909dbff759e7be1c",
              "IPY_MODEL_6c1ceaa985504375a1d518c10cc147ca",
              "IPY_MODEL_4aae7cc512e54eb7b5232f6e9ba88d58"
            ],
            "layout": "IPY_MODEL_26a240838ca446b79288a24514c4a6f6"
          }
        },
        "093016c988f04fc6909dbff759e7be1c": {
          "model_module": "@jupyter-widgets/controls",
          "model_name": "HTMLModel",
          "model_module_version": "1.5.0",
          "state": {
            "_dom_classes": [],
            "_model_module": "@jupyter-widgets/controls",
            "_model_module_version": "1.5.0",
            "_model_name": "HTMLModel",
            "_view_count": null,
            "_view_module": "@jupyter-widgets/controls",
            "_view_module_version": "1.5.0",
            "_view_name": "HTMLView",
            "description": "",
            "description_tooltip": null,
            "layout": "IPY_MODEL_47fb6704866049d2bee1a119edffee02",
            "placeholder": "​",
            "style": "IPY_MODEL_2746442a007e4e10a4fbbf718c3c20be",
            "value": "Resolving data files: 100%"
          }
        },
        "6c1ceaa985504375a1d518c10cc147ca": {
          "model_module": "@jupyter-widgets/controls",
          "model_name": "FloatProgressModel",
          "model_module_version": "1.5.0",
          "state": {
            "_dom_classes": [],
            "_model_module": "@jupyter-widgets/controls",
            "_model_module_version": "1.5.0",
            "_model_name": "FloatProgressModel",
            "_view_count": null,
            "_view_module": "@jupyter-widgets/controls",
            "_view_module_version": "1.5.0",
            "_view_name": "ProgressView",
            "bar_style": "success",
            "description": "",
            "description_tooltip": null,
            "layout": "IPY_MODEL_68a1cdef076d4ce09647391af5c53973",
            "max": 45432,
            "min": 0,
            "orientation": "horizontal",
            "style": "IPY_MODEL_c20f2c23ee004f90ae1b45c87ea7f3b8",
            "value": 45432
          }
        },
        "4aae7cc512e54eb7b5232f6e9ba88d58": {
          "model_module": "@jupyter-widgets/controls",
          "model_name": "HTMLModel",
          "model_module_version": "1.5.0",
          "state": {
            "_dom_classes": [],
            "_model_module": "@jupyter-widgets/controls",
            "_model_module_version": "1.5.0",
            "_model_name": "HTMLModel",
            "_view_count": null,
            "_view_module": "@jupyter-widgets/controls",
            "_view_module_version": "1.5.0",
            "_view_name": "HTMLView",
            "description": "",
            "description_tooltip": null,
            "layout": "IPY_MODEL_787beed611004d1cb7f72e5725eb0d17",
            "placeholder": "​",
            "style": "IPY_MODEL_163679b3259a47b5852c1970c122d826",
            "value": " 45432/45432 [00:00&lt;00:00, 125246.45it/s]"
          }
        },
        "26a240838ca446b79288a24514c4a6f6": {
          "model_module": "@jupyter-widgets/base",
          "model_name": "LayoutModel",
          "model_module_version": "1.2.0",
          "state": {
            "_model_module": "@jupyter-widgets/base",
            "_model_module_version": "1.2.0",
            "_model_name": "LayoutModel",
            "_view_count": null,
            "_view_module": "@jupyter-widgets/base",
            "_view_module_version": "1.2.0",
            "_view_name": "LayoutView",
            "align_content": null,
            "align_items": null,
            "align_self": null,
            "border": null,
            "bottom": null,
            "display": null,
            "flex": null,
            "flex_flow": null,
            "grid_area": null,
            "grid_auto_columns": null,
            "grid_auto_flow": null,
            "grid_auto_rows": null,
            "grid_column": null,
            "grid_gap": null,
            "grid_row": null,
            "grid_template_areas": null,
            "grid_template_columns": null,
            "grid_template_rows": null,
            "height": null,
            "justify_content": null,
            "justify_items": null,
            "left": null,
            "margin": null,
            "max_height": null,
            "max_width": null,
            "min_height": null,
            "min_width": null,
            "object_fit": null,
            "object_position": null,
            "order": null,
            "overflow": null,
            "overflow_x": null,
            "overflow_y": null,
            "padding": null,
            "right": null,
            "top": null,
            "visibility": null,
            "width": null
          }
        },
        "47fb6704866049d2bee1a119edffee02": {
          "model_module": "@jupyter-widgets/base",
          "model_name": "LayoutModel",
          "model_module_version": "1.2.0",
          "state": {
            "_model_module": "@jupyter-widgets/base",
            "_model_module_version": "1.2.0",
            "_model_name": "LayoutModel",
            "_view_count": null,
            "_view_module": "@jupyter-widgets/base",
            "_view_module_version": "1.2.0",
            "_view_name": "LayoutView",
            "align_content": null,
            "align_items": null,
            "align_self": null,
            "border": null,
            "bottom": null,
            "display": null,
            "flex": null,
            "flex_flow": null,
            "grid_area": null,
            "grid_auto_columns": null,
            "grid_auto_flow": null,
            "grid_auto_rows": null,
            "grid_column": null,
            "grid_gap": null,
            "grid_row": null,
            "grid_template_areas": null,
            "grid_template_columns": null,
            "grid_template_rows": null,
            "height": null,
            "justify_content": null,
            "justify_items": null,
            "left": null,
            "margin": null,
            "max_height": null,
            "max_width": null,
            "min_height": null,
            "min_width": null,
            "object_fit": null,
            "object_position": null,
            "order": null,
            "overflow": null,
            "overflow_x": null,
            "overflow_y": null,
            "padding": null,
            "right": null,
            "top": null,
            "visibility": null,
            "width": null
          }
        },
        "2746442a007e4e10a4fbbf718c3c20be": {
          "model_module": "@jupyter-widgets/controls",
          "model_name": "DescriptionStyleModel",
          "model_module_version": "1.5.0",
          "state": {
            "_model_module": "@jupyter-widgets/controls",
            "_model_module_version": "1.5.0",
            "_model_name": "DescriptionStyleModel",
            "_view_count": null,
            "_view_module": "@jupyter-widgets/base",
            "_view_module_version": "1.2.0",
            "_view_name": "StyleView",
            "description_width": ""
          }
        },
        "68a1cdef076d4ce09647391af5c53973": {
          "model_module": "@jupyter-widgets/base",
          "model_name": "LayoutModel",
          "model_module_version": "1.2.0",
          "state": {
            "_model_module": "@jupyter-widgets/base",
            "_model_module_version": "1.2.0",
            "_model_name": "LayoutModel",
            "_view_count": null,
            "_view_module": "@jupyter-widgets/base",
            "_view_module_version": "1.2.0",
            "_view_name": "LayoutView",
            "align_content": null,
            "align_items": null,
            "align_self": null,
            "border": null,
            "bottom": null,
            "display": null,
            "flex": null,
            "flex_flow": null,
            "grid_area": null,
            "grid_auto_columns": null,
            "grid_auto_flow": null,
            "grid_auto_rows": null,
            "grid_column": null,
            "grid_gap": null,
            "grid_row": null,
            "grid_template_areas": null,
            "grid_template_columns": null,
            "grid_template_rows": null,
            "height": null,
            "justify_content": null,
            "justify_items": null,
            "left": null,
            "margin": null,
            "max_height": null,
            "max_width": null,
            "min_height": null,
            "min_width": null,
            "object_fit": null,
            "object_position": null,
            "order": null,
            "overflow": null,
            "overflow_x": null,
            "overflow_y": null,
            "padding": null,
            "right": null,
            "top": null,
            "visibility": null,
            "width": null
          }
        },
        "c20f2c23ee004f90ae1b45c87ea7f3b8": {
          "model_module": "@jupyter-widgets/controls",
          "model_name": "ProgressStyleModel",
          "model_module_version": "1.5.0",
          "state": {
            "_model_module": "@jupyter-widgets/controls",
            "_model_module_version": "1.5.0",
            "_model_name": "ProgressStyleModel",
            "_view_count": null,
            "_view_module": "@jupyter-widgets/base",
            "_view_module_version": "1.2.0",
            "_view_name": "StyleView",
            "bar_color": null,
            "description_width": ""
          }
        },
        "787beed611004d1cb7f72e5725eb0d17": {
          "model_module": "@jupyter-widgets/base",
          "model_name": "LayoutModel",
          "model_module_version": "1.2.0",
          "state": {
            "_model_module": "@jupyter-widgets/base",
            "_model_module_version": "1.2.0",
            "_model_name": "LayoutModel",
            "_view_count": null,
            "_view_module": "@jupyter-widgets/base",
            "_view_module_version": "1.2.0",
            "_view_name": "LayoutView",
            "align_content": null,
            "align_items": null,
            "align_self": null,
            "border": null,
            "bottom": null,
            "display": null,
            "flex": null,
            "flex_flow": null,
            "grid_area": null,
            "grid_auto_columns": null,
            "grid_auto_flow": null,
            "grid_auto_rows": null,
            "grid_column": null,
            "grid_gap": null,
            "grid_row": null,
            "grid_template_areas": null,
            "grid_template_columns": null,
            "grid_template_rows": null,
            "height": null,
            "justify_content": null,
            "justify_items": null,
            "left": null,
            "margin": null,
            "max_height": null,
            "max_width": null,
            "min_height": null,
            "min_width": null,
            "object_fit": null,
            "object_position": null,
            "order": null,
            "overflow": null,
            "overflow_x": null,
            "overflow_y": null,
            "padding": null,
            "right": null,
            "top": null,
            "visibility": null,
            "width": null
          }
        },
        "163679b3259a47b5852c1970c122d826": {
          "model_module": "@jupyter-widgets/controls",
          "model_name": "DescriptionStyleModel",
          "model_module_version": "1.5.0",
          "state": {
            "_model_module": "@jupyter-widgets/controls",
            "_model_module_version": "1.5.0",
            "_model_name": "DescriptionStyleModel",
            "_view_count": null,
            "_view_module": "@jupyter-widgets/base",
            "_view_module_version": "1.2.0",
            "_view_name": "StyleView",
            "description_width": ""
          }
        }
      }
    }
  },
  "nbformat": 4,
  "nbformat_minor": 0
}