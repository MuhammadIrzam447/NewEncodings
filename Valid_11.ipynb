{
  "cells": [
    {
      "cell_type": "markdown",
      "metadata": {
        "id": "view-in-github",
        "colab_type": "text"
      },
      "source": [
        "<a href=\"https://colab.research.google.com/github/MuhammadIrzam447/NewEncodings/blob/main/Valid_11.ipynb\" target=\"_parent\"><img src=\"https://colab.research.google.com/assets/colab-badge.svg\" alt=\"Open In Colab\"/></a>"
      ]
    },
    {
      "cell_type": "markdown",
      "source": [
        "# Load Model\n"
      ],
      "metadata": {
        "id": "L47YXGj6RfJU"
      }
    },
    {
      "cell_type": "code",
      "source": [
        "# !pip install transformers evaluate datasets\n",
        "import requests\n",
        "import torch\n",
        "from PIL import Image\n",
        "from transformers import ViTForImageClassification, ViTImageProcessor\n",
        "from tqdm import tqdm"
      ],
      "metadata": {
        "id": "HTftvdBXRhTJ"
      },
      "execution_count": 1,
      "outputs": []
    },
    {
      "cell_type": "code",
      "source": [
        "device = \"cuda\" if torch.cuda.is_available() else \"cpu\"\n",
        "print(device)"
      ],
      "metadata": {
        "id": "dPOyq7dZbgNA",
        "colab": {
          "base_uri": "https://localhost:8080/"
        },
        "outputId": "d2326f54-52c9-467d-fc43-d57931f3e127"
      },
      "execution_count": 2,
      "outputs": [
        {
          "output_type": "stream",
          "name": "stdout",
          "text": [
            "cuda\n"
          ]
        }
      ]
    },
    {
      "cell_type": "code",
      "source": [
        "model = ViTForImageClassification.from_pretrained(f\"/content/MMLearning/data/Models/Model-02/checkpoint-54000\").to(device)\n",
        "image_processor = ViTImageProcessor.from_pretrained(f\"/content/MMLearning/data/Models/Model-02/checkpoint-54000\")"
      ],
      "metadata": {
        "id": "S-XQj67uRnpo"
      },
      "execution_count": 3,
      "outputs": []
    },
    {
      "cell_type": "code",
      "source": [
        "# image_processor = ViTImageProcessor.from_pretrained(\"google/vit-base-patch16-224\")"
      ],
      "metadata": {
        "id": "hhvLCDqSCJZU"
      },
      "execution_count": 4,
      "outputs": []
    },
    {
      "cell_type": "code",
      "source": [
        "model.config"
      ],
      "metadata": {
        "colab": {
          "base_uri": "https://localhost:8080/"
        },
        "id": "cq37h3jKeDLl",
        "outputId": "fb8a1270-b18c-4f3f-d409-7fb7f34b485c"
      },
      "execution_count": 5,
      "outputs": [
        {
          "output_type": "execute_result",
          "data": {
            "text/plain": [
              "ViTConfig {\n",
              "  \"_name_or_path\": \"/content/MMLearning/data/Models/Model-02/checkpoint-54000\",\n",
              "  \"architectures\": [\n",
              "    \"ViTForImageClassification\"\n",
              "  ],\n",
              "  \"attention_probs_dropout_prob\": 0.0,\n",
              "  \"encoder_stride\": 16,\n",
              "  \"hidden_act\": \"gelu\",\n",
              "  \"hidden_dropout_prob\": 0.0,\n",
              "  \"hidden_size\": 768,\n",
              "  \"id2label\": {\n",
              "    \"0\": \"apple_pie\",\n",
              "    \"1\": \"baby_back_ribs\",\n",
              "    \"2\": \"baklava\",\n",
              "    \"3\": \"beef_carpaccio\",\n",
              "    \"4\": \"beef_tartare\",\n",
              "    \"5\": \"beet_salad\",\n",
              "    \"6\": \"beignets\",\n",
              "    \"7\": \"bibimbap\",\n",
              "    \"8\": \"bread_pudding\",\n",
              "    \"9\": \"breakfast_burrito\",\n",
              "    \"10\": \"bruschetta\",\n",
              "    \"11\": \"caesar_salad\",\n",
              "    \"12\": \"cannoli\",\n",
              "    \"13\": \"caprese_salad\",\n",
              "    \"14\": \"carrot_cake\",\n",
              "    \"15\": \"ceviche\",\n",
              "    \"16\": \"cheese_plate\",\n",
              "    \"17\": \"cheesecake\",\n",
              "    \"18\": \"chicken_curry\",\n",
              "    \"19\": \"chicken_quesadilla\",\n",
              "    \"20\": \"chicken_wings\",\n",
              "    \"21\": \"chocolate_cake\",\n",
              "    \"22\": \"chocolate_mousse\",\n",
              "    \"23\": \"churros\",\n",
              "    \"24\": \"clam_chowder\",\n",
              "    \"25\": \"club_sandwich\",\n",
              "    \"26\": \"crab_cakes\",\n",
              "    \"27\": \"creme_brulee\",\n",
              "    \"28\": \"croque_madame\",\n",
              "    \"29\": \"cup_cakes\",\n",
              "    \"30\": \"deviled_eggs\",\n",
              "    \"31\": \"donuts\",\n",
              "    \"32\": \"dumplings\",\n",
              "    \"33\": \"edamame\",\n",
              "    \"34\": \"eggs_benedict\",\n",
              "    \"35\": \"escargots\",\n",
              "    \"36\": \"falafel\",\n",
              "    \"37\": \"filet_mignon\",\n",
              "    \"38\": \"fish_and_chips\",\n",
              "    \"39\": \"foie_gras\",\n",
              "    \"40\": \"french_fries\",\n",
              "    \"41\": \"french_onion_soup\",\n",
              "    \"42\": \"french_toast\",\n",
              "    \"43\": \"fried_calamari\",\n",
              "    \"44\": \"fried_rice\",\n",
              "    \"45\": \"frozen_yogurt\",\n",
              "    \"46\": \"garlic_bread\",\n",
              "    \"47\": \"gnocchi\",\n",
              "    \"48\": \"greek_salad\",\n",
              "    \"49\": \"grilled_cheese_sandwich\",\n",
              "    \"50\": \"grilled_salmon\",\n",
              "    \"51\": \"guacamole\",\n",
              "    \"52\": \"gyoza\",\n",
              "    \"53\": \"hamburger\",\n",
              "    \"54\": \"hot_and_sour_soup\",\n",
              "    \"55\": \"hot_dog\",\n",
              "    \"56\": \"huevos_rancheros\",\n",
              "    \"57\": \"hummus\",\n",
              "    \"58\": \"ice_cream\",\n",
              "    \"59\": \"lasagna\",\n",
              "    \"60\": \"lobster_bisque\",\n",
              "    \"61\": \"lobster_roll_sandwich\",\n",
              "    \"62\": \"macaroni_and_cheese\",\n",
              "    \"63\": \"macarons\",\n",
              "    \"64\": \"miso_soup\",\n",
              "    \"65\": \"mussels\",\n",
              "    \"66\": \"nachos\",\n",
              "    \"67\": \"omelette\",\n",
              "    \"68\": \"onion_rings\",\n",
              "    \"69\": \"oysters\",\n",
              "    \"70\": \"pad_thai\",\n",
              "    \"71\": \"paella\",\n",
              "    \"72\": \"pancakes\",\n",
              "    \"73\": \"panna_cotta\",\n",
              "    \"74\": \"peking_duck\",\n",
              "    \"75\": \"pho\",\n",
              "    \"76\": \"pizza\",\n",
              "    \"77\": \"pork_chop\",\n",
              "    \"78\": \"poutine\",\n",
              "    \"79\": \"prime_rib\",\n",
              "    \"80\": \"pulled_pork_sandwich\",\n",
              "    \"81\": \"ramen\",\n",
              "    \"82\": \"ravioli\",\n",
              "    \"83\": \"red_velvet_cake\",\n",
              "    \"84\": \"risotto\",\n",
              "    \"85\": \"samosa\",\n",
              "    \"86\": \"sashimi\",\n",
              "    \"87\": \"scallops\",\n",
              "    \"88\": \"seaweed_salad\",\n",
              "    \"89\": \"shrimp_and_grits\",\n",
              "    \"90\": \"spaghetti_bolognese\",\n",
              "    \"91\": \"spaghetti_carbonara\",\n",
              "    \"92\": \"spring_rolls\",\n",
              "    \"93\": \"steak\",\n",
              "    \"94\": \"strawberry_shortcake\",\n",
              "    \"95\": \"sushi\",\n",
              "    \"96\": \"tacos\",\n",
              "    \"97\": \"takoyaki\",\n",
              "    \"98\": \"tiramisu\",\n",
              "    \"99\": \"tuna_tartare\",\n",
              "    \"100\": \"waffles\"\n",
              "  },\n",
              "  \"image_size\": 224,\n",
              "  \"initializer_range\": 0.02,\n",
              "  \"intermediate_size\": 3072,\n",
              "  \"label2id\": {\n",
              "    \"apple_pie\": \"0\",\n",
              "    \"baby_back_ribs\": \"1\",\n",
              "    \"baklava\": \"2\",\n",
              "    \"beef_carpaccio\": \"3\",\n",
              "    \"beef_tartare\": \"4\",\n",
              "    \"beet_salad\": \"5\",\n",
              "    \"beignets\": \"6\",\n",
              "    \"bibimbap\": \"7\",\n",
              "    \"bread_pudding\": \"8\",\n",
              "    \"breakfast_burrito\": \"9\",\n",
              "    \"bruschetta\": \"10\",\n",
              "    \"caesar_salad\": \"11\",\n",
              "    \"cannoli\": \"12\",\n",
              "    \"caprese_salad\": \"13\",\n",
              "    \"carrot_cake\": \"14\",\n",
              "    \"ceviche\": \"15\",\n",
              "    \"cheese_plate\": \"16\",\n",
              "    \"cheesecake\": \"17\",\n",
              "    \"chicken_curry\": \"18\",\n",
              "    \"chicken_quesadilla\": \"19\",\n",
              "    \"chicken_wings\": \"20\",\n",
              "    \"chocolate_cake\": \"21\",\n",
              "    \"chocolate_mousse\": \"22\",\n",
              "    \"churros\": \"23\",\n",
              "    \"clam_chowder\": \"24\",\n",
              "    \"club_sandwich\": \"25\",\n",
              "    \"crab_cakes\": \"26\",\n",
              "    \"creme_brulee\": \"27\",\n",
              "    \"croque_madame\": \"28\",\n",
              "    \"cup_cakes\": \"29\",\n",
              "    \"deviled_eggs\": \"30\",\n",
              "    \"donuts\": \"31\",\n",
              "    \"dumplings\": \"32\",\n",
              "    \"edamame\": \"33\",\n",
              "    \"eggs_benedict\": \"34\",\n",
              "    \"escargots\": \"35\",\n",
              "    \"falafel\": \"36\",\n",
              "    \"filet_mignon\": \"37\",\n",
              "    \"fish_and_chips\": \"38\",\n",
              "    \"foie_gras\": \"39\",\n",
              "    \"french_fries\": \"40\",\n",
              "    \"french_onion_soup\": \"41\",\n",
              "    \"french_toast\": \"42\",\n",
              "    \"fried_calamari\": \"43\",\n",
              "    \"fried_rice\": \"44\",\n",
              "    \"frozen_yogurt\": \"45\",\n",
              "    \"garlic_bread\": \"46\",\n",
              "    \"gnocchi\": \"47\",\n",
              "    \"greek_salad\": \"48\",\n",
              "    \"grilled_cheese_sandwich\": \"49\",\n",
              "    \"grilled_salmon\": \"50\",\n",
              "    \"guacamole\": \"51\",\n",
              "    \"gyoza\": \"52\",\n",
              "    \"hamburger\": \"53\",\n",
              "    \"hot_and_sour_soup\": \"54\",\n",
              "    \"hot_dog\": \"55\",\n",
              "    \"huevos_rancheros\": \"56\",\n",
              "    \"hummus\": \"57\",\n",
              "    \"ice_cream\": \"58\",\n",
              "    \"lasagna\": \"59\",\n",
              "    \"lobster_bisque\": \"60\",\n",
              "    \"lobster_roll_sandwich\": \"61\",\n",
              "    \"macaroni_and_cheese\": \"62\",\n",
              "    \"macarons\": \"63\",\n",
              "    \"miso_soup\": \"64\",\n",
              "    \"mussels\": \"65\",\n",
              "    \"nachos\": \"66\",\n",
              "    \"omelette\": \"67\",\n",
              "    \"onion_rings\": \"68\",\n",
              "    \"oysters\": \"69\",\n",
              "    \"pad_thai\": \"70\",\n",
              "    \"paella\": \"71\",\n",
              "    \"pancakes\": \"72\",\n",
              "    \"panna_cotta\": \"73\",\n",
              "    \"peking_duck\": \"74\",\n",
              "    \"pho\": \"75\",\n",
              "    \"pizza\": \"76\",\n",
              "    \"pork_chop\": \"77\",\n",
              "    \"poutine\": \"78\",\n",
              "    \"prime_rib\": \"79\",\n",
              "    \"pulled_pork_sandwich\": \"80\",\n",
              "    \"ramen\": \"81\",\n",
              "    \"ravioli\": \"82\",\n",
              "    \"red_velvet_cake\": \"83\",\n",
              "    \"risotto\": \"84\",\n",
              "    \"samosa\": \"85\",\n",
              "    \"sashimi\": \"86\",\n",
              "    \"scallops\": \"87\",\n",
              "    \"seaweed_salad\": \"88\",\n",
              "    \"shrimp_and_grits\": \"89\",\n",
              "    \"spaghetti_bolognese\": \"90\",\n",
              "    \"spaghetti_carbonara\": \"91\",\n",
              "    \"spring_rolls\": \"92\",\n",
              "    \"steak\": \"93\",\n",
              "    \"strawberry_shortcake\": \"94\",\n",
              "    \"sushi\": \"95\",\n",
              "    \"tacos\": \"96\",\n",
              "    \"takoyaki\": \"97\",\n",
              "    \"tiramisu\": \"98\",\n",
              "    \"tuna_tartare\": \"99\",\n",
              "    \"waffles\": \"100\"\n",
              "  },\n",
              "  \"layer_norm_eps\": 1e-12,\n",
              "  \"model_type\": \"vit\",\n",
              "  \"num_attention_heads\": 12,\n",
              "  \"num_channels\": 3,\n",
              "  \"num_hidden_layers\": 12,\n",
              "  \"patch_size\": 16,\n",
              "  \"problem_type\": \"single_label_classification\",\n",
              "  \"qkv_bias\": true,\n",
              "  \"torch_dtype\": \"float32\",\n",
              "  \"transformers_version\": \"4.32.1\"\n",
              "}"
            ]
          },
          "metadata": {},
          "execution_count": 5
        }
      ]
    },
    {
      "cell_type": "markdown",
      "source": [
        "# Standard Experiment"
      ],
      "metadata": {
        "id": "YDcxpk7uWLbk"
      }
    },
    {
      "cell_type": "code",
      "source": [
        "from datasets import load_dataset\n",
        "\n",
        "ds = load_dataset(\"imagefolder\", data_dir=\"/content/Dataset(s)/joint-food-101/test\", split=\"train\")"
      ],
      "metadata": {
        "id": "l0qEQ73bRr2q"
      },
      "execution_count": null,
      "outputs": []
    },
    {
      "cell_type": "code",
      "source": [
        "ds"
      ],
      "metadata": {
        "id": "DhVQICV0Y3OT"
      },
      "execution_count": null,
      "outputs": []
    },
    {
      "cell_type": "markdown",
      "source": [
        "# 100% Missing Modality Experiment"
      ],
      "metadata": {
        "id": "tNSGzVxwT8id"
      }
    },
    {
      "cell_type": "code",
      "source": [
        "from datasets import load_dataset\n",
        "\n",
        "ds = load_dataset(\"imagefolder\", data_dir=\"/content/MMLearning/data/food-101/flip/multimodal_img_et_flip/test\", split=\"train\")"
      ],
      "metadata": {
        "id": "9t3tUjEOobHx"
      },
      "execution_count": null,
      "outputs": []
    },
    {
      "cell_type": "code",
      "source": [
        "ds"
      ],
      "metadata": {
        "id": "2a8txJ5noazk"
      },
      "execution_count": null,
      "outputs": []
    },
    {
      "cell_type": "code",
      "source": [
        "# Use _3.png for Filtering out Encoded Images\n",
        "# Use _4.png for Filtering out Just Images\n",
        "\n",
        "import os\n",
        "def filter_funtion(example):\n",
        "    img = example[\"image\"]\n",
        "    filename = os.path.basename(img.filename)\n",
        "\n",
        "    return filename.endswith(\"_4.jpg\")"
      ],
      "metadata": {
        "id": "tmA7PAcIRsLs"
      },
      "execution_count": null,
      "outputs": []
    },
    {
      "cell_type": "code",
      "source": [
        "ds = ds.filter(filter_funtion)"
      ],
      "metadata": {
        "id": "Cg2lXK6iRshv"
      },
      "execution_count": null,
      "outputs": []
    },
    {
      "cell_type": "code",
      "source": [
        "ds"
      ],
      "metadata": {
        "id": "54yCsBF3dY-1"
      },
      "execution_count": null,
      "outputs": []
    },
    {
      "cell_type": "code",
      "source": [
        "for i in range(0,10):\n",
        "    sample = ds[i]\n",
        "    img = sample[\"image\"]\n",
        "    filename = os.path.basename(img.filename)\n",
        "    print(f\"File Name: {filename}\")"
      ],
      "metadata": {
        "id": "TZkE_GLwbpPP"
      },
      "execution_count": null,
      "outputs": []
    },
    {
      "cell_type": "markdown",
      "source": [
        "# Partial Missing Modality Experiment"
      ],
      "metadata": {
        "id": "T4MxEdN6Z3-w"
      }
    },
    {
      "cell_type": "code",
      "source": [
        "from datasets import load_dataset\n",
        "from datasets import concatenate_datasets"
      ],
      "metadata": {
        "id": "MZqABTvOSOge"
      },
      "execution_count": 6,
      "outputs": []
    },
    {
      "cell_type": "code",
      "source": [
        "# Load the Fused Dataset\n",
        "ds_f = load_dataset(\"imagefolder\", data_dir=\"/content/MMLearning/data/food-101/multimodal/test\", split=\"train\")"
      ],
      "metadata": {
        "id": "JCHbZm-9Z4g-",
        "colab": {
          "base_uri": "https://localhost:8080/",
          "height": 0,
          "referenced_widgets": [
            "161b89f948b24268b71da72ff3af99ad",
            "fc8e79b5ceda45fab9e3fc7de4125b0f",
            "1cccff439d1541c5a28bc9f7456bcf50",
            "880dbb3cb239483cac397c729685fa0c",
            "b3e21276adf14617976c47bcb36f9f68",
            "7353ce97d57242e7b3b3e4017d5374d1",
            "5d9633ab3682434aa5afd779240d34ba",
            "6a92e391e23b445c9b0644624b226024",
            "62ada612375b4e81828d13a5596088c3",
            "ad7f21c72d8142dca11a58f95a39d9a8",
            "698721290b46456eb4a2083bce051620"
          ]
        },
        "outputId": "2bcd6efd-c376-4c27-db8f-42a24293a885"
      },
      "execution_count": 7,
      "outputs": [
        {
          "output_type": "display_data",
          "data": {
            "text/plain": [
              "Resolving data files:   0%|          | 0/22716 [00:00<?, ?it/s]"
            ],
            "application/vnd.jupyter.widget-view+json": {
              "version_major": 2,
              "version_minor": 0,
              "model_id": "161b89f948b24268b71da72ff3af99ad"
            }
          },
          "metadata": {}
        }
      ]
    },
    {
      "cell_type": "code",
      "source": [
        "ds_f"
      ],
      "metadata": {
        "id": "NIGDiWC5bdlG",
        "colab": {
          "base_uri": "https://localhost:8080/"
        },
        "outputId": "1360913f-0c4d-432c-f497-fd4e516084dc"
      },
      "execution_count": 8,
      "outputs": [
        {
          "output_type": "execute_result",
          "data": {
            "text/plain": [
              "Dataset({\n",
              "    features: ['image', 'label'],\n",
              "    num_rows: 22716\n",
              "})"
            ]
          },
          "metadata": {},
          "execution_count": 8
        }
      ]
    },
    {
      "cell_type": "code",
      "source": [
        "# Desired Percentage = Total - Missing\n",
        "import math\n",
        "desired_percentage = 0.1"
      ],
      "metadata": {
        "id": "NHvNJixxiWbG"
      },
      "execution_count": 9,
      "outputs": []
    },
    {
      "cell_type": "code",
      "source": [
        "from collections import Counter\n",
        "\n",
        "class_counts = Counter(ds_f['label'])\n",
        "print(class_counts)"
      ],
      "metadata": {
        "id": "baC1KaBJedyb",
        "colab": {
          "base_uri": "https://localhost:8080/"
        },
        "outputId": "a77bdfb1-111e-4b1c-e7d2-936ed6b3ca37"
      },
      "execution_count": 10,
      "outputs": [
        {
          "output_type": "stream",
          "name": "stdout",
          "text": [
            "Counter({42: 238, 62: 238, 95: 237, 82: 236, 84: 236, 76: 235, 100: 235, 0: 234, 47: 234, 55: 234, 57: 234, 65: 234, 72: 234, 17: 233, 45: 233, 53: 233, 59: 233, 96: 233, 21: 232, 31: 232, 52: 232, 58: 232, 81: 232, 98: 232, 10: 231, 14: 231, 33: 231, 63: 231, 67: 231, 12: 230, 23: 230, 70: 230, 92: 230, 30: 229, 44: 229, 49: 229, 93: 229, 29: 228, 32: 228, 36: 228, 51: 228, 71: 228, 87: 228, 89: 228, 11: 227, 15: 227, 64: 227, 77: 227, 83: 227, 2: 226, 8: 226, 86: 226, 4: 225, 7: 225, 27: 225, 50: 225, 73: 225, 5: 224, 6: 224, 16: 224, 22: 224, 24: 224, 28: 224, 46: 224, 66: 224, 80: 224, 41: 223, 48: 223, 56: 223, 69: 223, 94: 223, 97: 223, 3: 222, 18: 222, 1: 221, 26: 221, 13: 220, 19: 220, 25: 220, 79: 220, 20: 219, 88: 219, 75: 218, 91: 218, 68: 217, 39: 216, 61: 215, 85: 215, 9: 214, 34: 213, 90: 213, 37: 212, 40: 212, 43: 212, 74: 211, 99: 211, 78: 210, 38: 208, 54: 203, 35: 202, 60: 197})\n"
          ]
        }
      ]
    },
    {
      "cell_type": "code",
      "source": [
        "selected_indices = {label: [] for label in class_counts.keys()}\n",
        "print(selected_indices)"
      ],
      "metadata": {
        "id": "xaOkLcbQhoMu",
        "colab": {
          "base_uri": "https://localhost:8080/"
        },
        "outputId": "f8eef6fc-59a7-46a8-caeb-65a3a7a6a05f"
      },
      "execution_count": 11,
      "outputs": [
        {
          "output_type": "stream",
          "name": "stdout",
          "text": [
            "{0: [], 1: [], 2: [], 3: [], 4: [], 5: [], 6: [], 7: [], 8: [], 9: [], 10: [], 11: [], 12: [], 13: [], 14: [], 15: [], 16: [], 17: [], 18: [], 19: [], 20: [], 21: [], 22: [], 23: [], 24: [], 25: [], 26: [], 27: [], 28: [], 29: [], 30: [], 31: [], 32: [], 33: [], 34: [], 35: [], 36: [], 37: [], 38: [], 39: [], 40: [], 41: [], 42: [], 43: [], 44: [], 45: [], 46: [], 47: [], 48: [], 49: [], 50: [], 51: [], 52: [], 53: [], 54: [], 55: [], 56: [], 57: [], 58: [], 59: [], 60: [], 61: [], 62: [], 63: [], 64: [], 65: [], 66: [], 67: [], 68: [], 69: [], 70: [], 71: [], 72: [], 73: [], 74: [], 75: [], 76: [], 77: [], 78: [], 79: [], 80: [], 81: [], 82: [], 83: [], 84: [], 85: [], 86: [], 87: [], 88: [], 89: [], 90: [], 91: [], 92: [], 93: [], 94: [], 95: [], 96: [], 97: [], 98: [], 99: [], 100: []}\n"
          ]
        }
      ]
    },
    {
      "cell_type": "code",
      "source": [
        "# Iterate through the dataset to select indices for each class\n",
        "for i, label in enumerate(ds_f[\"label\"]):\n",
        "    if len(selected_indices[label]) < math.ceil(class_counts[label] * desired_percentage):\n",
        "        selected_indices[label].append(i)"
      ],
      "metadata": {
        "id": "WrsfQ_XIiAdj"
      },
      "execution_count": 12,
      "outputs": []
    },
    {
      "cell_type": "code",
      "source": [
        "# selected_indices"
      ],
      "metadata": {
        "id": "GYovdX5niN8W"
      },
      "execution_count": 13,
      "outputs": []
    },
    {
      "cell_type": "code",
      "source": [
        "# Flatten the selected indices list\n",
        "selected_indices = [idx for indices in selected_indices.values() for idx in indices]"
      ],
      "metadata": {
        "id": "CRZN72hmiAwd"
      },
      "execution_count": 14,
      "outputs": []
    },
    {
      "cell_type": "code",
      "source": [
        "# selected_indices"
      ],
      "metadata": {
        "id": "gTieKxZtijB4"
      },
      "execution_count": 15,
      "outputs": []
    },
    {
      "cell_type": "code",
      "source": [
        "# Filter the dataset to select the desired samples\n",
        "fused_ds = ds_f.select(selected_indices)"
      ],
      "metadata": {
        "id": "thqg4To-ijJj"
      },
      "execution_count": 16,
      "outputs": []
    },
    {
      "cell_type": "code",
      "source": [
        "fused_ds"
      ],
      "metadata": {
        "id": "Xn7s-OsOikD7",
        "colab": {
          "base_uri": "https://localhost:8080/"
        },
        "outputId": "222868d2-78b1-4f99-f16f-1398d8a166c4"
      },
      "execution_count": 17,
      "outputs": [
        {
          "output_type": "execute_result",
          "data": {
            "text/plain": [
              "Dataset({\n",
              "    features: ['image', 'label'],\n",
              "    num_rows: 2321\n",
              "})"
            ]
          },
          "metadata": {},
          "execution_count": 17
        }
      ]
    },
    {
      "cell_type": "code",
      "source": [],
      "metadata": {
        "id": "i6xM19xBQxDU"
      },
      "execution_count": 17,
      "outputs": []
    },
    {
      "cell_type": "code",
      "source": [
        "# Load the Joint Dataset and Filter out Just the Images\n",
        "ds_joint = load_dataset(\"imagefolder\", data_dir=\"/content/MMLearning/data/food-101/flip/multimodal_img_et_flip/test\", split=\"train\")"
      ],
      "metadata": {
        "id": "sT6AjXHbZ_yQ",
        "colab": {
          "base_uri": "https://localhost:8080/",
          "height": 0,
          "referenced_widgets": [
            "dcad1a0bf0454128b583ad89cd8fab9f",
            "ff8492210d4c4a3a98960abacb2924a2",
            "6b6b984ffbeb4e878253851939c930d3",
            "50c3d96f8b1748d8a9e99c862a24ecc8",
            "6e76586e8fea4845977bad3e20cd8771",
            "0b3aea2b1fd24e9d9797bb0ea630f781",
            "c29873f19f154f7e8049234d9a688858",
            "319ce8303be84750850807f289c4bb9b",
            "cc2db83d8e1c4425b61db8110b5f3ab5",
            "8b5417beea9e4549b03b88e04144ff80",
            "5a4403574a414c679ba863d2c9372972"
          ]
        },
        "outputId": "0a76e834-2807-4107-80d1-c5c606cb7c6e"
      },
      "execution_count": 18,
      "outputs": [
        {
          "output_type": "display_data",
          "data": {
            "text/plain": [
              "Resolving data files:   0%|          | 0/45432 [00:00<?, ?it/s]"
            ],
            "application/vnd.jupyter.widget-view+json": {
              "version_major": 2,
              "version_minor": 0,
              "model_id": "dcad1a0bf0454128b583ad89cd8fab9f"
            }
          },
          "metadata": {}
        }
      ]
    },
    {
      "cell_type": "code",
      "source": [
        "# Use _4.png for Filtering out Just Images\n",
        "\n",
        "import os\n",
        "def filter_funtion(example):\n",
        "    img = example[\"image\"]\n",
        "    filename = os.path.basename(img.filename)\n",
        "\n",
        "    return filename.endswith(\"_3.jpg\")"
      ],
      "metadata": {
        "id": "mHZVYTkLXR0S"
      },
      "execution_count": 19,
      "outputs": []
    },
    {
      "cell_type": "code",
      "source": [
        "ds_imgs = ds_joint.filter(filter_funtion)"
      ],
      "metadata": {
        "id": "VUKkW-RpXXAA"
      },
      "execution_count": 20,
      "outputs": []
    },
    {
      "cell_type": "code",
      "source": [
        "ds_imgs"
      ],
      "metadata": {
        "id": "O2Z_OK3Abf5Z",
        "colab": {
          "base_uri": "https://localhost:8080/"
        },
        "outputId": "05c6ca0f-4adb-4c82-b541-c6c039005141"
      },
      "execution_count": 21,
      "outputs": [
        {
          "output_type": "execute_result",
          "data": {
            "text/plain": [
              "Dataset({\n",
              "    features: ['image', 'label'],\n",
              "    num_rows: 22716\n",
              "})"
            ]
          },
          "metadata": {},
          "execution_count": 21
        }
      ]
    },
    {
      "cell_type": "code",
      "source": [
        "for i in range(0,5):\n",
        "    sample = ds_imgs[i]\n",
        "    img = sample[\"image\"]\n",
        "    filename = os.path.basename(img.filename)\n",
        "    print(f\"File Name: {filename}\")"
      ],
      "metadata": {
        "id": "LI8vGBBvXjE6",
        "colab": {
          "base_uri": "https://localhost:8080/"
        },
        "outputId": "155e3030-bbe4-4cc0-ffed-488d0918f7ba"
      },
      "execution_count": 22,
      "outputs": [
        {
          "output_type": "stream",
          "name": "stdout",
          "text": [
            "File Name: apple_pie_103_3.jpg\n",
            "File Name: apple_pie_105_3.jpg\n",
            "File Name: apple_pie_107_3.jpg\n",
            "File Name: apple_pie_10_3.jpg\n",
            "File Name: apple_pie_119_3.jpg\n"
          ]
        }
      ]
    },
    {
      "cell_type": "code",
      "source": [
        "all_indices = range(len(ds_imgs))\n",
        "print(all_indices)"
      ],
      "metadata": {
        "id": "BUMZ6PnAlDII",
        "colab": {
          "base_uri": "https://localhost:8080/"
        },
        "outputId": "3a7063a4-69aa-45ef-f2fc-03f9cf88a2c4"
      },
      "execution_count": 23,
      "outputs": [
        {
          "output_type": "stream",
          "name": "stdout",
          "text": [
            "range(0, 22716)\n"
          ]
        }
      ]
    },
    {
      "cell_type": "code",
      "source": [
        "remaining_indices = [idx for idx in all_indices if idx not in selected_indices]"
      ],
      "metadata": {
        "id": "ua1ndJDRlEHq"
      },
      "execution_count": 24,
      "outputs": []
    },
    {
      "cell_type": "code",
      "source": [
        "# remaining_indices"
      ],
      "metadata": {
        "id": "2Ow4V9M4mYc0"
      },
      "execution_count": 25,
      "outputs": []
    },
    {
      "cell_type": "code",
      "source": [
        "missing_ds = ds_imgs.select(remaining_indices)"
      ],
      "metadata": {
        "id": "4CclYb-QlEaf"
      },
      "execution_count": 26,
      "outputs": []
    },
    {
      "cell_type": "code",
      "source": [
        "missing_ds"
      ],
      "metadata": {
        "id": "nc4qLVlOlDbW",
        "colab": {
          "base_uri": "https://localhost:8080/"
        },
        "outputId": "a5d6181a-1da7-4fb3-9c68-df8e2f126e62"
      },
      "execution_count": 27,
      "outputs": [
        {
          "output_type": "execute_result",
          "data": {
            "text/plain": [
              "Dataset({\n",
              "    features: ['image', 'label'],\n",
              "    num_rows: 20395\n",
              "})"
            ]
          },
          "metadata": {},
          "execution_count": 27
        }
      ]
    },
    {
      "cell_type": "code",
      "source": [
        "# Combine Both Datasets"
      ],
      "metadata": {
        "id": "M_V9NRBjVDyj"
      },
      "execution_count": 28,
      "outputs": []
    },
    {
      "cell_type": "code",
      "source": [
        "ds = concatenate_datasets([fused_ds, missing_ds])"
      ],
      "metadata": {
        "id": "hcI42LE0SxJK"
      },
      "execution_count": 29,
      "outputs": []
    },
    {
      "cell_type": "code",
      "source": [
        "ds"
      ],
      "metadata": {
        "id": "RdXZ8N_mTlp2",
        "colab": {
          "base_uri": "https://localhost:8080/"
        },
        "outputId": "8e4ee353-6deb-43e1-a402-9e76642bf870"
      },
      "execution_count": 30,
      "outputs": [
        {
          "output_type": "execute_result",
          "data": {
            "text/plain": [
              "Dataset({\n",
              "    features: ['image', 'label'],\n",
              "    num_rows: 22716\n",
              "})"
            ]
          },
          "metadata": {},
          "execution_count": 30
        }
      ]
    },
    {
      "cell_type": "markdown",
      "source": [
        "# Pre-Processing and Final Validation Loop"
      ],
      "metadata": {
        "id": "owny-Ab5UDeL"
      }
    },
    {
      "cell_type": "code",
      "source": [
        "labels = ds.features[\"label\"]\n",
        "labels"
      ],
      "metadata": {
        "id": "aWw9vz58Rswv",
        "colab": {
          "base_uri": "https://localhost:8080/"
        },
        "outputId": "0a979ae6-2802-46bd-fee6-08bc304be768"
      },
      "execution_count": 31,
      "outputs": [
        {
          "output_type": "execute_result",
          "data": {
            "text/plain": [
              "ClassLabel(names=['apple_pie', 'baby_back_ribs', 'baklava', 'beef_carpaccio', 'beef_tartare', 'beet_salad', 'beignets', 'bibimbap', 'bread_pudding', 'breakfast_burrito', 'bruschetta', 'caesar_salad', 'cannoli', 'caprese_salad', 'carrot_cake', 'ceviche', 'cheese_plate', 'cheesecake', 'chicken_curry', 'chicken_quesadilla', 'chicken_wings', 'chocolate_cake', 'chocolate_mousse', 'churros', 'clam_chowder', 'club_sandwich', 'crab_cakes', 'creme_brulee', 'croque_madame', 'cup_cakes', 'deviled_eggs', 'donuts', 'dumplings', 'edamame', 'eggs_benedict', 'escargots', 'falafel', 'filet_mignon', 'fish_and_chips', 'foie_gras', 'french_fries', 'french_onion_soup', 'french_toast', 'fried_calamari', 'fried_rice', 'frozen_yogurt', 'garlic_bread', 'gnocchi', 'greek_salad', 'grilled_cheese_sandwich', 'grilled_salmon', 'guacamole', 'gyoza', 'hamburger', 'hot_and_sour_soup', 'hot_dog', 'huevos_rancheros', 'hummus', 'ice_cream', 'lasagna', 'lobster_bisque', 'lobster_roll_sandwich', 'macaroni_and_cheese', 'macarons', 'miso_soup', 'mussels', 'nachos', 'omelette', 'onion_rings', 'oysters', 'pad_thai', 'paella', 'pancakes', 'panna_cotta', 'peking_duck', 'pho', 'pizza', 'pork_chop', 'poutine', 'prime_rib', 'pulled_pork_sandwich', 'ramen', 'ravioli', 'red_velvet_cake', 'risotto', 'samosa', 'sashimi', 'scallops', 'seaweed_salad', 'shrimp_and_grits', 'spaghetti_bolognese', 'spaghetti_carbonara', 'spring_rolls', 'steak', 'strawberry_shortcake', 'sushi', 'tacos', 'takoyaki', 'tiramisu', 'tuna_tartare', 'waffles'], id=None)"
            ]
          },
          "metadata": {},
          "execution_count": 31
        }
      ]
    },
    {
      "cell_type": "code",
      "source": [
        "labels.int2str(ds[532][\"label\"])"
      ],
      "metadata": {
        "id": "Pcsmrr7CRs2U",
        "colab": {
          "base_uri": "https://localhost:8080/",
          "height": 35
        },
        "outputId": "5e5f0ab2-b314-4122-edfa-d45fff1f4aa1"
      },
      "execution_count": 32,
      "outputs": [
        {
          "output_type": "execute_result",
          "data": {
            "text/plain": [
              "'churros'"
            ],
            "application/vnd.google.colaboratory.intrinsic+json": {
              "type": "string"
            }
          },
          "metadata": {},
          "execution_count": 32
        }
      ]
    },
    {
      "cell_type": "code",
      "source": [
        "def transform(examples):\n",
        "  inputs = image_processor([img.convert(\"RGB\") for img in examples[\"image\"]], return_tensors=\"pt\")\n",
        "  inputs[\"labels\"] = examples[\"label\"]\n",
        "\n",
        "  return inputs"
      ],
      "metadata": {
        "id": "d53u7d5wSFTK"
      },
      "execution_count": 33,
      "outputs": []
    },
    {
      "cell_type": "code",
      "source": [
        "dataset = ds.with_transform(transform)"
      ],
      "metadata": {
        "id": "INvdn194SKrH"
      },
      "execution_count": 34,
      "outputs": []
    },
    {
      "cell_type": "code",
      "source": [
        "dataset"
      ],
      "metadata": {
        "id": "81wgIvz4jnY8",
        "colab": {
          "base_uri": "https://localhost:8080/"
        },
        "outputId": "15be1572-549d-41a1-c0b6-acc9cca46874"
      },
      "execution_count": 35,
      "outputs": [
        {
          "output_type": "execute_result",
          "data": {
            "text/plain": [
              "Dataset({\n",
              "    features: ['image', 'label'],\n",
              "    num_rows: 22716\n",
              "})"
            ]
          },
          "metadata": {},
          "execution_count": 35
        }
      ]
    },
    {
      "cell_type": "code",
      "source": [
        "for item in dataset:\n",
        "  print(item[\"pixel_values\"].shape)\n",
        "  print(item[\"labels\"])\n",
        "  break"
      ],
      "metadata": {
        "id": "xUKMYB72SKy6",
        "colab": {
          "base_uri": "https://localhost:8080/"
        },
        "outputId": "23cbf5e8-39a9-4d9d-f3ef-61801016cdbb"
      },
      "execution_count": 36,
      "outputs": [
        {
          "output_type": "stream",
          "name": "stdout",
          "text": [
            "torch.Size([3, 224, 224])\n",
            "0\n"
          ]
        }
      ]
    },
    {
      "cell_type": "code",
      "source": [
        "labels = ds.features[\"label\"].names\n",
        "labels"
      ],
      "metadata": {
        "id": "qSCm8qtpSK39",
        "colab": {
          "base_uri": "https://localhost:8080/"
        },
        "outputId": "cc4ebb32-180c-4c33-8755-ba61ec2d5fd0"
      },
      "execution_count": 37,
      "outputs": [
        {
          "output_type": "execute_result",
          "data": {
            "text/plain": [
              "['apple_pie',\n",
              " 'baby_back_ribs',\n",
              " 'baklava',\n",
              " 'beef_carpaccio',\n",
              " 'beef_tartare',\n",
              " 'beet_salad',\n",
              " 'beignets',\n",
              " 'bibimbap',\n",
              " 'bread_pudding',\n",
              " 'breakfast_burrito',\n",
              " 'bruschetta',\n",
              " 'caesar_salad',\n",
              " 'cannoli',\n",
              " 'caprese_salad',\n",
              " 'carrot_cake',\n",
              " 'ceviche',\n",
              " 'cheese_plate',\n",
              " 'cheesecake',\n",
              " 'chicken_curry',\n",
              " 'chicken_quesadilla',\n",
              " 'chicken_wings',\n",
              " 'chocolate_cake',\n",
              " 'chocolate_mousse',\n",
              " 'churros',\n",
              " 'clam_chowder',\n",
              " 'club_sandwich',\n",
              " 'crab_cakes',\n",
              " 'creme_brulee',\n",
              " 'croque_madame',\n",
              " 'cup_cakes',\n",
              " 'deviled_eggs',\n",
              " 'donuts',\n",
              " 'dumplings',\n",
              " 'edamame',\n",
              " 'eggs_benedict',\n",
              " 'escargots',\n",
              " 'falafel',\n",
              " 'filet_mignon',\n",
              " 'fish_and_chips',\n",
              " 'foie_gras',\n",
              " 'french_fries',\n",
              " 'french_onion_soup',\n",
              " 'french_toast',\n",
              " 'fried_calamari',\n",
              " 'fried_rice',\n",
              " 'frozen_yogurt',\n",
              " 'garlic_bread',\n",
              " 'gnocchi',\n",
              " 'greek_salad',\n",
              " 'grilled_cheese_sandwich',\n",
              " 'grilled_salmon',\n",
              " 'guacamole',\n",
              " 'gyoza',\n",
              " 'hamburger',\n",
              " 'hot_and_sour_soup',\n",
              " 'hot_dog',\n",
              " 'huevos_rancheros',\n",
              " 'hummus',\n",
              " 'ice_cream',\n",
              " 'lasagna',\n",
              " 'lobster_bisque',\n",
              " 'lobster_roll_sandwich',\n",
              " 'macaroni_and_cheese',\n",
              " 'macarons',\n",
              " 'miso_soup',\n",
              " 'mussels',\n",
              " 'nachos',\n",
              " 'omelette',\n",
              " 'onion_rings',\n",
              " 'oysters',\n",
              " 'pad_thai',\n",
              " 'paella',\n",
              " 'pancakes',\n",
              " 'panna_cotta',\n",
              " 'peking_duck',\n",
              " 'pho',\n",
              " 'pizza',\n",
              " 'pork_chop',\n",
              " 'poutine',\n",
              " 'prime_rib',\n",
              " 'pulled_pork_sandwich',\n",
              " 'ramen',\n",
              " 'ravioli',\n",
              " 'red_velvet_cake',\n",
              " 'risotto',\n",
              " 'samosa',\n",
              " 'sashimi',\n",
              " 'scallops',\n",
              " 'seaweed_salad',\n",
              " 'shrimp_and_grits',\n",
              " 'spaghetti_bolognese',\n",
              " 'spaghetti_carbonara',\n",
              " 'spring_rolls',\n",
              " 'steak',\n",
              " 'strawberry_shortcake',\n",
              " 'sushi',\n",
              " 'tacos',\n",
              " 'takoyaki',\n",
              " 'tiramisu',\n",
              " 'tuna_tartare',\n",
              " 'waffles']"
            ]
          },
          "metadata": {},
          "execution_count": 37
        }
      ]
    },
    {
      "cell_type": "code",
      "source": [
        "import torch\n",
        "\n",
        "def collate_fn(batch):\n",
        "  return {\n",
        "      \"pixel_values\": torch.stack([x[\"pixel_values\"] for x in batch]),\n",
        "      \"labels\": torch.tensor([x[\"labels\"] for x in batch]),\n",
        "  }"
      ],
      "metadata": {
        "id": "NLK2ZaNMSWeO"
      },
      "execution_count": 38,
      "outputs": []
    },
    {
      "cell_type": "code",
      "source": [
        "dataset"
      ],
      "metadata": {
        "id": "fWGtz6DHSW_Z",
        "colab": {
          "base_uri": "https://localhost:8080/"
        },
        "outputId": "f5cb2c7e-51ae-44c2-a178-8b72ebbe6d88"
      },
      "execution_count": 39,
      "outputs": [
        {
          "output_type": "execute_result",
          "data": {
            "text/plain": [
              "Dataset({\n",
              "    features: ['image', 'label'],\n",
              "    num_rows: 22716\n",
              "})"
            ]
          },
          "metadata": {},
          "execution_count": 39
        }
      ]
    },
    {
      "cell_type": "code",
      "source": [
        "from torch.utils.tensorboard import SummaryWriter\n",
        "from torch.optim import AdamW\n",
        "from torch.utils.data import DataLoader"
      ],
      "metadata": {
        "id": "JoC5e4rNSXG6"
      },
      "execution_count": 40,
      "outputs": []
    },
    {
      "cell_type": "code",
      "source": [
        "batch_size = 32"
      ],
      "metadata": {
        "id": "WHwCv8BNQy1Z"
      },
      "execution_count": 41,
      "outputs": []
    },
    {
      "cell_type": "code",
      "source": [
        "valid_dataset_loader = DataLoader(dataset, collate_fn=collate_fn, batch_size=batch_size, shuffle=False)"
      ],
      "metadata": {
        "id": "ksE7LXsjJHV1"
      },
      "execution_count": 42,
      "outputs": []
    },
    {
      "cell_type": "code",
      "source": [
        "model = model.to(device)\n",
        "model.eval()\n",
        "predictions, labels = [], []\n",
        "# valid_loss = 0\n",
        "for batch in valid_dataset_loader:\n",
        "    pixel_values = batch[\"pixel_values\"].to(device)\n",
        "    label_ids = batch[\"labels\"].to(device)\n",
        "\n",
        "    outputs = model(pixel_values=pixel_values, labels=label_ids)\n",
        "\n",
        "    # loss = outputs.loss\n",
        "    # valid_loss += loss.item()\n",
        "\n",
        "    logits = outputs.logits.detach().cpu()\n",
        "\n",
        "    predictions.extend(logits.argmax(dim=-1).tolist())\n",
        "    labels.extend(label_ids.tolist())"
      ],
      "metadata": {
        "id": "Ds5lGgqNTCbT"
      },
      "execution_count": 43,
      "outputs": []
    },
    {
      "cell_type": "code",
      "source": [
        "from sklearn.metrics import accuracy_score, precision_score, recall_score, f1_score, roc_auc_score, confusion_matrix, classification_report\n",
        "\n",
        "accuracy = accuracy_score(labels, predictions)\n",
        "precision = precision_score(labels, predictions, average='weighted')\n",
        "recall = recall_score(labels, predictions, average='weighted')\n",
        "f1 = f1_score(labels, predictions, average='weighted')\n",
        "# AUROC_score = roc_auc_score(labels, predictions)"
      ],
      "metadata": {
        "id": "hXiw87_oSXVu"
      },
      "execution_count": 44,
      "outputs": []
    },
    {
      "cell_type": "code",
      "source": [
        "print(\"Accuracy: \", accuracy)\n",
        "print(\"precision: \", precision)\n",
        "print(\"f1_score: \", f1)\n",
        "print(\"recall\", recall)\n",
        "# print(\"AUROC_score: \", AUROC_score)"
      ],
      "metadata": {
        "id": "9bI8z4cdkY8V",
        "colab": {
          "base_uri": "https://localhost:8080/"
        },
        "outputId": "17dd61b3-d5ff-4d22-fe40-bb07c4954f2a"
      },
      "execution_count": 45,
      "outputs": [
        {
          "output_type": "stream",
          "name": "stdout",
          "text": [
            "Accuracy:  0.7179961260785349\n",
            "precision:  0.7249195494458234\n",
            "f1_score:  0.7185083586280241\n",
            "recall 0.7179961260785349\n"
          ]
        }
      ]
    },
    {
      "cell_type": "code",
      "source": [
        "print(classification_report(labels, predictions))"
      ],
      "metadata": {
        "id": "CN74YVSNmi6C",
        "colab": {
          "base_uri": "https://localhost:8080/"
        },
        "outputId": "0fee6ce4-eb3c-49cc-aba3-e2c819528a91"
      },
      "execution_count": 46,
      "outputs": [
        {
          "output_type": "stream",
          "name": "stdout",
          "text": [
            "              precision    recall  f1-score   support\n",
            "\n",
            "           0       0.59      0.78      0.67       234\n",
            "           1       0.83      0.76      0.79       221\n",
            "           2       0.88      0.83      0.85       226\n",
            "           3       0.76      0.75      0.75       222\n",
            "           4       0.47      0.55      0.51       225\n",
            "           5       0.85      0.78      0.81       224\n",
            "           6       0.61      0.72      0.66       224\n",
            "           7       0.71      0.64      0.68       225\n",
            "           8       0.64      0.72      0.67       226\n",
            "           9       0.70      0.68      0.69       214\n",
            "          10       0.72      0.75      0.74       231\n",
            "          11       0.81      0.82      0.81       227\n",
            "          12       0.69      0.74      0.72       230\n",
            "          13       0.83      0.85      0.84       220\n",
            "          14       0.62      0.67      0.64       231\n",
            "          15       0.67      0.75      0.71       227\n",
            "          16       0.54      0.64      0.58       224\n",
            "          17       0.71      0.73      0.72       233\n",
            "          18       0.80      0.74      0.77       222\n",
            "          19       0.65      0.69      0.67       220\n",
            "          20       0.81      0.89      0.85       219\n",
            "          21       0.73      0.73      0.73       232\n",
            "          22       0.70      0.67      0.69       224\n",
            "          23       0.89      0.81      0.85       230\n",
            "          24       0.82      0.70      0.75       224\n",
            "          25       0.72      0.84      0.78       220\n",
            "          26       0.73      0.71      0.72       221\n",
            "          27       0.84      0.79      0.81       225\n",
            "          28       0.78      0.75      0.76       224\n",
            "          29       0.65      0.73      0.69       228\n",
            "          30       0.94      0.95      0.95       229\n",
            "          31       0.63      0.81      0.71       232\n",
            "          32       0.48      0.50      0.49       228\n",
            "          33       0.77      0.65      0.71       231\n",
            "          34       0.88      0.88      0.88       213\n",
            "          35       0.58      0.52      0.55       202\n",
            "          36       0.78      0.70      0.74       228\n",
            "          37       0.67      0.72      0.69       212\n",
            "          38       0.77      0.61      0.68       208\n",
            "          39       0.54      0.45      0.49       216\n",
            "          40       0.78      0.72      0.75       212\n",
            "          41       0.85      0.81      0.83       223\n",
            "          42       0.85      0.54      0.66       238\n",
            "          43       0.85      0.70      0.77       212\n",
            "          44       0.75      0.66      0.70       229\n",
            "          45       0.61      0.62      0.61       233\n",
            "          46       0.76      0.72      0.74       224\n",
            "          47       0.69      0.64      0.67       234\n",
            "          48       0.83      0.82      0.82       223\n",
            "          49       0.77      0.83      0.79       229\n",
            "          50       0.74      0.79      0.76       225\n",
            "          51       0.85      0.80      0.82       228\n",
            "          52       0.65      0.67      0.66       232\n",
            "          53       0.54      0.52      0.53       233\n",
            "          54       0.55      0.60      0.57       203\n",
            "          55       0.49      0.56      0.53       234\n",
            "          56       0.65      0.76      0.70       223\n",
            "          57       0.70      0.76      0.73       234\n",
            "          58       0.47      0.59      0.52       232\n",
            "          59       0.83      0.77      0.80       233\n",
            "          60       0.67      0.70      0.68       197\n",
            "          61       0.47      0.45      0.46       215\n",
            "          62       0.78      0.66      0.72       238\n",
            "          63       0.81      0.83      0.82       231\n",
            "          64       0.64      0.78      0.70       227\n",
            "          65       0.95      0.79      0.86       234\n",
            "          66       0.77      0.83      0.80       224\n",
            "          67       0.70      0.77      0.73       231\n",
            "          68       0.85      0.78      0.81       217\n",
            "          69       0.75      0.54      0.63       223\n",
            "          70       0.82      0.74      0.78       230\n",
            "          71       0.92      0.74      0.82       228\n",
            "          72       0.77      0.75      0.76       234\n",
            "          73       0.73      0.84      0.78       225\n",
            "          74       0.63      0.63      0.63       211\n",
            "          75       0.83      0.65      0.73       218\n",
            "          76       0.71      0.84      0.77       235\n",
            "          77       0.67      0.64      0.65       227\n",
            "          78       0.67      0.74      0.70       210\n",
            "          79       0.84      0.83      0.83       220\n",
            "          80       0.80      0.82      0.81       224\n",
            "          81       0.65      0.62      0.64       232\n",
            "          82       0.57      0.65      0.61       236\n",
            "          83       0.78      0.79      0.79       227\n",
            "          84       0.71      0.64      0.67       236\n",
            "          85       0.77      0.73      0.75       215\n",
            "          86       0.63      0.43      0.51       226\n",
            "          87       0.69      0.69      0.69       228\n",
            "          88       0.57      0.79      0.66       219\n",
            "          89       0.66      0.68      0.67       228\n",
            "          90       0.92      0.84      0.87       213\n",
            "          91       0.89      0.86      0.87       218\n",
            "          92       0.79      0.83      0.81       230\n",
            "          93       0.63      0.47      0.54       229\n",
            "          94       0.81      0.80      0.81       223\n",
            "          95       0.75      0.73      0.74       237\n",
            "          96       0.70      0.69      0.69       233\n",
            "          97       0.68      0.79      0.73       223\n",
            "          98       0.83      0.78      0.81       232\n",
            "          99       0.61      0.64      0.63       211\n",
            "         100       0.83      0.82      0.82       235\n",
            "\n",
            "    accuracy                           0.72     22716\n",
            "   macro avg       0.72      0.72      0.72     22716\n",
            "weighted avg       0.72      0.72      0.72     22716\n",
            "\n"
          ]
        }
      ]
    },
    {
      "cell_type": "code",
      "source": [
        "cm = confusion_matrix(labels, predictions)\n",
        "print(cm)"
      ],
      "metadata": {
        "id": "n245g_YoVnpE",
        "colab": {
          "base_uri": "https://localhost:8080/"
        },
        "outputId": "3c0a0a15-1256-4865-f977-e72e05c38aec"
      },
      "execution_count": 47,
      "outputs": [
        {
          "output_type": "stream",
          "name": "stdout",
          "text": [
            "[[182   1   1 ...   1   0   2]\n",
            " [  0 167   0 ...   0   0   1]\n",
            " [  8   0 187 ...   0   0   1]\n",
            " ...\n",
            " [  2   0   1 ... 182   0   0]\n",
            " [  1   0   0 ...   0 136   0]\n",
            " [  6   0   0 ...   1   0 192]]\n"
          ]
        }
      ]
    },
    {
      "cell_type": "markdown",
      "source": [
        "# Joint Representation Experiment\n"
      ],
      "metadata": {
        "id": "xdGUx2tqa9Ka"
      }
    },
    {
      "cell_type": "code",
      "source": [
        "from datasets import load_dataset\n",
        "\n",
        "ds = load_dataset(\"imagefolder\", data_dir=\"/content/MMLearning/data/food-101/flip/multimodal_img_et_flip/test\", split=\"train\")"
      ],
      "metadata": {
        "id": "B86BkdmibHqX"
      },
      "execution_count": null,
      "outputs": []
    },
    {
      "cell_type": "code",
      "source": [
        "ds"
      ],
      "metadata": {
        "id": "ScMq-RSrbfv-"
      },
      "execution_count": null,
      "outputs": []
    },
    {
      "cell_type": "code",
      "source": [
        "# Use _3.png for Filtering out Encoded Images\n",
        "# Use _4.png for Filtering out Just Images\n",
        "\n",
        "import os\n",
        "def filter_funtion(example):\n",
        "    img = example[\"image\"]\n",
        "    filename = os.path.basename(img.filename)\n",
        "\n",
        "    return filename.endswith(\"_3.jpg\")"
      ],
      "metadata": {
        "id": "N7odOyUDbgm3"
      },
      "execution_count": null,
      "outputs": []
    },
    {
      "cell_type": "code",
      "source": [
        "ds_3 = ds.filter(filter_funtion)"
      ],
      "metadata": {
        "id": "ZEKEZa54bgyy"
      },
      "execution_count": null,
      "outputs": []
    },
    {
      "cell_type": "code",
      "source": [
        "ds_3"
      ],
      "metadata": {
        "id": "J1MpL2Y-bg89"
      },
      "execution_count": null,
      "outputs": []
    },
    {
      "cell_type": "code",
      "source": [
        "for i in range(0,5):\n",
        "    sample = ds_3[i]\n",
        "    img = sample[\"image\"]\n",
        "    filename = os.path.basename(img.filename)\n",
        "    print(f\"File Name: {filename}\")"
      ],
      "metadata": {
        "id": "oHdCk9fdboTu"
      },
      "execution_count": null,
      "outputs": []
    },
    {
      "cell_type": "markdown",
      "source": [
        "Image Dataset"
      ],
      "metadata": {
        "id": "pUR98hM6cShO"
      }
    },
    {
      "cell_type": "code",
      "source": [
        "# Use _3.png for Filtering out Encoded Images\n",
        "# Use _4.png for Filtering out Just Images\n",
        "\n",
        "import os\n",
        "def filter_funtion(example):\n",
        "    img = example[\"image\"]\n",
        "    filename = os.path.basename(img.filename)\n",
        "\n",
        "    return  filename.endswith(\"_4.jpg\")"
      ],
      "metadata": {
        "id": "CrYlTFWrbybS"
      },
      "execution_count": null,
      "outputs": []
    },
    {
      "cell_type": "code",
      "source": [
        "ds_4 = ds.filter(filter_funtion)"
      ],
      "metadata": {
        "id": "EQE1Pa3qb0C7"
      },
      "execution_count": null,
      "outputs": []
    },
    {
      "cell_type": "code",
      "source": [
        "ds_4"
      ],
      "metadata": {
        "id": "764v9riwb0XK"
      },
      "execution_count": null,
      "outputs": []
    },
    {
      "cell_type": "code",
      "source": [
        "for i in range(0,5):\n",
        "    sample = ds_4[i]\n",
        "    img = sample[\"image\"]\n",
        "    filename = os.path.basename(img.filename)\n",
        "    print(f\"File Name: {filename}\")"
      ],
      "metadata": {
        "id": "dy8VGOCKb5sB"
      },
      "execution_count": null,
      "outputs": []
    },
    {
      "cell_type": "markdown",
      "source": [
        "Pre-processing"
      ],
      "metadata": {
        "id": "1XTcE425cgcs"
      }
    },
    {
      "cell_type": "code",
      "source": [
        "labels = ds.features[\"label\"]\n",
        "labels"
      ],
      "metadata": {
        "id": "1f2eWYYfcJLh"
      },
      "execution_count": null,
      "outputs": []
    },
    {
      "cell_type": "code",
      "source": [
        "labels.int2str(ds[532][\"label\"])"
      ],
      "metadata": {
        "id": "AqH9DebleBIb"
      },
      "execution_count": null,
      "outputs": []
    },
    {
      "cell_type": "code",
      "source": [
        "def transform(examples):\n",
        "  inputs = image_processor([img.convert(\"RGB\") for img in examples[\"image\"]], return_tensors=\"pt\")\n",
        "  inputs[\"labels\"] = examples[\"label\"]\n",
        "\n",
        "  return inputs"
      ],
      "metadata": {
        "id": "TmpnCkjweBP2"
      },
      "execution_count": null,
      "outputs": []
    },
    {
      "cell_type": "code",
      "source": [
        "dataset_3 = ds_3.with_transform(transform)\n",
        "dataset_4 = ds_4.with_transform(transform)"
      ],
      "metadata": {
        "id": "nY0BnBoyeBSK"
      },
      "execution_count": null,
      "outputs": []
    },
    {
      "cell_type": "code",
      "source": [
        "dataset_3"
      ],
      "metadata": {
        "id": "o_n2ntAbeBVE"
      },
      "execution_count": null,
      "outputs": []
    },
    {
      "cell_type": "code",
      "source": [
        "dataset_4"
      ],
      "metadata": {
        "id": "mNLEFNFgeqwp"
      },
      "execution_count": null,
      "outputs": []
    },
    {
      "cell_type": "code",
      "source": [
        "for item in dataset_4:\n",
        "  print(item[\"pixel_values\"].shape)\n",
        "  print(item[\"labels\"])\n",
        "  break"
      ],
      "metadata": {
        "id": "V6yuQT1XeBXd"
      },
      "execution_count": null,
      "outputs": []
    },
    {
      "cell_type": "code",
      "source": [
        "labels = ds.features[\"label\"].names\n",
        "labels"
      ],
      "metadata": {
        "id": "lKgSfme0eMuM"
      },
      "execution_count": null,
      "outputs": []
    },
    {
      "cell_type": "code",
      "source": [
        "num_of_classes = len(labels)\n",
        "print(num_of_classes)"
      ],
      "metadata": {
        "id": "_EFVx_SEF0MI"
      },
      "execution_count": null,
      "outputs": []
    },
    {
      "cell_type": "code",
      "source": [
        "import torch\n",
        "\n",
        "def collate_fn(batch):\n",
        "  return {\n",
        "      \"pixel_values\": torch.stack([x[\"pixel_values\"] for x in batch]),\n",
        "      \"labels\": torch.tensor([x[\"labels\"] for x in batch]),\n",
        "  }"
      ],
      "metadata": {
        "id": "AJT_xQ0SeM0m"
      },
      "execution_count": null,
      "outputs": []
    },
    {
      "cell_type": "code",
      "source": [
        "from torch.utils.tensorboard import SummaryWriter\n",
        "from torch.optim import AdamW\n",
        "from torch.utils.data import DataLoader"
      ],
      "metadata": {
        "id": "hRVTRPm-eM2v"
      },
      "execution_count": null,
      "outputs": []
    },
    {
      "cell_type": "code",
      "source": [
        "batch_size = 32"
      ],
      "metadata": {
        "id": "OxwpjW_teM5j"
      },
      "execution_count": null,
      "outputs": []
    },
    {
      "cell_type": "code",
      "source": [
        "valid_dataset_loader_4 = DataLoader(dataset_4, collate_fn=collate_fn, batch_size=batch_size, shuffle=False)"
      ],
      "metadata": {
        "id": "onzQrvN6eM8D"
      },
      "execution_count": null,
      "outputs": []
    },
    {
      "cell_type": "code",
      "source": [
        "print(len(valid_dataset_loader_4))"
      ],
      "metadata": {
        "id": "wkJmRB0pe2sW"
      },
      "execution_count": null,
      "outputs": []
    },
    {
      "cell_type": "code",
      "source": [
        "valid_dataset_loader_3 = DataLoader(dataset_3, collate_fn=collate_fn, batch_size=batch_size, shuffle=False)"
      ],
      "metadata": {
        "id": "z7SpP_D5eM-y"
      },
      "execution_count": null,
      "outputs": []
    },
    {
      "cell_type": "code",
      "source": [
        "print(len(valid_dataset_loader_3))"
      ],
      "metadata": {
        "id": "Or8io6aUe5ol"
      },
      "execution_count": null,
      "outputs": []
    },
    {
      "cell_type": "code",
      "source": [
        "num_batches = len(valid_dataset_loader_3)\n",
        "num_batches_with_logits_3 = int(num_batches * 1)  # ___% of batches that you want to include (30 for now)\n",
        "print(\"Total Batches: \", num_batches)\n",
        "print(\"Missing Modaility Batches: \", num_batches_with_logits_3)"
      ],
      "metadata": {
        "id": "yY3YYjzjgCRN"
      },
      "execution_count": null,
      "outputs": []
    },
    {
      "cell_type": "markdown",
      "source": [
        "Validation Loops"
      ],
      "metadata": {
        "id": "wDJkPXJRfQgm"
      }
    },
    {
      "cell_type": "code",
      "source": [
        "model = model.to(device)\n",
        "model.eval()\n",
        "predictions_4, labels_4 = [], []\n",
        "for batch in valid_dataset_loader_4:\n",
        "    pixel_values = batch[\"pixel_values\"].to(device)\n",
        "    label_ids = batch[\"labels\"].to(device)\n",
        "\n",
        "    outputs = model(pixel_values=pixel_values, labels=label_ids)\n",
        "\n",
        "    logits = outputs.logits.detach().cpu()\n",
        "    probabilities = torch.softmax(logits, dim=1)\n",
        "\n",
        "    predictions_4.extend(probabilities.cpu().numpy())\n",
        "    labels_4.extend(label_ids.cpu().numpy())"
      ],
      "metadata": {
        "id": "osUo3G54fSMW"
      },
      "execution_count": null,
      "outputs": []
    },
    {
      "cell_type": "code",
      "source": [
        "predictions_3 = []\n",
        "batch_idx = 0\n",
        "for batch in valid_dataset_loader_3:\n",
        "    pixel_values = batch[\"pixel_values\"].to(device)\n",
        "    label_ids = batch[\"labels\"].to(device)\n",
        "\n",
        "    if batch_idx < num_batches_with_logits_3:\n",
        "        outputs = model(pixel_values=pixel_values, labels=label_ids)\n",
        "        logits = outputs.logits.detach().cpu()\n",
        "    else:\n",
        "        length = len(label_ids)\n",
        "        logits = torch.zeros((length, num_of_classes), device=\"cpu\")\n",
        "\n",
        "    probabilities = torch.softmax(logits, dim=1)\n",
        "    predictions_3.extend(probabilities.cpu().numpy())\n",
        "    batch_idx = batch_idx + 1"
      ],
      "metadata": {
        "id": "N0O7uNd-f9cv"
      },
      "execution_count": null,
      "outputs": []
    },
    {
      "cell_type": "code",
      "source": [
        "import numpy as np\n",
        "predictions_3 = np.array(predictions_3)\n",
        "predictions_4 = np.array(predictions_4)"
      ],
      "metadata": {
        "id": "5qObdWfQLDtj"
      },
      "execution_count": null,
      "outputs": []
    },
    {
      "cell_type": "code",
      "source": [
        "predictions_avg = (predictions_3 + predictions_4) / 2\n",
        "predictions = np.argmax(predictions_avg, axis=1)"
      ],
      "metadata": {
        "id": "7shZhLX6qcIv"
      },
      "execution_count": null,
      "outputs": []
    },
    {
      "cell_type": "code",
      "source": [
        "predictions = np.array(predictions)\n",
        "labels = np.array(labels_4)"
      ],
      "metadata": {
        "id": "uE8xVnf8J5bT"
      },
      "execution_count": null,
      "outputs": []
    },
    {
      "cell_type": "code",
      "source": [
        "from sklearn.metrics import accuracy_score, precision_score, recall_score, f1_score, roc_auc_score, confusion_matrix, classification_report\n",
        "\n",
        "accuracy = accuracy_score(labels, predictions)\n",
        "precision = precision_score(labels, predictions, average='weighted')\n",
        "recall = recall_score(labels, predictions, average='weighted')\n",
        "f1 = f1_score(labels, predictions, average='weighted')\n",
        "# AUROC_score = roc_auc_score(labels, predictions)"
      ],
      "metadata": {
        "id": "_Rbze9TNiMLk"
      },
      "execution_count": null,
      "outputs": []
    },
    {
      "cell_type": "code",
      "source": [
        "print(\"Accuracy: \", accuracy)\n",
        "print(\"precision: \", precision)\n",
        "print(\"f1_score: \", f1)\n",
        "print(\"recall\", recall)\n",
        "# print(\"AUROC_score: \", AUROC_score)"
      ],
      "metadata": {
        "id": "NJ87fn9Tiihg"
      },
      "execution_count": null,
      "outputs": []
    },
    {
      "cell_type": "code",
      "source": [
        "print(classification_report(labels, predictions))"
      ],
      "metadata": {
        "id": "XIh6vBhAijAd"
      },
      "execution_count": null,
      "outputs": []
    },
    {
      "cell_type": "code",
      "source": [
        "cm = confusion_matrix(labels, predictions)\n",
        "print(cm)"
      ],
      "metadata": {
        "id": "357ijdMlindC"
      },
      "execution_count": null,
      "outputs": []
    },
    {
      "cell_type": "code",
      "source": [],
      "metadata": {
        "id": "KYM9hxuEQBZG"
      },
      "execution_count": null,
      "outputs": []
    }
  ],
  "metadata": {
    "colab": {
      "provenance": [],
      "collapsed_sections": [
        "YDcxpk7uWLbk",
        "tNSGzVxwT8id"
      ],
      "include_colab_link": true
    },
    "kernelspec": {
      "display_name": "Python 3",
      "name": "python3"
    },
    "language_info": {
      "name": "python"
    },
    "widgets": {
      "application/vnd.jupyter.widget-state+json": {
        "161b89f948b24268b71da72ff3af99ad": {
          "model_module": "@jupyter-widgets/controls",
          "model_name": "HBoxModel",
          "model_module_version": "1.5.0",
          "state": {
            "_dom_classes": [],
            "_model_module": "@jupyter-widgets/controls",
            "_model_module_version": "1.5.0",
            "_model_name": "HBoxModel",
            "_view_count": null,
            "_view_module": "@jupyter-widgets/controls",
            "_view_module_version": "1.5.0",
            "_view_name": "HBoxView",
            "box_style": "",
            "children": [
              "IPY_MODEL_fc8e79b5ceda45fab9e3fc7de4125b0f",
              "IPY_MODEL_1cccff439d1541c5a28bc9f7456bcf50",
              "IPY_MODEL_880dbb3cb239483cac397c729685fa0c"
            ],
            "layout": "IPY_MODEL_b3e21276adf14617976c47bcb36f9f68"
          }
        },
        "fc8e79b5ceda45fab9e3fc7de4125b0f": {
          "model_module": "@jupyter-widgets/controls",
          "model_name": "HTMLModel",
          "model_module_version": "1.5.0",
          "state": {
            "_dom_classes": [],
            "_model_module": "@jupyter-widgets/controls",
            "_model_module_version": "1.5.0",
            "_model_name": "HTMLModel",
            "_view_count": null,
            "_view_module": "@jupyter-widgets/controls",
            "_view_module_version": "1.5.0",
            "_view_name": "HTMLView",
            "description": "",
            "description_tooltip": null,
            "layout": "IPY_MODEL_7353ce97d57242e7b3b3e4017d5374d1",
            "placeholder": "​",
            "style": "IPY_MODEL_5d9633ab3682434aa5afd779240d34ba",
            "value": "Resolving data files: 100%"
          }
        },
        "1cccff439d1541c5a28bc9f7456bcf50": {
          "model_module": "@jupyter-widgets/controls",
          "model_name": "FloatProgressModel",
          "model_module_version": "1.5.0",
          "state": {
            "_dom_classes": [],
            "_model_module": "@jupyter-widgets/controls",
            "_model_module_version": "1.5.0",
            "_model_name": "FloatProgressModel",
            "_view_count": null,
            "_view_module": "@jupyter-widgets/controls",
            "_view_module_version": "1.5.0",
            "_view_name": "ProgressView",
            "bar_style": "success",
            "description": "",
            "description_tooltip": null,
            "layout": "IPY_MODEL_6a92e391e23b445c9b0644624b226024",
            "max": 22716,
            "min": 0,
            "orientation": "horizontal",
            "style": "IPY_MODEL_62ada612375b4e81828d13a5596088c3",
            "value": 22716
          }
        },
        "880dbb3cb239483cac397c729685fa0c": {
          "model_module": "@jupyter-widgets/controls",
          "model_name": "HTMLModel",
          "model_module_version": "1.5.0",
          "state": {
            "_dom_classes": [],
            "_model_module": "@jupyter-widgets/controls",
            "_model_module_version": "1.5.0",
            "_model_name": "HTMLModel",
            "_view_count": null,
            "_view_module": "@jupyter-widgets/controls",
            "_view_module_version": "1.5.0",
            "_view_name": "HTMLView",
            "description": "",
            "description_tooltip": null,
            "layout": "IPY_MODEL_ad7f21c72d8142dca11a58f95a39d9a8",
            "placeholder": "​",
            "style": "IPY_MODEL_698721290b46456eb4a2083bce051620",
            "value": " 22716/22716 [00:00&lt;00:00, 84271.13it/s]"
          }
        },
        "b3e21276adf14617976c47bcb36f9f68": {
          "model_module": "@jupyter-widgets/base",
          "model_name": "LayoutModel",
          "model_module_version": "1.2.0",
          "state": {
            "_model_module": "@jupyter-widgets/base",
            "_model_module_version": "1.2.0",
            "_model_name": "LayoutModel",
            "_view_count": null,
            "_view_module": "@jupyter-widgets/base",
            "_view_module_version": "1.2.0",
            "_view_name": "LayoutView",
            "align_content": null,
            "align_items": null,
            "align_self": null,
            "border": null,
            "bottom": null,
            "display": null,
            "flex": null,
            "flex_flow": null,
            "grid_area": null,
            "grid_auto_columns": null,
            "grid_auto_flow": null,
            "grid_auto_rows": null,
            "grid_column": null,
            "grid_gap": null,
            "grid_row": null,
            "grid_template_areas": null,
            "grid_template_columns": null,
            "grid_template_rows": null,
            "height": null,
            "justify_content": null,
            "justify_items": null,
            "left": null,
            "margin": null,
            "max_height": null,
            "max_width": null,
            "min_height": null,
            "min_width": null,
            "object_fit": null,
            "object_position": null,
            "order": null,
            "overflow": null,
            "overflow_x": null,
            "overflow_y": null,
            "padding": null,
            "right": null,
            "top": null,
            "visibility": null,
            "width": null
          }
        },
        "7353ce97d57242e7b3b3e4017d5374d1": {
          "model_module": "@jupyter-widgets/base",
          "model_name": "LayoutModel",
          "model_module_version": "1.2.0",
          "state": {
            "_model_module": "@jupyter-widgets/base",
            "_model_module_version": "1.2.0",
            "_model_name": "LayoutModel",
            "_view_count": null,
            "_view_module": "@jupyter-widgets/base",
            "_view_module_version": "1.2.0",
            "_view_name": "LayoutView",
            "align_content": null,
            "align_items": null,
            "align_self": null,
            "border": null,
            "bottom": null,
            "display": null,
            "flex": null,
            "flex_flow": null,
            "grid_area": null,
            "grid_auto_columns": null,
            "grid_auto_flow": null,
            "grid_auto_rows": null,
            "grid_column": null,
            "grid_gap": null,
            "grid_row": null,
            "grid_template_areas": null,
            "grid_template_columns": null,
            "grid_template_rows": null,
            "height": null,
            "justify_content": null,
            "justify_items": null,
            "left": null,
            "margin": null,
            "max_height": null,
            "max_width": null,
            "min_height": null,
            "min_width": null,
            "object_fit": null,
            "object_position": null,
            "order": null,
            "overflow": null,
            "overflow_x": null,
            "overflow_y": null,
            "padding": null,
            "right": null,
            "top": null,
            "visibility": null,
            "width": null
          }
        },
        "5d9633ab3682434aa5afd779240d34ba": {
          "model_module": "@jupyter-widgets/controls",
          "model_name": "DescriptionStyleModel",
          "model_module_version": "1.5.0",
          "state": {
            "_model_module": "@jupyter-widgets/controls",
            "_model_module_version": "1.5.0",
            "_model_name": "DescriptionStyleModel",
            "_view_count": null,
            "_view_module": "@jupyter-widgets/base",
            "_view_module_version": "1.2.0",
            "_view_name": "StyleView",
            "description_width": ""
          }
        },
        "6a92e391e23b445c9b0644624b226024": {
          "model_module": "@jupyter-widgets/base",
          "model_name": "LayoutModel",
          "model_module_version": "1.2.0",
          "state": {
            "_model_module": "@jupyter-widgets/base",
            "_model_module_version": "1.2.0",
            "_model_name": "LayoutModel",
            "_view_count": null,
            "_view_module": "@jupyter-widgets/base",
            "_view_module_version": "1.2.0",
            "_view_name": "LayoutView",
            "align_content": null,
            "align_items": null,
            "align_self": null,
            "border": null,
            "bottom": null,
            "display": null,
            "flex": null,
            "flex_flow": null,
            "grid_area": null,
            "grid_auto_columns": null,
            "grid_auto_flow": null,
            "grid_auto_rows": null,
            "grid_column": null,
            "grid_gap": null,
            "grid_row": null,
            "grid_template_areas": null,
            "grid_template_columns": null,
            "grid_template_rows": null,
            "height": null,
            "justify_content": null,
            "justify_items": null,
            "left": null,
            "margin": null,
            "max_height": null,
            "max_width": null,
            "min_height": null,
            "min_width": null,
            "object_fit": null,
            "object_position": null,
            "order": null,
            "overflow": null,
            "overflow_x": null,
            "overflow_y": null,
            "padding": null,
            "right": null,
            "top": null,
            "visibility": null,
            "width": null
          }
        },
        "62ada612375b4e81828d13a5596088c3": {
          "model_module": "@jupyter-widgets/controls",
          "model_name": "ProgressStyleModel",
          "model_module_version": "1.5.0",
          "state": {
            "_model_module": "@jupyter-widgets/controls",
            "_model_module_version": "1.5.0",
            "_model_name": "ProgressStyleModel",
            "_view_count": null,
            "_view_module": "@jupyter-widgets/base",
            "_view_module_version": "1.2.0",
            "_view_name": "StyleView",
            "bar_color": null,
            "description_width": ""
          }
        },
        "ad7f21c72d8142dca11a58f95a39d9a8": {
          "model_module": "@jupyter-widgets/base",
          "model_name": "LayoutModel",
          "model_module_version": "1.2.0",
          "state": {
            "_model_module": "@jupyter-widgets/base",
            "_model_module_version": "1.2.0",
            "_model_name": "LayoutModel",
            "_view_count": null,
            "_view_module": "@jupyter-widgets/base",
            "_view_module_version": "1.2.0",
            "_view_name": "LayoutView",
            "align_content": null,
            "align_items": null,
            "align_self": null,
            "border": null,
            "bottom": null,
            "display": null,
            "flex": null,
            "flex_flow": null,
            "grid_area": null,
            "grid_auto_columns": null,
            "grid_auto_flow": null,
            "grid_auto_rows": null,
            "grid_column": null,
            "grid_gap": null,
            "grid_row": null,
            "grid_template_areas": null,
            "grid_template_columns": null,
            "grid_template_rows": null,
            "height": null,
            "justify_content": null,
            "justify_items": null,
            "left": null,
            "margin": null,
            "max_height": null,
            "max_width": null,
            "min_height": null,
            "min_width": null,
            "object_fit": null,
            "object_position": null,
            "order": null,
            "overflow": null,
            "overflow_x": null,
            "overflow_y": null,
            "padding": null,
            "right": null,
            "top": null,
            "visibility": null,
            "width": null
          }
        },
        "698721290b46456eb4a2083bce051620": {
          "model_module": "@jupyter-widgets/controls",
          "model_name": "DescriptionStyleModel",
          "model_module_version": "1.5.0",
          "state": {
            "_model_module": "@jupyter-widgets/controls",
            "_model_module_version": "1.5.0",
            "_model_name": "DescriptionStyleModel",
            "_view_count": null,
            "_view_module": "@jupyter-widgets/base",
            "_view_module_version": "1.2.0",
            "_view_name": "StyleView",
            "description_width": ""
          }
        },
        "dcad1a0bf0454128b583ad89cd8fab9f": {
          "model_module": "@jupyter-widgets/controls",
          "model_name": "HBoxModel",
          "model_module_version": "1.5.0",
          "state": {
            "_dom_classes": [],
            "_model_module": "@jupyter-widgets/controls",
            "_model_module_version": "1.5.0",
            "_model_name": "HBoxModel",
            "_view_count": null,
            "_view_module": "@jupyter-widgets/controls",
            "_view_module_version": "1.5.0",
            "_view_name": "HBoxView",
            "box_style": "",
            "children": [
              "IPY_MODEL_ff8492210d4c4a3a98960abacb2924a2",
              "IPY_MODEL_6b6b984ffbeb4e878253851939c930d3",
              "IPY_MODEL_50c3d96f8b1748d8a9e99c862a24ecc8"
            ],
            "layout": "IPY_MODEL_6e76586e8fea4845977bad3e20cd8771"
          }
        },
        "ff8492210d4c4a3a98960abacb2924a2": {
          "model_module": "@jupyter-widgets/controls",
          "model_name": "HTMLModel",
          "model_module_version": "1.5.0",
          "state": {
            "_dom_classes": [],
            "_model_module": "@jupyter-widgets/controls",
            "_model_module_version": "1.5.0",
            "_model_name": "HTMLModel",
            "_view_count": null,
            "_view_module": "@jupyter-widgets/controls",
            "_view_module_version": "1.5.0",
            "_view_name": "HTMLView",
            "description": "",
            "description_tooltip": null,
            "layout": "IPY_MODEL_0b3aea2b1fd24e9d9797bb0ea630f781",
            "placeholder": "​",
            "style": "IPY_MODEL_c29873f19f154f7e8049234d9a688858",
            "value": "Resolving data files: 100%"
          }
        },
        "6b6b984ffbeb4e878253851939c930d3": {
          "model_module": "@jupyter-widgets/controls",
          "model_name": "FloatProgressModel",
          "model_module_version": "1.5.0",
          "state": {
            "_dom_classes": [],
            "_model_module": "@jupyter-widgets/controls",
            "_model_module_version": "1.5.0",
            "_model_name": "FloatProgressModel",
            "_view_count": null,
            "_view_module": "@jupyter-widgets/controls",
            "_view_module_version": "1.5.0",
            "_view_name": "ProgressView",
            "bar_style": "success",
            "description": "",
            "description_tooltip": null,
            "layout": "IPY_MODEL_319ce8303be84750850807f289c4bb9b",
            "max": 45432,
            "min": 0,
            "orientation": "horizontal",
            "style": "IPY_MODEL_cc2db83d8e1c4425b61db8110b5f3ab5",
            "value": 45432
          }
        },
        "50c3d96f8b1748d8a9e99c862a24ecc8": {
          "model_module": "@jupyter-widgets/controls",
          "model_name": "HTMLModel",
          "model_module_version": "1.5.0",
          "state": {
            "_dom_classes": [],
            "_model_module": "@jupyter-widgets/controls",
            "_model_module_version": "1.5.0",
            "_model_name": "HTMLModel",
            "_view_count": null,
            "_view_module": "@jupyter-widgets/controls",
            "_view_module_version": "1.5.0",
            "_view_name": "HTMLView",
            "description": "",
            "description_tooltip": null,
            "layout": "IPY_MODEL_8b5417beea9e4549b03b88e04144ff80",
            "placeholder": "​",
            "style": "IPY_MODEL_5a4403574a414c679ba863d2c9372972",
            "value": " 45432/45432 [00:00&lt;00:00, 164011.53it/s]"
          }
        },
        "6e76586e8fea4845977bad3e20cd8771": {
          "model_module": "@jupyter-widgets/base",
          "model_name": "LayoutModel",
          "model_module_version": "1.2.0",
          "state": {
            "_model_module": "@jupyter-widgets/base",
            "_model_module_version": "1.2.0",
            "_model_name": "LayoutModel",
            "_view_count": null,
            "_view_module": "@jupyter-widgets/base",
            "_view_module_version": "1.2.0",
            "_view_name": "LayoutView",
            "align_content": null,
            "align_items": null,
            "align_self": null,
            "border": null,
            "bottom": null,
            "display": null,
            "flex": null,
            "flex_flow": null,
            "grid_area": null,
            "grid_auto_columns": null,
            "grid_auto_flow": null,
            "grid_auto_rows": null,
            "grid_column": null,
            "grid_gap": null,
            "grid_row": null,
            "grid_template_areas": null,
            "grid_template_columns": null,
            "grid_template_rows": null,
            "height": null,
            "justify_content": null,
            "justify_items": null,
            "left": null,
            "margin": null,
            "max_height": null,
            "max_width": null,
            "min_height": null,
            "min_width": null,
            "object_fit": null,
            "object_position": null,
            "order": null,
            "overflow": null,
            "overflow_x": null,
            "overflow_y": null,
            "padding": null,
            "right": null,
            "top": null,
            "visibility": null,
            "width": null
          }
        },
        "0b3aea2b1fd24e9d9797bb0ea630f781": {
          "model_module": "@jupyter-widgets/base",
          "model_name": "LayoutModel",
          "model_module_version": "1.2.0",
          "state": {
            "_model_module": "@jupyter-widgets/base",
            "_model_module_version": "1.2.0",
            "_model_name": "LayoutModel",
            "_view_count": null,
            "_view_module": "@jupyter-widgets/base",
            "_view_module_version": "1.2.0",
            "_view_name": "LayoutView",
            "align_content": null,
            "align_items": null,
            "align_self": null,
            "border": null,
            "bottom": null,
            "display": null,
            "flex": null,
            "flex_flow": null,
            "grid_area": null,
            "grid_auto_columns": null,
            "grid_auto_flow": null,
            "grid_auto_rows": null,
            "grid_column": null,
            "grid_gap": null,
            "grid_row": null,
            "grid_template_areas": null,
            "grid_template_columns": null,
            "grid_template_rows": null,
            "height": null,
            "justify_content": null,
            "justify_items": null,
            "left": null,
            "margin": null,
            "max_height": null,
            "max_width": null,
            "min_height": null,
            "min_width": null,
            "object_fit": null,
            "object_position": null,
            "order": null,
            "overflow": null,
            "overflow_x": null,
            "overflow_y": null,
            "padding": null,
            "right": null,
            "top": null,
            "visibility": null,
            "width": null
          }
        },
        "c29873f19f154f7e8049234d9a688858": {
          "model_module": "@jupyter-widgets/controls",
          "model_name": "DescriptionStyleModel",
          "model_module_version": "1.5.0",
          "state": {
            "_model_module": "@jupyter-widgets/controls",
            "_model_module_version": "1.5.0",
            "_model_name": "DescriptionStyleModel",
            "_view_count": null,
            "_view_module": "@jupyter-widgets/base",
            "_view_module_version": "1.2.0",
            "_view_name": "StyleView",
            "description_width": ""
          }
        },
        "319ce8303be84750850807f289c4bb9b": {
          "model_module": "@jupyter-widgets/base",
          "model_name": "LayoutModel",
          "model_module_version": "1.2.0",
          "state": {
            "_model_module": "@jupyter-widgets/base",
            "_model_module_version": "1.2.0",
            "_model_name": "LayoutModel",
            "_view_count": null,
            "_view_module": "@jupyter-widgets/base",
            "_view_module_version": "1.2.0",
            "_view_name": "LayoutView",
            "align_content": null,
            "align_items": null,
            "align_self": null,
            "border": null,
            "bottom": null,
            "display": null,
            "flex": null,
            "flex_flow": null,
            "grid_area": null,
            "grid_auto_columns": null,
            "grid_auto_flow": null,
            "grid_auto_rows": null,
            "grid_column": null,
            "grid_gap": null,
            "grid_row": null,
            "grid_template_areas": null,
            "grid_template_columns": null,
            "grid_template_rows": null,
            "height": null,
            "justify_content": null,
            "justify_items": null,
            "left": null,
            "margin": null,
            "max_height": null,
            "max_width": null,
            "min_height": null,
            "min_width": null,
            "object_fit": null,
            "object_position": null,
            "order": null,
            "overflow": null,
            "overflow_x": null,
            "overflow_y": null,
            "padding": null,
            "right": null,
            "top": null,
            "visibility": null,
            "width": null
          }
        },
        "cc2db83d8e1c4425b61db8110b5f3ab5": {
          "model_module": "@jupyter-widgets/controls",
          "model_name": "ProgressStyleModel",
          "model_module_version": "1.5.0",
          "state": {
            "_model_module": "@jupyter-widgets/controls",
            "_model_module_version": "1.5.0",
            "_model_name": "ProgressStyleModel",
            "_view_count": null,
            "_view_module": "@jupyter-widgets/base",
            "_view_module_version": "1.2.0",
            "_view_name": "StyleView",
            "bar_color": null,
            "description_width": ""
          }
        },
        "8b5417beea9e4549b03b88e04144ff80": {
          "model_module": "@jupyter-widgets/base",
          "model_name": "LayoutModel",
          "model_module_version": "1.2.0",
          "state": {
            "_model_module": "@jupyter-widgets/base",
            "_model_module_version": "1.2.0",
            "_model_name": "LayoutModel",
            "_view_count": null,
            "_view_module": "@jupyter-widgets/base",
            "_view_module_version": "1.2.0",
            "_view_name": "LayoutView",
            "align_content": null,
            "align_items": null,
            "align_self": null,
            "border": null,
            "bottom": null,
            "display": null,
            "flex": null,
            "flex_flow": null,
            "grid_area": null,
            "grid_auto_columns": null,
            "grid_auto_flow": null,
            "grid_auto_rows": null,
            "grid_column": null,
            "grid_gap": null,
            "grid_row": null,
            "grid_template_areas": null,
            "grid_template_columns": null,
            "grid_template_rows": null,
            "height": null,
            "justify_content": null,
            "justify_items": null,
            "left": null,
            "margin": null,
            "max_height": null,
            "max_width": null,
            "min_height": null,
            "min_width": null,
            "object_fit": null,
            "object_position": null,
            "order": null,
            "overflow": null,
            "overflow_x": null,
            "overflow_y": null,
            "padding": null,
            "right": null,
            "top": null,
            "visibility": null,
            "width": null
          }
        },
        "5a4403574a414c679ba863d2c9372972": {
          "model_module": "@jupyter-widgets/controls",
          "model_name": "DescriptionStyleModel",
          "model_module_version": "1.5.0",
          "state": {
            "_model_module": "@jupyter-widgets/controls",
            "_model_module_version": "1.5.0",
            "_model_name": "DescriptionStyleModel",
            "_view_count": null,
            "_view_module": "@jupyter-widgets/base",
            "_view_module_version": "1.2.0",
            "_view_name": "StyleView",
            "description_width": ""
          }
        }
      }
    }
  },
  "nbformat": 4,
  "nbformat_minor": 0
}